{
 "cells": [
  {
   "cell_type": "code",
   "execution_count": 1,
   "metadata": {},
   "outputs": [
    {
     "name": "stdout",
     "output_type": "stream",
     "text": [
      "nnsight is not detected. Please install via 'pip install nnsight' for nnsight backend.\n"
     ]
    }
   ],
   "source": [
    "try:\n",
    "    # This library is our indicator that the required installs\n",
    "    # need to be done.\n",
    "    import pyvene as pv\n",
    "\n",
    "except ModuleNotFoundError:\n",
    "    !pip install git+https://github.com/stanfordnlp/pyvene.git"
   ]
  },
  {
   "cell_type": "code",
   "execution_count": 2,
   "metadata": {},
   "outputs": [],
   "source": [
    "import pandas as pd\n",
    "from transformers import (\n",
    "    AutoModelForCausalLM,\n",
    "    AutoTokenizer,\n",
    "    get_linear_schedule_with_warmup,\n",
    ")\n",
    "import torch\n",
    "import random\n",
    "from collections import namedtuple\n",
    "from tqdm import tqdm\n",
    "from sklearn.linear_model import LogisticRegression\n",
    "from sklearn.metrics import f1_score"
   ]
  },
  {
   "cell_type": "code",
   "execution_count": 3,
   "metadata": {},
   "outputs": [
    {
     "data": {
      "application/vnd.jupyter.widget-view+json": {
       "model_id": "0da785b7f9354cfd87ba32c1152c126d",
       "version_major": 2,
       "version_minor": 0
      },
      "text/plain": [
       "config.json:   0%|          | 0.00/569 [00:00<?, ?B/s]"
      ]
     },
     "metadata": {},
     "output_type": "display_data"
    },
    {
     "data": {
      "application/vnd.jupyter.widget-view+json": {
       "model_id": "1493aac727434cdc88b84574d7144197",
       "version_major": 2,
       "version_minor": 0
      },
      "text/plain": [
       "model.safetensors:   0%|          | 0.00/375M [00:00<?, ?B/s]"
      ]
     },
     "metadata": {},
     "output_type": "display_data"
    }
   ],
   "source": [
    "device = \"cuda:0\" if torch.cuda.is_available() else \"cpu\"\n",
    "model_size = \"160m\"\n",
    "model = f\"EleutherAI/pythia-{model_size}\"  # \"EleutherAI/pythia-6.9B\"\n",
    "tokenizer = AutoTokenizer.from_pretrained(model)\n",
    "tokenizer.pad_token = tokenizer.eos_token\n",
    "gpt = AutoModelForCausalLM.from_pretrained(\n",
    "    model,\n",
    "    revision=\"main\",\n",
    "    torch_dtype=torch.bfloat16 if model == \"EleutherAI/pythia-6.9b\" else torch.float32,\n",
    ").to(device)"
   ]
  },
  {
   "cell_type": "code",
   "execution_count": 4,
   "metadata": {},
   "outputs": [],
   "source": [
    "needs_and_rooms = [\n",
    "    (\"hungry\", \"kitchen\"),\n",
    "    (\"tired\", \"bedroom\"),\n",
    "    (\"bored\", \"garden\"),\n",
    "]"
   ]
  },
  {
   "cell_type": "code",
   "execution_count": 5,
   "metadata": {},
   "outputs": [
    {
     "name": "stdout",
     "output_type": "stream",
     "text": [
      "<|endoftext|>Ryan is bored. Ryan will go to the\n",
      "<|endoftext|>Henry is tired. Henry will go to the\n",
      " garden\n",
      " bedroom\n"
     ]
    }
   ],
   "source": [
    "Example = namedtuple(\"Example\", [\"base\", \"src\", \"base_label\", \"src_label\"])\n",
    "\n",
    "names = [\n",
    "    \"Donald\",\n",
    "    \"Gary\",\n",
    "    \"Deborah\",\n",
    "    \"Nancy\",\n",
    "    \"Diane\",\n",
    "    \"Peter\",\n",
    "    \"Kevin\",\n",
    "    \"Daniel\",\n",
    "    \"Roger\",\n",
    "    \"Ralph\",\n",
    "    \"Linda\",\n",
    "    \"Keith\",\n",
    "    \"Paul\",\n",
    "    \"Willie\",\n",
    "    \"Denise\",\n",
    "    \"Marie\",\n",
    "    \"Terry\",\n",
    "    \"Kayla\",\n",
    "    \"Elizabeth\",\n",
    "    \"Kelly\",\n",
    "    \"Gabriel\",\n",
    "    \"Cynthia\",\n",
    "    \"Joseph\",\n",
    "    \"Harold\",\n",
    "    \"Frances\",\n",
    "    \"Andrew\",\n",
    "    \"Alexis\",\n",
    "    \"Bradley\",\n",
    "    \"James\",\n",
    "    \"Thomas\",\n",
    "    \"Jason\",\n",
    "    \"Michael\",\n",
    "    \"Gregory\",\n",
    "    \"Sean\",\n",
    "    \"Vincent\",\n",
    "    \"Justin\",\n",
    "    \"Janet\",\n",
    "    \"Sarah\",\n",
    "    \"Andrea\",\n",
    "    \"Amy\",\n",
    "    \"Joan\",\n",
    "    \"Kimberly\",\n",
    "    \"Natalie\",\n",
    "    \"Gerald\",\n",
    "    \"Edward\",\n",
    "    \"Lisa\",\n",
    "    \"Marilyn\",\n",
    "    \"Ronald\",\n",
    "    \"Victoria\",\n",
    "    \"Eugene\",\n",
    "    \"Christina\",\n",
    "    \"Samantha\",\n",
    "    \"Matthew\",\n",
    "    \"Douglas\",\n",
    "    \"Kenneth\",\n",
    "    \"Sophia\",\n",
    "    \"Barbara\",\n",
    "    \"Margaret\",\n",
    "    \"Hannah\",\n",
    "    \"Ryan\",\n",
    "    \"Megan\",\n",
    "    \"Sandra\",\n",
    "    \"Robert\",\n",
    "    \"Madison\",\n",
    "    \"Carolyn\",\n",
    "    \"Amanda\",\n",
    "    \"Scott\",\n",
    "    \"Anthony\",\n",
    "    \"Mary\",\n",
    "    \"Eric\",\n",
    "    \"William\",\n",
    "    \"Lawrence\",\n",
    "    \"Christian\",\n",
    "    \"Lori\",\n",
    "    \"Henry\",\n",
    "    \"Betty\",\n",
    "    \"Dorothy\",\n",
    "    \"Samuel\",\n",
    "    \"Stephanie\",\n",
    "    \"Teresa\",\n",
    "    \"Nicole\",\n",
    "    \"Julia\",\n",
    "    \"Rebecca\",\n",
    "    \"Mason\",\n",
    "    \"Julie\",\n",
    "    \"Emma\",\n",
    "    \"Jeremy\",\n",
    "    \"Olivia\",\n",
    "    \"Larry\",\n",
    "    \"Juan\",\n",
    "    \"Adam\",\n",
    "    \"Alice\",\n",
    "    \"Amber\",\n",
    "    \"Joe\",\n",
    "    \"Angela\",\n",
    "    \"Sara\",\n",
    "    \"Judy\",\n",
    "    \"Christopher\",\n",
    "    \"Raymond\",\n",
    "    \"Jordan\",\n",
    "    \"Karen\",\n",
    "    \"Stephen\",\n",
    "    \"Kathleen\",\n",
    "    \"Billy\",\n",
    "    \"Rachel\",\n",
    "    \"Diana\",\n",
    "    \"Emily\",\n",
    "    \"Debra\",\n",
    "    \"Roy\",\n",
    "    \"Susan\",\n",
    "    \"Bobby\",\n",
    "    \"Gloria\",\n",
    "    \"Doris\",\n",
    "    \"Patricia\",\n",
    "    \"Ethan\",\n",
    "    \"Bruce\",\n",
    "    \"David\",\n",
    "    \"Richard\",\n",
    "    \"Judith\",\n",
    "    \"Michelle\",\n",
    "    \"Timothy\",\n",
    "    \"Frank\",\n",
    "    \"Philip\",\n",
    "    \"Melissa\",\n",
    "    \"Cheryl\",\n",
    "    \"Isabella\",\n",
    "    \"Jack\",\n",
    "    \"Randy\",\n",
    "    \"Danielle\",\n",
    "    \"Jennifer\",\n",
    "    \"Kyle\",\n",
    "    \"Walter\",\n",
    "    \"Austin\",\n",
    "    \"Janice\",\n",
    "    \"Sharon\",\n",
    "    \"Jean\",\n",
    "    \"Steven\",\n",
    "    \"Russell\",\n",
    "    \"Christine\",\n",
    "    \"Theresa\",\n",
    "    \"Katherine\",\n",
    "    \"Maria\",\n",
    "    \"Jesse\",\n",
    "    \"Ann\",\n",
    "    \"Arthur\",\n",
    "    \"Brandon\",\n",
    "    \"Jose\",\n",
    "    \"Carol\",\n",
    "    \"Jacqueline\",\n",
    "    \"Joyce\",\n",
    "    \"George\",\n",
    "    \"Alexander\",\n",
    "    \"Patrick\",\n",
    "    \"Zachary\",\n",
    "    \"Carl\",\n",
    "    \"Beverly\",\n",
    "    \"Evelyn\",\n",
    "    \"Virginia\",\n",
    "    \"Charlotte\",\n",
    "    \"Jonathan\",\n",
    "    \"Laura\",\n",
    "    \"John\",\n",
    "    \"Charles\",\n",
    "    \"Brian\",\n",
    "    \"Nicholas\",\n",
    "    \"Dylan\",\n",
    "    \"Tyler\",\n",
    "    \"Jeffrey\",\n",
    "    \"Jessica\",\n",
    "    \"Helen\",\n",
    "    \"Logan\",\n",
    "    \"Martha\",\n",
    "    \"Albert\",\n",
    "    \"Jerry\",\n",
    "    \"Nathan\",\n",
    "    \"Brenda\",\n",
    "    \"Ruth\",\n",
    "    \"Donna\",\n",
    "    \"Brittany\",\n",
    "    \"Shirley\",\n",
    "    \"Pamela\",\n",
    "    \"Catherine\",\n",
    "    \"Lauren\",\n",
    "    \"Abigail\",\n",
    "    \"Kathryn\",\n",
    "    \"Noah\",\n",
    "    \"Aaron\",\n",
    "    \"Bryan\",\n",
    "    \"Grace\",\n",
    "    \"Elijah\",\n",
    "    \"Heather\",\n",
    "    \"Alan\",\n",
    "    \"Mark\",\n",
    "    \"Wayne\",\n",
    "    \"Jacob\",\n",
    "    \"Ashley\",\n",
    "    \"Benjamin\",\n",
    "    \"Joshua\",\n",
    "    \"Dennis\",\n",
    "    \"Anna\",\n",
    "]\n",
    "\n",
    "names = [name for name in names if len(tokenizer.tokenize(name)) == 1]\n",
    "\n",
    "\n",
    "def make_pair(tokenizer, base_name, src_name, base_label, src_label):\n",
    "    base = tokenizer(\n",
    "        f\"<|endoftext|>{base_name} is {base_label[0]}. {base_name} will go to the\",\n",
    "        return_tensors=\"pt\",\n",
    "    )\n",
    "    src = tokenizer(\n",
    "        f\"<|endoftext|>{src_name} is {src_label[0]}. {src_name} will go to the\",\n",
    "        return_tensors=\"pt\",\n",
    "    )\n",
    "    base_label = tokenizer.encode(\" \" + base_label[1])[0]\n",
    "    src_label = tokenizer.encode(\" \" + src_label[1])[0]\n",
    "    return Example(base, src, base_label, src_label)\n",
    "\n",
    "\n",
    "def sample_example(tokenizer):\n",
    "    # sample labels (not matching)\n",
    "    base_label = random.choice(needs_and_rooms)\n",
    "    src_label = random.choice(\n",
    "        [tupl for tupl in needs_and_rooms if tupl[0] != base_label[0]]\n",
    "    )\n",
    "\n",
    "    # sample names\n",
    "    base_name = random.choice(names)\n",
    "    src_name = random.choice([name for name in names if name != base_name])\n",
    "\n",
    "    return make_pair(tokenizer, base_name, src_name, base_label, src_label)\n",
    "\n",
    "\n",
    "def create_all_examples(tokenizer):\n",
    "    examples = []\n",
    "    for need_and_room_base in needs_and_rooms:\n",
    "        for need_and_room_src in (\n",
    "            n_a_r for n_a_r in needs_and_rooms if n_a_r != need_and_room_base\n",
    "        ):\n",
    "            for base_name in names:\n",
    "                for src_name in (name for name in names if name != base_name):\n",
    "                    examples.append(\n",
    "                        make_pair(\n",
    "                            tokenizer,\n",
    "                            base_name,\n",
    "                            src_name,\n",
    "                            need_and_room_base,\n",
    "                            need_and_room_src,\n",
    "                        )\n",
    "                    )\n",
    "\n",
    "    return examples\n",
    "\n",
    "\n",
    "example = sample_example(tokenizer)\n",
    "\n",
    "print(tokenizer.decode(example.base.input_ids[0]))\n",
    "print(tokenizer.decode(example.src.input_ids[0]))\n",
    "print(tokenizer.decode(example.base_label))\n",
    "print(tokenizer.decode(example.src_label))\n",
    "\n",
    "\n",
    "# all_examples = create_all_examples(tokenizer)\n",
    "\n",
    "# print(len(all_examples))"
   ]
  },
  {
   "cell_type": "code",
   "execution_count": 6,
   "metadata": {},
   "outputs": [
    {
     "name": "stderr",
     "output_type": "stream",
     "text": [
      "100%|██████████| 150/150 [00:01<00:00, 86.70it/s] \n"
     ]
    }
   ],
   "source": [
    "def generate_n_doable_examples(n, model, tokenizer):\n",
    "    examples = []\n",
    "    iterator = tqdm(range(n))\n",
    "    # data_iterator = iter(all_examples)\n",
    "    while len(examples) < n:\n",
    "        # try:\n",
    "        #     ex = data_iterator.__next__()\n",
    "        # except StopIteration:\n",
    "        #     iterator.write(\n",
    "        #         f\"Not enough doable examples, returning {len(examples)} examples\"\n",
    "        #     )\n",
    "        #     break\n",
    "        ex = sample_example(tokenizer)\n",
    "\n",
    "        for k, v in ex.base.items():\n",
    "            if v is not None and isinstance(v, torch.Tensor):\n",
    "                ex.base[k] = v.to(model.device)\n",
    "        for k, v in ex.src.items():\n",
    "            if v is not None and isinstance(v, torch.Tensor):\n",
    "                ex.src[k] = v.to(model.device)\n",
    "        logits_src = model(**ex.src).logits[0, -1]\n",
    "        if logits_src[ex.src_label] > logits_src[ex.base_label]:\n",
    "            examples.append(ex)\n",
    "            iterator.update(1)\n",
    "    return examples\n",
    "\n",
    "\n",
    "total_steps = 150\n",
    "dataset = generate_n_doable_examples(total_steps, gpt, tokenizer)\n",
    "trainset = dataset[:100]\n",
    "evalset = dataset[100:]"
   ]
  },
  {
   "cell_type": "code",
   "execution_count": 7,
   "metadata": {},
   "outputs": [],
   "source": [
    "def probing_config(intervention_site, layer):\n",
    "    \"\"\"Generate intervention config.\"\"\"\n",
    "\n",
    "    # init\n",
    "    config = pv.IntervenableConfig(\n",
    "        [\n",
    "            {\n",
    "                \"layer\": layer,\n",
    "                \"component\": intervention_site,\n",
    "                \"intervention_type\": pv.CollectIntervention,\n",
    "            }\n",
    "        ]\n",
    "    )\n",
    "    return config"
   ]
  },
  {
   "cell_type": "code",
   "execution_count": 8,
   "metadata": {},
   "outputs": [
    {
     "name": "stdout",
     "output_type": "stream",
     "text": [
      "Label:   garden id:  10329\n",
      "Label:   kitchen id:  8576\n",
      "Label:   bedroom id:  14098\n"
     ]
    }
   ],
   "source": [
    "labels = [\" garden\", \" kitchen\", \" bedroom\"]\n",
    "\n",
    "\n",
    "for label in labels:\n",
    "    print(\"Label: \", label, \"id: \", tokenizer(label).input_ids[0])"
   ]
  },
  {
   "cell_type": "code",
   "execution_count": 9,
   "metadata": {},
   "outputs": [
    {
     "name": "stdout",
     "output_type": "stream",
     "text": [
      "layer: 0, position: 0\n"
     ]
    },
    {
     "name": "stderr",
     "output_type": "stream",
     "text": [
      "100%|██████████| 100/100 [00:00<00:00, 113.09it/s]\n",
      "100%|██████████| 50/50 [00:00<00:00, 104.35it/s]\n"
     ]
    },
    {
     "name": "stdout",
     "output_type": "stream",
     "text": [
      "acc: 34.000%, f1: 0.340\n",
      "layer: 0, position: 1\n"
     ]
    },
    {
     "name": "stderr",
     "output_type": "stream",
     "text": [
      "100%|██████████| 100/100 [00:00<00:00, 110.14it/s]\n",
      "100%|██████████| 50/50 [00:00<00:00, 111.39it/s]\n"
     ]
    },
    {
     "name": "stdout",
     "output_type": "stream",
     "text": [
      "acc: 32.000%, f1: 0.320\n",
      "layer: 0, position: 2\n"
     ]
    },
    {
     "name": "stderr",
     "output_type": "stream",
     "text": [
      "100%|██████████| 100/100 [00:00<00:00, 117.72it/s]\n",
      "100%|██████████| 50/50 [00:00<00:00, 114.07it/s]\n"
     ]
    },
    {
     "name": "stdout",
     "output_type": "stream",
     "text": [
      "acc: 37.000%, f1: 0.370\n",
      "layer: 0, position: 3\n"
     ]
    },
    {
     "name": "stderr",
     "output_type": "stream",
     "text": [
      "100%|██████████| 100/100 [00:00<00:00, 117.08it/s]\n",
      "100%|██████████| 50/50 [00:00<00:00, 109.94it/s]\n"
     ]
    },
    {
     "name": "stdout",
     "output_type": "stream",
     "text": [
      "acc: 100.000%, f1: 1.000\n",
      "layer: 0, position: 4\n"
     ]
    },
    {
     "name": "stderr",
     "output_type": "stream",
     "text": [
      "100%|██████████| 100/100 [00:00<00:00, 106.22it/s]\n",
      "100%|██████████| 50/50 [00:00<00:00, 113.18it/s]\n"
     ]
    },
    {
     "name": "stdout",
     "output_type": "stream",
     "text": [
      "acc: 100.000%, f1: 1.000\n",
      "layer: 0, position: 5\n"
     ]
    },
    {
     "name": "stderr",
     "output_type": "stream",
     "text": [
      "100%|██████████| 100/100 [00:00<00:00, 116.56it/s]\n",
      "100%|██████████| 50/50 [00:00<00:00, 113.66it/s]\n"
     ]
    },
    {
     "name": "stdout",
     "output_type": "stream",
     "text": [
      "acc: 72.000%, f1: 0.720\n",
      "layer: 0, position: 6\n"
     ]
    },
    {
     "name": "stderr",
     "output_type": "stream",
     "text": [
      "100%|██████████| 100/100 [00:00<00:00, 111.06it/s]\n",
      "100%|██████████| 50/50 [00:00<00:00, 114.27it/s]\n"
     ]
    },
    {
     "name": "stdout",
     "output_type": "stream",
     "text": [
      "acc: 100.000%, f1: 1.000\n",
      "layer: 0, position: 7\n"
     ]
    },
    {
     "name": "stderr",
     "output_type": "stream",
     "text": [
      "100%|██████████| 100/100 [00:00<00:00, 118.47it/s]\n",
      "100%|██████████| 50/50 [00:00<00:00, 113.74it/s]\n"
     ]
    },
    {
     "name": "stdout",
     "output_type": "stream",
     "text": [
      "acc: 100.000%, f1: 1.000\n",
      "layer: 0, position: 8\n"
     ]
    },
    {
     "name": "stderr",
     "output_type": "stream",
     "text": [
      "100%|██████████| 100/100 [00:00<00:00, 112.65it/s]\n",
      "100%|██████████| 50/50 [00:00<00:00, 111.80it/s]\n"
     ]
    },
    {
     "name": "stdout",
     "output_type": "stream",
     "text": [
      "acc: 100.000%, f1: 1.000\n",
      "layer: 0, position: 9\n"
     ]
    },
    {
     "name": "stderr",
     "output_type": "stream",
     "text": [
      "100%|██████████| 100/100 [00:00<00:00, 111.98it/s]\n",
      "100%|██████████| 50/50 [00:00<00:00, 112.34it/s]\n"
     ]
    },
    {
     "name": "stdout",
     "output_type": "stream",
     "text": [
      "acc: 97.000%, f1: 0.970\n",
      "layer: 1, position: 0\n"
     ]
    },
    {
     "name": "stderr",
     "output_type": "stream",
     "text": [
      "100%|██████████| 100/100 [00:00<00:00, 115.54it/s]\n",
      "100%|██████████| 50/50 [00:00<00:00, 116.14it/s]\n"
     ]
    },
    {
     "name": "stdout",
     "output_type": "stream",
     "text": [
      "acc: 34.000%, f1: 0.340\n",
      "layer: 1, position: 1\n"
     ]
    },
    {
     "name": "stderr",
     "output_type": "stream",
     "text": [
      "100%|██████████| 100/100 [00:00<00:00, 121.00it/s]\n",
      "100%|██████████| 50/50 [00:00<00:00, 117.67it/s]\n"
     ]
    },
    {
     "name": "stdout",
     "output_type": "stream",
     "text": [
      "acc: 32.000%, f1: 0.320\n",
      "layer: 1, position: 2\n"
     ]
    },
    {
     "name": "stderr",
     "output_type": "stream",
     "text": [
      "100%|██████████| 100/100 [00:00<00:00, 117.48it/s]\n",
      "100%|██████████| 50/50 [00:00<00:00, 115.91it/s]\n"
     ]
    },
    {
     "name": "stdout",
     "output_type": "stream",
     "text": [
      "acc: 29.000%, f1: 0.290\n",
      "layer: 1, position: 3\n"
     ]
    },
    {
     "name": "stderr",
     "output_type": "stream",
     "text": [
      "100%|██████████| 100/100 [00:00<00:00, 121.08it/s]\n",
      "100%|██████████| 50/50 [00:00<00:00, 117.51it/s]\n"
     ]
    },
    {
     "name": "stdout",
     "output_type": "stream",
     "text": [
      "acc: 100.000%, f1: 1.000\n",
      "layer: 1, position: 4\n"
     ]
    },
    {
     "name": "stderr",
     "output_type": "stream",
     "text": [
      "100%|██████████| 100/100 [00:00<00:00, 116.48it/s]\n",
      "100%|██████████| 50/50 [00:00<00:00, 116.19it/s]\n"
     ]
    },
    {
     "name": "stdout",
     "output_type": "stream",
     "text": [
      "acc: 98.000%, f1: 0.980\n",
      "layer: 1, position: 5\n"
     ]
    },
    {
     "name": "stderr",
     "output_type": "stream",
     "text": [
      "100%|██████████| 100/100 [00:00<00:00, 116.07it/s]\n",
      "100%|██████████| 50/50 [00:00<00:00, 103.62it/s]\n"
     ]
    },
    {
     "name": "stdout",
     "output_type": "stream",
     "text": [
      "acc: 74.000%, f1: 0.740\n",
      "layer: 1, position: 6\n"
     ]
    },
    {
     "name": "stderr",
     "output_type": "stream",
     "text": [
      "100%|██████████| 100/100 [00:00<00:00, 108.24it/s]\n",
      "100%|██████████| 50/50 [00:00<00:00, 112.42it/s]\n"
     ]
    },
    {
     "name": "stdout",
     "output_type": "stream",
     "text": [
      "acc: 100.000%, f1: 1.000\n",
      "layer: 1, position: 7\n"
     ]
    },
    {
     "name": "stderr",
     "output_type": "stream",
     "text": [
      "100%|██████████| 100/100 [00:00<00:00, 123.72it/s]\n",
      "100%|██████████| 50/50 [00:00<00:00, 120.49it/s]\n"
     ]
    },
    {
     "name": "stdout",
     "output_type": "stream",
     "text": [
      "acc: 100.000%, f1: 1.000\n",
      "layer: 1, position: 8\n"
     ]
    },
    {
     "name": "stderr",
     "output_type": "stream",
     "text": [
      "100%|██████████| 100/100 [00:00<00:00, 116.90it/s]\n",
      "100%|██████████| 50/50 [00:00<00:00, 116.26it/s]\n"
     ]
    },
    {
     "name": "stdout",
     "output_type": "stream",
     "text": [
      "acc: 100.000%, f1: 1.000\n",
      "layer: 1, position: 9\n"
     ]
    },
    {
     "name": "stderr",
     "output_type": "stream",
     "text": [
      "100%|██████████| 100/100 [00:00<00:00, 116.74it/s]\n",
      "100%|██████████| 50/50 [00:00<00:00, 121.41it/s]\n"
     ]
    },
    {
     "name": "stdout",
     "output_type": "stream",
     "text": [
      "acc: 100.000%, f1: 1.000\n",
      "layer: 2, position: 0\n"
     ]
    },
    {
     "name": "stderr",
     "output_type": "stream",
     "text": [
      "100%|██████████| 100/100 [00:00<00:00, 121.02it/s]\n",
      "100%|██████████| 50/50 [00:00<00:00, 121.51it/s]\n"
     ]
    },
    {
     "name": "stdout",
     "output_type": "stream",
     "text": [
      "acc: 34.000%, f1: 0.340\n",
      "layer: 2, position: 1\n"
     ]
    },
    {
     "name": "stderr",
     "output_type": "stream",
     "text": [
      "100%|██████████| 100/100 [00:00<00:00, 126.40it/s]\n",
      "100%|██████████| 50/50 [00:00<00:00, 119.93it/s]\n"
     ]
    },
    {
     "name": "stdout",
     "output_type": "stream",
     "text": [
      "acc: 32.000%, f1: 0.320\n",
      "layer: 2, position: 2\n"
     ]
    },
    {
     "name": "stderr",
     "output_type": "stream",
     "text": [
      "100%|██████████| 100/100 [00:00<00:00, 120.19it/s]\n",
      "100%|██████████| 50/50 [00:00<00:00, 116.01it/s]\n"
     ]
    },
    {
     "name": "stdout",
     "output_type": "stream",
     "text": [
      "acc: 32.000%, f1: 0.320\n",
      "layer: 2, position: 3\n"
     ]
    },
    {
     "name": "stderr",
     "output_type": "stream",
     "text": [
      "100%|██████████| 100/100 [00:00<00:00, 110.30it/s]\n",
      "100%|██████████| 50/50 [00:00<00:00, 101.63it/s]\n"
     ]
    },
    {
     "name": "stdout",
     "output_type": "stream",
     "text": [
      "acc: 100.000%, f1: 1.000\n",
      "layer: 2, position: 4\n"
     ]
    },
    {
     "name": "stderr",
     "output_type": "stream",
     "text": [
      "100%|██████████| 100/100 [00:00<00:00, 114.92it/s]\n",
      "100%|██████████| 50/50 [00:00<00:00, 115.07it/s]\n"
     ]
    },
    {
     "name": "stdout",
     "output_type": "stream",
     "text": [
      "acc: 100.000%, f1: 1.000\n",
      "layer: 2, position: 5\n"
     ]
    },
    {
     "name": "stderr",
     "output_type": "stream",
     "text": [
      "100%|██████████| 100/100 [00:00<00:00, 118.58it/s]\n",
      "100%|██████████| 50/50 [00:00<00:00, 109.26it/s]\n"
     ]
    },
    {
     "name": "stdout",
     "output_type": "stream",
     "text": [
      "acc: 88.000%, f1: 0.880\n",
      "layer: 2, position: 6\n"
     ]
    },
    {
     "name": "stderr",
     "output_type": "stream",
     "text": [
      "100%|██████████| 100/100 [00:00<00:00, 112.43it/s]\n",
      "100%|██████████| 50/50 [00:00<00:00, 108.19it/s]\n"
     ]
    },
    {
     "name": "stdout",
     "output_type": "stream",
     "text": [
      "acc: 100.000%, f1: 1.000\n",
      "layer: 2, position: 7\n"
     ]
    },
    {
     "name": "stderr",
     "output_type": "stream",
     "text": [
      "100%|██████████| 100/100 [00:00<00:00, 110.06it/s]\n",
      "100%|██████████| 50/50 [00:00<00:00, 101.37it/s]\n"
     ]
    },
    {
     "name": "stdout",
     "output_type": "stream",
     "text": [
      "acc: 100.000%, f1: 1.000\n",
      "layer: 2, position: 8\n"
     ]
    },
    {
     "name": "stderr",
     "output_type": "stream",
     "text": [
      "100%|██████████| 100/100 [00:00<00:00, 110.64it/s]\n",
      "100%|██████████| 50/50 [00:00<00:00, 105.98it/s]\n"
     ]
    },
    {
     "name": "stdout",
     "output_type": "stream",
     "text": [
      "acc: 100.000%, f1: 1.000\n",
      "layer: 2, position: 9\n"
     ]
    },
    {
     "name": "stderr",
     "output_type": "stream",
     "text": [
      "100%|██████████| 100/100 [00:00<00:00, 119.32it/s]\n",
      "100%|██████████| 50/50 [00:00<00:00, 117.10it/s]\n"
     ]
    },
    {
     "name": "stdout",
     "output_type": "stream",
     "text": [
      "acc: 100.000%, f1: 1.000\n",
      "layer: 3, position: 0\n"
     ]
    },
    {
     "name": "stderr",
     "output_type": "stream",
     "text": [
      "100%|██████████| 100/100 [00:00<00:00, 117.88it/s]\n",
      "100%|██████████| 50/50 [00:00<00:00, 115.57it/s]\n"
     ]
    },
    {
     "name": "stdout",
     "output_type": "stream",
     "text": [
      "acc: 34.000%, f1: 0.340\n",
      "layer: 3, position: 1\n"
     ]
    },
    {
     "name": "stderr",
     "output_type": "stream",
     "text": [
      "100%|██████████| 100/100 [00:00<00:00, 111.88it/s]\n",
      "100%|██████████| 50/50 [00:00<00:00, 113.76it/s]\n"
     ]
    },
    {
     "name": "stdout",
     "output_type": "stream",
     "text": [
      "acc: 32.000%, f1: 0.320\n",
      "layer: 3, position: 2\n"
     ]
    },
    {
     "name": "stderr",
     "output_type": "stream",
     "text": [
      "100%|██████████| 100/100 [00:00<00:00, 121.60it/s]\n",
      "100%|██████████| 50/50 [00:00<00:00, 116.13it/s]\n"
     ]
    },
    {
     "name": "stdout",
     "output_type": "stream",
     "text": [
      "acc: 31.000%, f1: 0.310\n",
      "layer: 3, position: 3\n"
     ]
    },
    {
     "name": "stderr",
     "output_type": "stream",
     "text": [
      "100%|██████████| 100/100 [00:00<00:00, 114.34it/s]\n",
      "100%|██████████| 50/50 [00:00<00:00, 110.01it/s]\n"
     ]
    },
    {
     "name": "stdout",
     "output_type": "stream",
     "text": [
      "acc: 100.000%, f1: 1.000\n",
      "layer: 3, position: 4\n"
     ]
    },
    {
     "name": "stderr",
     "output_type": "stream",
     "text": [
      "100%|██████████| 100/100 [00:00<00:00, 120.14it/s]\n",
      "100%|██████████| 50/50 [00:00<00:00, 111.04it/s]\n"
     ]
    },
    {
     "name": "stdout",
     "output_type": "stream",
     "text": [
      "acc: 100.000%, f1: 1.000\n",
      "layer: 3, position: 5\n"
     ]
    },
    {
     "name": "stderr",
     "output_type": "stream",
     "text": [
      "100%|██████████| 100/100 [00:00<00:00, 106.40it/s]\n",
      "100%|██████████| 50/50 [00:00<00:00, 109.70it/s]\n"
     ]
    },
    {
     "name": "stdout",
     "output_type": "stream",
     "text": [
      "acc: 100.000%, f1: 1.000\n",
      "layer: 3, position: 6\n"
     ]
    },
    {
     "name": "stderr",
     "output_type": "stream",
     "text": [
      "100%|██████████| 100/100 [00:00<00:00, 117.23it/s]\n",
      "100%|██████████| 50/50 [00:00<00:00, 113.35it/s]\n"
     ]
    },
    {
     "name": "stdout",
     "output_type": "stream",
     "text": [
      "acc: 100.000%, f1: 1.000\n",
      "layer: 3, position: 7\n"
     ]
    },
    {
     "name": "stderr",
     "output_type": "stream",
     "text": [
      "100%|██████████| 100/100 [00:00<00:00, 108.27it/s]\n",
      "100%|██████████| 50/50 [00:00<00:00, 113.20it/s]\n"
     ]
    },
    {
     "name": "stdout",
     "output_type": "stream",
     "text": [
      "acc: 100.000%, f1: 1.000\n",
      "layer: 3, position: 8\n"
     ]
    },
    {
     "name": "stderr",
     "output_type": "stream",
     "text": [
      "100%|██████████| 100/100 [00:00<00:00, 101.82it/s]\n",
      "100%|██████████| 50/50 [00:00<00:00, 107.42it/s]\n"
     ]
    },
    {
     "name": "stdout",
     "output_type": "stream",
     "text": [
      "acc: 100.000%, f1: 1.000\n",
      "layer: 3, position: 9\n"
     ]
    },
    {
     "name": "stderr",
     "output_type": "stream",
     "text": [
      "100%|██████████| 100/100 [00:00<00:00, 112.45it/s]\n",
      "100%|██████████| 50/50 [00:00<00:00, 113.16it/s]\n"
     ]
    },
    {
     "name": "stdout",
     "output_type": "stream",
     "text": [
      "acc: 100.000%, f1: 1.000\n",
      "layer: 4, position: 0\n"
     ]
    },
    {
     "name": "stderr",
     "output_type": "stream",
     "text": [
      "100%|██████████| 100/100 [00:00<00:00, 125.42it/s]\n",
      "100%|██████████| 50/50 [00:00<00:00, 115.48it/s]\n"
     ]
    },
    {
     "name": "stdout",
     "output_type": "stream",
     "text": [
      "acc: 34.000%, f1: 0.340\n",
      "layer: 4, position: 1\n"
     ]
    },
    {
     "name": "stderr",
     "output_type": "stream",
     "text": [
      "100%|██████████| 100/100 [00:00<00:00, 118.26it/s]\n",
      "100%|██████████| 50/50 [00:00<00:00, 114.38it/s]\n"
     ]
    },
    {
     "name": "stdout",
     "output_type": "stream",
     "text": [
      "acc: 32.000%, f1: 0.320\n",
      "layer: 4, position: 2\n"
     ]
    },
    {
     "name": "stderr",
     "output_type": "stream",
     "text": [
      "100%|██████████| 100/100 [00:00<00:00, 122.36it/s]\n",
      "100%|██████████| 50/50 [00:00<00:00, 117.83it/s]\n"
     ]
    },
    {
     "name": "stdout",
     "output_type": "stream",
     "text": [
      "acc: 32.000%, f1: 0.320\n",
      "layer: 4, position: 3\n"
     ]
    },
    {
     "name": "stderr",
     "output_type": "stream",
     "text": [
      "100%|██████████| 100/100 [00:00<00:00, 124.65it/s]\n",
      "100%|██████████| 50/50 [00:00<00:00, 120.49it/s]\n"
     ]
    },
    {
     "name": "stdout",
     "output_type": "stream",
     "text": [
      "acc: 100.000%, f1: 1.000\n",
      "layer: 4, position: 4\n"
     ]
    },
    {
     "name": "stderr",
     "output_type": "stream",
     "text": [
      "100%|██████████| 100/100 [00:00<00:00, 120.52it/s]\n",
      "100%|██████████| 50/50 [00:00<00:00, 120.62it/s]\n"
     ]
    },
    {
     "name": "stdout",
     "output_type": "stream",
     "text": [
      "acc: 100.000%, f1: 1.000\n",
      "layer: 4, position: 5\n"
     ]
    },
    {
     "name": "stderr",
     "output_type": "stream",
     "text": [
      "100%|██████████| 100/100 [00:00<00:00, 111.89it/s]\n",
      "100%|██████████| 50/50 [00:00<00:00, 106.96it/s]\n"
     ]
    },
    {
     "name": "stdout",
     "output_type": "stream",
     "text": [
      "acc: 100.000%, f1: 1.000\n",
      "layer: 4, position: 6\n"
     ]
    },
    {
     "name": "stderr",
     "output_type": "stream",
     "text": [
      "100%|██████████| 100/100 [00:00<00:00, 115.07it/s]\n",
      "100%|██████████| 50/50 [00:00<00:00, 111.30it/s]\n"
     ]
    },
    {
     "name": "stdout",
     "output_type": "stream",
     "text": [
      "acc: 100.000%, f1: 1.000\n",
      "layer: 4, position: 7\n"
     ]
    },
    {
     "name": "stderr",
     "output_type": "stream",
     "text": [
      "100%|██████████| 100/100 [00:00<00:00, 115.94it/s]\n",
      "100%|██████████| 50/50 [00:00<00:00, 119.28it/s]\n"
     ]
    },
    {
     "name": "stdout",
     "output_type": "stream",
     "text": [
      "acc: 100.000%, f1: 1.000\n",
      "layer: 4, position: 8\n"
     ]
    },
    {
     "name": "stderr",
     "output_type": "stream",
     "text": [
      "100%|██████████| 100/100 [00:00<00:00, 120.92it/s]\n",
      "100%|██████████| 50/50 [00:00<00:00, 119.73it/s]\n"
     ]
    },
    {
     "name": "stdout",
     "output_type": "stream",
     "text": [
      "acc: 100.000%, f1: 1.000\n",
      "layer: 4, position: 9\n"
     ]
    },
    {
     "name": "stderr",
     "output_type": "stream",
     "text": [
      "100%|██████████| 100/100 [00:00<00:00, 120.11it/s]\n",
      "100%|██████████| 50/50 [00:00<00:00, 113.74it/s]\n"
     ]
    },
    {
     "name": "stdout",
     "output_type": "stream",
     "text": [
      "acc: 100.000%, f1: 1.000\n",
      "layer: 5, position: 0\n"
     ]
    },
    {
     "name": "stderr",
     "output_type": "stream",
     "text": [
      "100%|██████████| 100/100 [00:00<00:00, 109.92it/s]\n",
      "100%|██████████| 50/50 [00:00<00:00, 107.64it/s]\n"
     ]
    },
    {
     "name": "stdout",
     "output_type": "stream",
     "text": [
      "acc: 34.000%, f1: 0.340\n",
      "layer: 5, position: 1\n"
     ]
    },
    {
     "name": "stderr",
     "output_type": "stream",
     "text": [
      "100%|██████████| 100/100 [00:00<00:00, 102.18it/s]\n",
      "100%|██████████| 50/50 [00:00<00:00, 118.95it/s]\n"
     ]
    },
    {
     "name": "stdout",
     "output_type": "stream",
     "text": [
      "acc: 32.000%, f1: 0.320\n",
      "layer: 5, position: 2\n"
     ]
    },
    {
     "name": "stderr",
     "output_type": "stream",
     "text": [
      "100%|██████████| 100/100 [00:00<00:00, 105.65it/s]\n",
      "100%|██████████| 50/50 [00:00<00:00, 117.70it/s]\n"
     ]
    },
    {
     "name": "stdout",
     "output_type": "stream",
     "text": [
      "acc: 34.000%, f1: 0.340\n",
      "layer: 5, position: 3\n"
     ]
    },
    {
     "name": "stderr",
     "output_type": "stream",
     "text": [
      "100%|██████████| 100/100 [00:00<00:00, 114.31it/s]\n",
      "100%|██████████| 50/50 [00:00<00:00, 119.73it/s]\n"
     ]
    },
    {
     "name": "stdout",
     "output_type": "stream",
     "text": [
      "acc: 100.000%, f1: 1.000\n",
      "layer: 5, position: 4\n"
     ]
    },
    {
     "name": "stderr",
     "output_type": "stream",
     "text": [
      "100%|██████████| 100/100 [00:00<00:00, 109.58it/s]\n",
      "100%|██████████| 50/50 [00:00<00:00, 112.81it/s]\n"
     ]
    },
    {
     "name": "stdout",
     "output_type": "stream",
     "text": [
      "acc: 100.000%, f1: 1.000\n",
      "layer: 5, position: 5\n"
     ]
    },
    {
     "name": "stderr",
     "output_type": "stream",
     "text": [
      "100%|██████████| 100/100 [00:00<00:00, 125.57it/s]\n",
      "100%|██████████| 50/50 [00:00<00:00, 121.48it/s]\n"
     ]
    },
    {
     "name": "stdout",
     "output_type": "stream",
     "text": [
      "acc: 100.000%, f1: 1.000\n",
      "layer: 5, position: 6\n"
     ]
    },
    {
     "name": "stderr",
     "output_type": "stream",
     "text": [
      "100%|██████████| 100/100 [00:00<00:00, 124.21it/s]\n",
      "100%|██████████| 50/50 [00:00<00:00, 119.03it/s]\n"
     ]
    },
    {
     "name": "stdout",
     "output_type": "stream",
     "text": [
      "acc: 100.000%, f1: 1.000\n",
      "layer: 5, position: 7\n"
     ]
    },
    {
     "name": "stderr",
     "output_type": "stream",
     "text": [
      "100%|██████████| 100/100 [00:00<00:00, 125.24it/s]\n",
      "100%|██████████| 50/50 [00:00<00:00, 120.37it/s]\n"
     ]
    },
    {
     "name": "stdout",
     "output_type": "stream",
     "text": [
      "acc: 100.000%, f1: 1.000\n",
      "layer: 5, position: 8\n"
     ]
    },
    {
     "name": "stderr",
     "output_type": "stream",
     "text": [
      "100%|██████████| 100/100 [00:00<00:00, 119.85it/s]\n",
      "100%|██████████| 50/50 [00:00<00:00, 117.07it/s]\n"
     ]
    },
    {
     "name": "stdout",
     "output_type": "stream",
     "text": [
      "acc: 100.000%, f1: 1.000\n",
      "layer: 5, position: 9\n"
     ]
    },
    {
     "name": "stderr",
     "output_type": "stream",
     "text": [
      "100%|██████████| 100/100 [00:00<00:00, 108.07it/s]\n",
      "100%|██████████| 50/50 [00:00<00:00, 104.23it/s]\n"
     ]
    },
    {
     "name": "stdout",
     "output_type": "stream",
     "text": [
      "acc: 100.000%, f1: 1.000\n",
      "layer: 6, position: 0\n"
     ]
    },
    {
     "name": "stderr",
     "output_type": "stream",
     "text": [
      "100%|██████████| 100/100 [00:00<00:00, 108.15it/s]\n",
      "100%|██████████| 50/50 [00:00<00:00, 102.48it/s]\n"
     ]
    },
    {
     "name": "stdout",
     "output_type": "stream",
     "text": [
      "acc: 34.000%, f1: 0.340\n",
      "layer: 6, position: 1\n"
     ]
    },
    {
     "name": "stderr",
     "output_type": "stream",
     "text": [
      "100%|██████████| 100/100 [00:00<00:00, 111.15it/s]\n",
      "100%|██████████| 50/50 [00:00<00:00, 108.53it/s]\n"
     ]
    },
    {
     "name": "stdout",
     "output_type": "stream",
     "text": [
      "acc: 32.000%, f1: 0.320\n",
      "layer: 6, position: 2\n"
     ]
    },
    {
     "name": "stderr",
     "output_type": "stream",
     "text": [
      "100%|██████████| 100/100 [00:00<00:00, 112.49it/s]\n",
      "100%|██████████| 50/50 [00:00<00:00, 111.50it/s]\n"
     ]
    },
    {
     "name": "stdout",
     "output_type": "stream",
     "text": [
      "acc: 33.000%, f1: 0.330\n",
      "layer: 6, position: 3\n"
     ]
    },
    {
     "name": "stderr",
     "output_type": "stream",
     "text": [
      "100%|██████████| 100/100 [00:00<00:00, 109.78it/s]\n",
      "100%|██████████| 50/50 [00:00<00:00, 110.02it/s]\n"
     ]
    },
    {
     "name": "stdout",
     "output_type": "stream",
     "text": [
      "acc: 100.000%, f1: 1.000\n",
      "layer: 6, position: 4\n"
     ]
    },
    {
     "name": "stderr",
     "output_type": "stream",
     "text": [
      "100%|██████████| 100/100 [00:00<00:00, 112.55it/s]\n",
      "100%|██████████| 50/50 [00:00<00:00, 104.82it/s]\n"
     ]
    },
    {
     "name": "stdout",
     "output_type": "stream",
     "text": [
      "acc: 100.000%, f1: 1.000\n",
      "layer: 6, position: 5\n"
     ]
    },
    {
     "name": "stderr",
     "output_type": "stream",
     "text": [
      "100%|██████████| 100/100 [00:00<00:00, 112.19it/s]\n",
      "100%|██████████| 50/50 [00:00<00:00, 106.92it/s]\n"
     ]
    },
    {
     "name": "stdout",
     "output_type": "stream",
     "text": [
      "acc: 100.000%, f1: 1.000\n",
      "layer: 6, position: 6\n"
     ]
    },
    {
     "name": "stderr",
     "output_type": "stream",
     "text": [
      "100%|██████████| 100/100 [00:00<00:00, 111.25it/s]\n",
      "100%|██████████| 50/50 [00:00<00:00, 108.37it/s]\n"
     ]
    },
    {
     "name": "stdout",
     "output_type": "stream",
     "text": [
      "acc: 100.000%, f1: 1.000\n",
      "layer: 6, position: 7\n"
     ]
    },
    {
     "name": "stderr",
     "output_type": "stream",
     "text": [
      "100%|██████████| 100/100 [00:00<00:00, 111.02it/s]\n",
      "100%|██████████| 50/50 [00:00<00:00, 111.57it/s]\n"
     ]
    },
    {
     "name": "stdout",
     "output_type": "stream",
     "text": [
      "acc: 100.000%, f1: 1.000\n",
      "layer: 6, position: 8\n"
     ]
    },
    {
     "name": "stderr",
     "output_type": "stream",
     "text": [
      "100%|██████████| 100/100 [00:00<00:00, 117.96it/s]\n",
      "100%|██████████| 50/50 [00:00<00:00, 112.73it/s]\n"
     ]
    },
    {
     "name": "stdout",
     "output_type": "stream",
     "text": [
      "acc: 100.000%, f1: 1.000\n",
      "layer: 6, position: 9\n"
     ]
    },
    {
     "name": "stderr",
     "output_type": "stream",
     "text": [
      "100%|██████████| 100/100 [00:00<00:00, 112.94it/s]\n",
      "100%|██████████| 50/50 [00:00<00:00, 110.78it/s]\n"
     ]
    },
    {
     "name": "stdout",
     "output_type": "stream",
     "text": [
      "acc: 100.000%, f1: 1.000\n",
      "layer: 7, position: 0\n"
     ]
    },
    {
     "name": "stderr",
     "output_type": "stream",
     "text": [
      "100%|██████████| 100/100 [00:00<00:00, 117.21it/s]\n",
      "100%|██████████| 50/50 [00:00<00:00, 110.95it/s]\n"
     ]
    },
    {
     "name": "stdout",
     "output_type": "stream",
     "text": [
      "acc: 34.000%, f1: 0.340\n",
      "layer: 7, position: 1\n"
     ]
    },
    {
     "name": "stderr",
     "output_type": "stream",
     "text": [
      "100%|██████████| 100/100 [00:00<00:00, 114.04it/s]\n",
      "100%|██████████| 50/50 [00:00<00:00, 108.90it/s]\n"
     ]
    },
    {
     "name": "stdout",
     "output_type": "stream",
     "text": [
      "acc: 34.000%, f1: 0.340\n",
      "layer: 7, position: 2\n"
     ]
    },
    {
     "name": "stderr",
     "output_type": "stream",
     "text": [
      "100%|██████████| 100/100 [00:00<00:00, 113.80it/s]\n",
      "100%|██████████| 50/50 [00:00<00:00, 113.67it/s]\n"
     ]
    },
    {
     "name": "stdout",
     "output_type": "stream",
     "text": [
      "acc: 33.000%, f1: 0.330\n",
      "layer: 7, position: 3\n"
     ]
    },
    {
     "name": "stderr",
     "output_type": "stream",
     "text": [
      "100%|██████████| 100/100 [00:00<00:00, 117.25it/s]\n",
      "100%|██████████| 50/50 [00:00<00:00, 113.33it/s]\n"
     ]
    },
    {
     "name": "stdout",
     "output_type": "stream",
     "text": [
      "acc: 100.000%, f1: 1.000\n",
      "layer: 7, position: 4\n"
     ]
    },
    {
     "name": "stderr",
     "output_type": "stream",
     "text": [
      "100%|██████████| 100/100 [00:00<00:00, 115.19it/s]\n",
      "100%|██████████| 50/50 [00:00<00:00, 114.44it/s]\n"
     ]
    },
    {
     "name": "stdout",
     "output_type": "stream",
     "text": [
      "acc: 100.000%, f1: 1.000\n",
      "layer: 7, position: 5\n"
     ]
    },
    {
     "name": "stderr",
     "output_type": "stream",
     "text": [
      "100%|██████████| 100/100 [00:00<00:00, 118.27it/s]\n",
      "100%|██████████| 50/50 [00:00<00:00, 113.27it/s]\n"
     ]
    },
    {
     "name": "stdout",
     "output_type": "stream",
     "text": [
      "acc: 100.000%, f1: 1.000\n",
      "layer: 7, position: 6\n"
     ]
    },
    {
     "name": "stderr",
     "output_type": "stream",
     "text": [
      "100%|██████████| 100/100 [00:00<00:00, 113.34it/s]\n",
      "100%|██████████| 50/50 [00:00<00:00, 113.57it/s]\n"
     ]
    },
    {
     "name": "stdout",
     "output_type": "stream",
     "text": [
      "acc: 100.000%, f1: 1.000\n",
      "layer: 7, position: 7\n"
     ]
    },
    {
     "name": "stderr",
     "output_type": "stream",
     "text": [
      "100%|██████████| 100/100 [00:00<00:00, 116.60it/s]\n",
      "100%|██████████| 50/50 [00:00<00:00, 112.97it/s]\n"
     ]
    },
    {
     "name": "stdout",
     "output_type": "stream",
     "text": [
      "acc: 100.000%, f1: 1.000\n",
      "layer: 7, position: 8\n"
     ]
    },
    {
     "name": "stderr",
     "output_type": "stream",
     "text": [
      "100%|██████████| 100/100 [00:00<00:00, 111.97it/s]\n",
      "100%|██████████| 50/50 [00:00<00:00, 104.86it/s]\n"
     ]
    },
    {
     "name": "stdout",
     "output_type": "stream",
     "text": [
      "acc: 100.000%, f1: 1.000\n",
      "layer: 7, position: 9\n"
     ]
    },
    {
     "name": "stderr",
     "output_type": "stream",
     "text": [
      "100%|██████████| 100/100 [00:00<00:00, 113.87it/s]\n",
      "100%|██████████| 50/50 [00:00<00:00, 110.80it/s]\n"
     ]
    },
    {
     "name": "stdout",
     "output_type": "stream",
     "text": [
      "acc: 100.000%, f1: 1.000\n",
      "layer: 8, position: 0\n"
     ]
    },
    {
     "name": "stderr",
     "output_type": "stream",
     "text": [
      "100%|██████████| 100/100 [00:00<00:00, 108.85it/s]\n",
      "100%|██████████| 50/50 [00:00<00:00, 110.03it/s]\n"
     ]
    },
    {
     "name": "stdout",
     "output_type": "stream",
     "text": [
      "acc: 34.000%, f1: 0.340\n",
      "layer: 8, position: 1\n"
     ]
    },
    {
     "name": "stderr",
     "output_type": "stream",
     "text": [
      "100%|██████████| 100/100 [00:00<00:00, 107.19it/s]\n",
      "100%|██████████| 50/50 [00:00<00:00, 109.46it/s]\n"
     ]
    },
    {
     "name": "stdout",
     "output_type": "stream",
     "text": [
      "acc: 33.000%, f1: 0.330\n",
      "layer: 8, position: 2\n"
     ]
    },
    {
     "name": "stderr",
     "output_type": "stream",
     "text": [
      "100%|██████████| 100/100 [00:00<00:00, 112.90it/s]\n",
      "100%|██████████| 50/50 [00:00<00:00, 110.54it/s]\n"
     ]
    },
    {
     "name": "stdout",
     "output_type": "stream",
     "text": [
      "acc: 33.000%, f1: 0.330\n",
      "layer: 8, position: 3\n"
     ]
    },
    {
     "name": "stderr",
     "output_type": "stream",
     "text": [
      "100%|██████████| 100/100 [00:00<00:00, 115.34it/s]\n",
      "100%|██████████| 50/50 [00:00<00:00, 109.22it/s]\n"
     ]
    },
    {
     "name": "stdout",
     "output_type": "stream",
     "text": [
      "acc: 100.000%, f1: 1.000\n",
      "layer: 8, position: 4\n"
     ]
    },
    {
     "name": "stderr",
     "output_type": "stream",
     "text": [
      "100%|██████████| 100/100 [00:00<00:00, 111.40it/s]\n",
      "100%|██████████| 50/50 [00:00<00:00, 110.24it/s]\n"
     ]
    },
    {
     "name": "stdout",
     "output_type": "stream",
     "text": [
      "acc: 100.000%, f1: 1.000\n",
      "layer: 8, position: 5\n"
     ]
    },
    {
     "name": "stderr",
     "output_type": "stream",
     "text": [
      "100%|██████████| 100/100 [00:00<00:00, 110.79it/s]\n",
      "100%|██████████| 50/50 [00:00<00:00, 111.03it/s]\n"
     ]
    },
    {
     "name": "stdout",
     "output_type": "stream",
     "text": [
      "acc: 100.000%, f1: 1.000\n",
      "layer: 8, position: 6\n"
     ]
    },
    {
     "name": "stderr",
     "output_type": "stream",
     "text": [
      "100%|██████████| 100/100 [00:00<00:00, 116.31it/s]\n",
      "100%|██████████| 50/50 [00:00<00:00, 106.54it/s]\n"
     ]
    },
    {
     "name": "stdout",
     "output_type": "stream",
     "text": [
      "acc: 100.000%, f1: 1.000\n",
      "layer: 8, position: 7\n"
     ]
    },
    {
     "name": "stderr",
     "output_type": "stream",
     "text": [
      "100%|██████████| 100/100 [00:00<00:00, 115.79it/s]\n",
      "100%|██████████| 50/50 [00:00<00:00, 111.95it/s]\n"
     ]
    },
    {
     "name": "stdout",
     "output_type": "stream",
     "text": [
      "acc: 100.000%, f1: 1.000\n",
      "layer: 8, position: 8\n"
     ]
    },
    {
     "name": "stderr",
     "output_type": "stream",
     "text": [
      "100%|██████████| 100/100 [00:00<00:00, 110.85it/s]\n",
      "100%|██████████| 50/50 [00:00<00:00, 111.84it/s]\n"
     ]
    },
    {
     "name": "stdout",
     "output_type": "stream",
     "text": [
      "acc: 100.000%, f1: 1.000\n",
      "layer: 8, position: 9\n"
     ]
    },
    {
     "name": "stderr",
     "output_type": "stream",
     "text": [
      "100%|██████████| 100/100 [00:00<00:00, 117.45it/s]\n",
      "100%|██████████| 50/50 [00:00<00:00, 113.10it/s]\n"
     ]
    },
    {
     "name": "stdout",
     "output_type": "stream",
     "text": [
      "acc: 100.000%, f1: 1.000\n",
      "layer: 9, position: 0\n"
     ]
    },
    {
     "name": "stderr",
     "output_type": "stream",
     "text": [
      "100%|██████████| 100/100 [00:00<00:00, 112.49it/s]\n",
      "100%|██████████| 50/50 [00:00<00:00, 111.81it/s]\n"
     ]
    },
    {
     "name": "stdout",
     "output_type": "stream",
     "text": [
      "acc: 34.000%, f1: 0.340\n",
      "layer: 9, position: 1\n"
     ]
    },
    {
     "name": "stderr",
     "output_type": "stream",
     "text": [
      "100%|██████████| 100/100 [00:00<00:00, 116.19it/s]\n",
      "100%|██████████| 50/50 [00:00<00:00, 103.25it/s]\n"
     ]
    },
    {
     "name": "stdout",
     "output_type": "stream",
     "text": [
      "acc: 33.000%, f1: 0.330\n",
      "layer: 9, position: 2\n"
     ]
    },
    {
     "name": "stderr",
     "output_type": "stream",
     "text": [
      "100%|██████████| 100/100 [00:00<00:00, 112.51it/s]\n",
      "100%|██████████| 50/50 [00:00<00:00, 111.49it/s]\n"
     ]
    },
    {
     "name": "stdout",
     "output_type": "stream",
     "text": [
      "acc: 31.000%, f1: 0.310\n",
      "layer: 9, position: 3\n"
     ]
    },
    {
     "name": "stderr",
     "output_type": "stream",
     "text": [
      "100%|██████████| 100/100 [00:00<00:00, 118.45it/s]\n",
      "100%|██████████| 50/50 [00:00<00:00, 110.01it/s]\n"
     ]
    },
    {
     "name": "stdout",
     "output_type": "stream",
     "text": [
      "acc: 100.000%, f1: 1.000\n",
      "layer: 9, position: 4\n"
     ]
    },
    {
     "name": "stderr",
     "output_type": "stream",
     "text": [
      "100%|██████████| 100/100 [00:00<00:00, 111.04it/s]\n",
      "100%|██████████| 50/50 [00:00<00:00, 113.72it/s]\n"
     ]
    },
    {
     "name": "stdout",
     "output_type": "stream",
     "text": [
      "acc: 100.000%, f1: 1.000\n",
      "layer: 9, position: 5\n"
     ]
    },
    {
     "name": "stderr",
     "output_type": "stream",
     "text": [
      "100%|██████████| 100/100 [00:00<00:00, 116.37it/s]\n",
      "100%|██████████| 50/50 [00:00<00:00, 113.80it/s]\n"
     ]
    },
    {
     "name": "stdout",
     "output_type": "stream",
     "text": [
      "acc: 100.000%, f1: 1.000\n",
      "layer: 9, position: 6\n"
     ]
    },
    {
     "name": "stderr",
     "output_type": "stream",
     "text": [
      "100%|██████████| 100/100 [00:00<00:00, 113.37it/s]\n",
      "100%|██████████| 50/50 [00:00<00:00, 108.70it/s]\n"
     ]
    },
    {
     "name": "stdout",
     "output_type": "stream",
     "text": [
      "acc: 100.000%, f1: 1.000\n",
      "layer: 9, position: 7\n"
     ]
    },
    {
     "name": "stderr",
     "output_type": "stream",
     "text": [
      "100%|██████████| 100/100 [00:00<00:00, 112.63it/s]\n",
      "100%|██████████| 50/50 [00:00<00:00, 112.25it/s]\n"
     ]
    },
    {
     "name": "stdout",
     "output_type": "stream",
     "text": [
      "acc: 100.000%, f1: 1.000\n",
      "layer: 9, position: 8\n"
     ]
    },
    {
     "name": "stderr",
     "output_type": "stream",
     "text": [
      "100%|██████████| 100/100 [00:00<00:00, 110.25it/s]\n",
      "100%|██████████| 50/50 [00:00<00:00, 110.25it/s]\n"
     ]
    },
    {
     "name": "stdout",
     "output_type": "stream",
     "text": [
      "acc: 100.000%, f1: 1.000\n",
      "layer: 9, position: 9\n"
     ]
    },
    {
     "name": "stderr",
     "output_type": "stream",
     "text": [
      "100%|██████████| 100/100 [00:00<00:00, 110.73it/s]\n",
      "100%|██████████| 50/50 [00:00<00:00, 111.72it/s]\n"
     ]
    },
    {
     "name": "stdout",
     "output_type": "stream",
     "text": [
      "acc: 100.000%, f1: 1.000\n",
      "layer: 10, position: 0\n"
     ]
    },
    {
     "name": "stderr",
     "output_type": "stream",
     "text": [
      "100%|██████████| 100/100 [00:00<00:00, 111.42it/s]\n",
      "100%|██████████| 50/50 [00:00<00:00, 115.14it/s]\n"
     ]
    },
    {
     "name": "stdout",
     "output_type": "stream",
     "text": [
      "acc: 34.000%, f1: 0.340\n",
      "layer: 10, position: 1\n"
     ]
    },
    {
     "name": "stderr",
     "output_type": "stream",
     "text": [
      "100%|██████████| 100/100 [00:00<00:00, 112.57it/s]\n",
      "100%|██████████| 50/50 [00:00<00:00, 110.13it/s]\n"
     ]
    },
    {
     "name": "stdout",
     "output_type": "stream",
     "text": [
      "acc: 35.000%, f1: 0.350\n",
      "layer: 10, position: 2\n"
     ]
    },
    {
     "name": "stderr",
     "output_type": "stream",
     "text": [
      "100%|██████████| 100/100 [00:00<00:00, 106.91it/s]\n",
      "100%|██████████| 50/50 [00:00<00:00, 112.65it/s]\n"
     ]
    },
    {
     "name": "stdout",
     "output_type": "stream",
     "text": [
      "acc: 35.000%, f1: 0.350\n",
      "layer: 10, position: 3\n"
     ]
    },
    {
     "name": "stderr",
     "output_type": "stream",
     "text": [
      "100%|██████████| 100/100 [00:00<00:00, 108.19it/s]\n",
      "100%|██████████| 50/50 [00:00<00:00, 111.48it/s]\n"
     ]
    },
    {
     "name": "stdout",
     "output_type": "stream",
     "text": [
      "acc: 100.000%, f1: 1.000\n",
      "layer: 10, position: 4\n"
     ]
    },
    {
     "name": "stderr",
     "output_type": "stream",
     "text": [
      "100%|██████████| 100/100 [00:00<00:00, 107.70it/s]\n",
      "100%|██████████| 50/50 [00:00<00:00, 110.03it/s]\n"
     ]
    },
    {
     "name": "stdout",
     "output_type": "stream",
     "text": [
      "acc: 100.000%, f1: 1.000\n",
      "layer: 10, position: 5\n"
     ]
    },
    {
     "name": "stderr",
     "output_type": "stream",
     "text": [
      "100%|██████████| 100/100 [00:00<00:00, 113.72it/s]\n",
      "100%|██████████| 50/50 [00:00<00:00, 110.06it/s]\n"
     ]
    },
    {
     "name": "stdout",
     "output_type": "stream",
     "text": [
      "acc: 100.000%, f1: 1.000\n",
      "layer: 10, position: 6\n"
     ]
    },
    {
     "name": "stderr",
     "output_type": "stream",
     "text": [
      "100%|██████████| 100/100 [00:00<00:00, 113.19it/s]\n",
      "100%|██████████| 50/50 [00:00<00:00, 110.18it/s]\n"
     ]
    },
    {
     "name": "stdout",
     "output_type": "stream",
     "text": [
      "acc: 100.000%, f1: 1.000\n",
      "layer: 10, position: 7\n"
     ]
    },
    {
     "name": "stderr",
     "output_type": "stream",
     "text": [
      "100%|██████████| 100/100 [00:00<00:00, 111.03it/s]\n",
      "100%|██████████| 50/50 [00:00<00:00, 112.47it/s]\n"
     ]
    },
    {
     "name": "stdout",
     "output_type": "stream",
     "text": [
      "acc: 100.000%, f1: 1.000\n",
      "layer: 10, position: 8\n"
     ]
    },
    {
     "name": "stderr",
     "output_type": "stream",
     "text": [
      "100%|██████████| 100/100 [00:00<00:00, 113.92it/s]\n",
      "100%|██████████| 50/50 [00:00<00:00, 104.42it/s]\n"
     ]
    },
    {
     "name": "stdout",
     "output_type": "stream",
     "text": [
      "acc: 100.000%, f1: 1.000\n",
      "layer: 10, position: 9\n"
     ]
    },
    {
     "name": "stderr",
     "output_type": "stream",
     "text": [
      "100%|██████████| 100/100 [00:00<00:00, 107.71it/s]\n",
      "100%|██████████| 50/50 [00:00<00:00, 110.14it/s]\n"
     ]
    },
    {
     "name": "stdout",
     "output_type": "stream",
     "text": [
      "acc: 100.000%, f1: 1.000\n",
      "layer: 11, position: 0\n"
     ]
    },
    {
     "name": "stderr",
     "output_type": "stream",
     "text": [
      "100%|██████████| 100/100 [00:00<00:00, 117.78it/s]\n",
      "100%|██████████| 50/50 [00:00<00:00, 110.59it/s]\n"
     ]
    },
    {
     "name": "stdout",
     "output_type": "stream",
     "text": [
      "acc: 34.000%, f1: 0.340\n",
      "layer: 11, position: 1\n"
     ]
    },
    {
     "name": "stderr",
     "output_type": "stream",
     "text": [
      "100%|██████████| 100/100 [00:00<00:00, 115.44it/s]\n",
      "100%|██████████| 50/50 [00:00<00:00, 114.06it/s]\n"
     ]
    },
    {
     "name": "stdout",
     "output_type": "stream",
     "text": [
      "acc: 34.000%, f1: 0.340\n",
      "layer: 11, position: 2\n"
     ]
    },
    {
     "name": "stderr",
     "output_type": "stream",
     "text": [
      "100%|██████████| 100/100 [00:00<00:00, 111.80it/s]\n",
      "100%|██████████| 50/50 [00:00<00:00, 107.10it/s]\n"
     ]
    },
    {
     "name": "stdout",
     "output_type": "stream",
     "text": [
      "acc: 34.000%, f1: 0.340\n",
      "layer: 11, position: 3\n"
     ]
    },
    {
     "name": "stderr",
     "output_type": "stream",
     "text": [
      "100%|██████████| 100/100 [00:00<00:00, 102.08it/s]\n",
      "100%|██████████| 50/50 [00:00<00:00, 107.69it/s]\n"
     ]
    },
    {
     "name": "stdout",
     "output_type": "stream",
     "text": [
      "acc: 100.000%, f1: 1.000\n",
      "layer: 11, position: 4\n"
     ]
    },
    {
     "name": "stderr",
     "output_type": "stream",
     "text": [
      "100%|██████████| 100/100 [00:00<00:00, 112.36it/s]\n",
      "100%|██████████| 50/50 [00:00<00:00, 109.24it/s]\n"
     ]
    },
    {
     "name": "stdout",
     "output_type": "stream",
     "text": [
      "acc: 100.000%, f1: 1.000\n",
      "layer: 11, position: 5\n"
     ]
    },
    {
     "name": "stderr",
     "output_type": "stream",
     "text": [
      "100%|██████████| 100/100 [00:00<00:00, 118.09it/s]\n",
      "100%|██████████| 50/50 [00:00<00:00, 112.38it/s]\n"
     ]
    },
    {
     "name": "stdout",
     "output_type": "stream",
     "text": [
      "acc: 100.000%, f1: 1.000\n",
      "layer: 11, position: 6\n"
     ]
    },
    {
     "name": "stderr",
     "output_type": "stream",
     "text": [
      "100%|██████████| 100/100 [00:00<00:00, 111.54it/s]\n",
      "100%|██████████| 50/50 [00:00<00:00, 109.62it/s]\n"
     ]
    },
    {
     "name": "stdout",
     "output_type": "stream",
     "text": [
      "acc: 100.000%, f1: 1.000\n",
      "layer: 11, position: 7\n"
     ]
    },
    {
     "name": "stderr",
     "output_type": "stream",
     "text": [
      "100%|██████████| 100/100 [00:00<00:00, 108.75it/s]\n",
      "100%|██████████| 50/50 [00:00<00:00, 109.34it/s]\n"
     ]
    },
    {
     "name": "stdout",
     "output_type": "stream",
     "text": [
      "acc: 100.000%, f1: 1.000\n",
      "layer: 11, position: 8\n"
     ]
    },
    {
     "name": "stderr",
     "output_type": "stream",
     "text": [
      "100%|██████████| 100/100 [00:00<00:00, 118.13it/s]\n",
      "100%|██████████| 50/50 [00:00<00:00, 113.44it/s]\n"
     ]
    },
    {
     "name": "stdout",
     "output_type": "stream",
     "text": [
      "acc: 100.000%, f1: 1.000\n",
      "layer: 11, position: 9\n"
     ]
    },
    {
     "name": "stderr",
     "output_type": "stream",
     "text": [
      "100%|██████████| 100/100 [00:00<00:00, 113.07it/s]\n",
      "100%|██████████| 50/50 [00:00<00:00, 108.52it/s]"
     ]
    },
    {
     "name": "stdout",
     "output_type": "stream",
     "text": [
      "acc: 100.000%, f1: 1.000\n"
     ]
    },
    {
     "name": "stderr",
     "output_type": "stream",
     "text": [
      "\n"
     ]
    }
   ],
   "source": [
    "# intervention settings\n",
    "stats = []\n",
    "num_layers = gpt.config.num_hidden_layers\n",
    "\n",
    "# 10329 = ' garden', 8576 = ' kitchen', 14098 = ' bedroom'\n",
    "label_mapping = {10329: 0, 8576: 1, 14098: 2}\n",
    "\n",
    "sample_length_in_tokens = 10\n",
    "\n",
    "# loop over layers and positions\n",
    "with torch.no_grad():\n",
    "    for layer in range(num_layers):\n",
    "        for position in range(sample_length_in_tokens):\n",
    "            print(f\"layer: {layer}, position: {position}\")\n",
    "\n",
    "            # set up intervenable model\n",
    "            config = probing_config(\"block_output\", layer)\n",
    "            intervenable = pv.IntervenableModel(config, gpt)\n",
    "            intervenable.set_device(device)\n",
    "            intervenable.disable_model_gradients()\n",
    "\n",
    "            # training loop\n",
    "            activations, labels = [], []\n",
    "            iterator = tqdm(trainset)\n",
    "            for example in iterator:\n",
    "                # forward pass\n",
    "                base_outputs, _ = intervenable(\n",
    "                    example.base,\n",
    "                    unit_locations={\"base\": position},\n",
    "                )\n",
    "                base_activations = base_outputs[1][0]\n",
    "\n",
    "                src_outputs, _ = intervenable(\n",
    "                    example.src,\n",
    "                    unit_locations={\"base\": position},\n",
    "                )\n",
    "                src_activations = src_outputs[1][0]\n",
    "\n",
    "                # collect activation\n",
    "                activations.extend(\n",
    "                    [\n",
    "                        base_activations.detach()[0].cpu().numpy(),\n",
    "                        src_activations.detach()[0].cpu().numpy(),\n",
    "                    ]\n",
    "                )\n",
    "                labels.extend([example.base_label, example.src_label])\n",
    "            labels = [label_mapping[label] for label in labels]\n",
    "\n",
    "            # train logistic regression\n",
    "            lr = LogisticRegression(random_state=42, max_iter=1000).fit(\n",
    "                activations, labels\n",
    "            )\n",
    "\n",
    "            # eval\n",
    "            activations, labels = [], []\n",
    "            iterator = tqdm(evalset)\n",
    "            for example in iterator:\n",
    "                # forward pass\n",
    "                base_outputs, _ = intervenable(\n",
    "                    example.base,\n",
    "                    unit_locations={\"base\": position},\n",
    "                )\n",
    "                base_activations = base_outputs[1][0]\n",
    "\n",
    "                src_outputs, _ = intervenable(\n",
    "                    example.src,\n",
    "                    unit_locations={\"base\": position},\n",
    "                )\n",
    "                src_activations = src_outputs[1][0]\n",
    "\n",
    "                # collect activation\n",
    "                activations.extend(\n",
    "                    [\n",
    "                        base_activations.detach()[0].cpu().numpy(),\n",
    "                        src_activations.detach()[0].cpu().numpy(),\n",
    "                    ]\n",
    "                )\n",
    "                labels.extend([example.base_label, example.src_label])\n",
    "            labels = [label_mapping[label] for label in labels]\n",
    "\n",
    "            # stats\n",
    "            acc = lr.score(activations, labels)\n",
    "            f1 = f1_score(labels, lr.predict(activations), average=\"micro\")\n",
    "            stats.append({\"layer\": layer, \"position\": position, \"acc\": acc, \"f1\": f1})\n",
    "            print(f\"acc: {acc:.3%}, f1: {f1:.3f}\")\n",
    "df = pd.DataFrame(stats)\n",
    "df.to_csv(f\"./pyvene_babi_nli_motivations_{model_size}.csv\")"
   ]
  },
  {
   "cell_type": "code",
   "execution_count": 10,
   "metadata": {},
   "outputs": [
    {
     "name": "stderr",
     "output_type": "stream",
     "text": [
      "/mnt/m2-mint/nlp-winter2024/env/lib/python3.8/site-packages/plotnine/ggplot.py:587: PlotnineWarning: Saving 6.4 x 4.8 in image.\n",
      "/mnt/m2-mint/nlp-winter2024/env/lib/python3.8/site-packages/plotnine/ggplot.py:588: PlotnineWarning: Filename: ./pyvene_babi_nli_motivations_160m.pdf\n"
     ]
    },
    {
     "data": {
      "image/png": "[encoded data removed]",
      "text/plain": [
       "<Figure size 640x480 with 1 Axes>"
      ]
     },
     "metadata": {
      "image/png": {
       "height": 480,
       "width": 640
      }
     },
     "output_type": "display_data"
    },
    {
     "name": "stdout",
     "output_type": "stream",
     "text": [
      "\n"
     ]
    }
   ],
   "source": [
    "from plotnine import (\n",
    "    ggplot,\n",
    "    geom_tile,\n",
    "    aes,\n",
    "    facet_wrap,\n",
    "    theme,\n",
    "    element_text,\n",
    "    geom_bar,\n",
    "    geom_hline,\n",
    "    scale_y_log10,\n",
    "    geom_line,\n",
    "    geom_point,\n",
    "    geom_text,\n",
    "    ggtitle,\n",
    "    xlab,\n",
    "    ylab,\n",
    "    ggsave,\n",
    ")\n",
    "from plotnine.scales import scale_y_reverse, scale_fill_cmap\n",
    "\n",
    "df = pd.read_csv(f\"./pyvene_babi_nli_motivations_{model_size}.csv\")\n",
    "df[\"layer\"] = df[\"layer\"].astype(int)\n",
    "df[\"pos\"] = df[\"position\"].astype(int)\n",
    "df[\"ACC\"] = df[\"acc\"].astype(float)\n",
    "\n",
    "custom_labels = [\n",
    "    \"EOS\",\n",
    "    \"<name>\",\n",
    "    \"is\",\n",
    "    \"<need>\",\n",
    "    \".\",\n",
    "    \"<name>\",\n",
    "    \"will\",\n",
    "    \"go\",\n",
    "    \"to\",\n",
    "    \"the\",\n",
    "]\n",
    "breaks = [0, 1, 2, 3, 4, 5, 6, 7, 8, 9]\n",
    "\n",
    "plot = (\n",
    "    ggplot(df, aes(x=\"layer\", y=\"pos\", fill=\"ACC\"))\n",
    "    + geom_tile()\n",
    "    + scale_fill_cmap(\"Reds\")\n",
    "    + xlab(\"layers\")\n",
    "    + scale_y_reverse(breaks=breaks, labels=custom_labels)\n",
    "    + ylab(\"\")\n",
    "    + theme(axis_text_y=element_text(angle=0, hjust=1))\n",
    "    + ggtitle(f\"Trained Linear Probe, Pythia-{model_size}\")\n",
    ")\n",
    "ggsave(plot, filename=f\"./pyvene_babi_nli_motivations_{model_size}.pdf\", dpi=200)\n",
    "print(plot)"
   ]
  }
 ],
 "metadata": {
  "kernelspec": {
   "display_name": "env",
   "language": "python",
   "name": "python3"
  },
  "language_info": {
   "codemirror_mode": {
    "name": "ipython",
    "version": 3
   },
   "file_extension": ".py",
   "mimetype": "text/x-python",
   "name": "python",
   "nbconvert_exporter": "python",
   "pygments_lexer": "ipython3",
   "version": "3.8.18"
  }
 },
 "nbformat": 4,
 "nbformat_minor": 2
}
