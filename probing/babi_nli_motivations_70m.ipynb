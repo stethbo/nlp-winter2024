{
 "cells": [
  {
   "cell_type": "code",
   "execution_count": 1,
   "metadata": {},
   "outputs": [
    {
     "name": "stdout",
     "output_type": "stream",
     "text": [
      "nnsight is not detected. Please install via 'pip install nnsight' for nnsight backend.\n"
     ]
    }
   ],
   "source": [
    "try:\n",
    "    # This library is our indicator that the required installs\n",
    "    # need to be done.\n",
    "    import pyvene as pv\n",
    "\n",
    "except ModuleNotFoundError:\n",
    "    !pip install git+https://github.com/stanfordnlp/pyvene.git"
   ]
  },
  {
   "cell_type": "code",
   "execution_count": 2,
   "metadata": {},
   "outputs": [],
   "source": [
    "import pandas as pd\n",
    "from transformers import (\n",
    "    AutoModelForCausalLM,\n",
    "    AutoTokenizer,\n",
    "    get_linear_schedule_with_warmup,\n",
    ")\n",
    "import torch\n",
    "import random\n",
    "from collections import namedtuple\n",
    "from tqdm import tqdm\n",
    "from sklearn.linear_model import LogisticRegression\n",
    "from sklearn.metrics import f1_score"
   ]
  },
  {
   "cell_type": "code",
   "execution_count": 3,
   "metadata": {},
   "outputs": [],
   "source": [
    "device = \"cuda:0\" if torch.cuda.is_available() else \"cpu\"\n",
    "model_size = \"70m\"\n",
    "model = f\"EleutherAI/pythia-{model_size}\"  # \"EleutherAI/pythia-6.9B\"\n",
    "tokenizer = AutoTokenizer.from_pretrained(model)\n",
    "tokenizer.pad_token = tokenizer.eos_token\n",
    "gpt = AutoModelForCausalLM.from_pretrained(\n",
    "    model,\n",
    "    revision=\"main\",\n",
    "    torch_dtype=torch.bfloat16 if model == \"EleutherAI/pythia-6.9b\" else torch.float32,\n",
    ").to(device)"
   ]
  },
  {
   "cell_type": "code",
   "execution_count": 4,
   "metadata": {},
   "outputs": [],
   "source": [
    "needs_and_rooms = [\n",
    "    (\"hungry\", \"kitchen\"),\n",
    "    (\"tired\", \"bedroom\"),\n",
    "    (\"bored\", \"garden\"),\n",
    "]"
   ]
  },
  {
   "cell_type": "code",
   "execution_count": 5,
   "metadata": {},
   "outputs": [
    {
     "name": "stdout",
     "output_type": "stream",
     "text": [
      "<|endoftext|>Elizabeth is bored. Elizabeth will go to the\n",
      "<|endoftext|>Andrew is hungry. Andrew will go to the\n",
      " garden\n",
      " kitchen\n"
     ]
    }
   ],
   "source": [
    "Example = namedtuple(\"Example\", [\"base\", \"src\", \"base_label\", \"src_label\"])\n",
    "\n",
    "names = [\n",
    "    \"Donald\",\n",
    "    \"Gary\",\n",
    "    \"Deborah\",\n",
    "    \"Nancy\",\n",
    "    \"Diane\",\n",
    "    \"Peter\",\n",
    "    \"Kevin\",\n",
    "    \"Daniel\",\n",
    "    \"Roger\",\n",
    "    \"Ralph\",\n",
    "    \"Linda\",\n",
    "    \"Keith\",\n",
    "    \"Paul\",\n",
    "    \"Willie\",\n",
    "    \"Denise\",\n",
    "    \"Marie\",\n",
    "    \"Terry\",\n",
    "    \"Kayla\",\n",
    "    \"Elizabeth\",\n",
    "    \"Kelly\",\n",
    "    \"Gabriel\",\n",
    "    \"Cynthia\",\n",
    "    \"Joseph\",\n",
    "    \"Harold\",\n",
    "    \"Frances\",\n",
    "    \"Andrew\",\n",
    "    \"Alexis\",\n",
    "    \"Bradley\",\n",
    "    \"James\",\n",
    "    \"Thomas\",\n",
    "    \"Jason\",\n",
    "    \"Michael\",\n",
    "    \"Gregory\",\n",
    "    \"Sean\",\n",
    "    \"Vincent\",\n",
    "    \"Justin\",\n",
    "    \"Janet\",\n",
    "    \"Sarah\",\n",
    "    \"Andrea\",\n",
    "    \"Amy\",\n",
    "    \"Joan\",\n",
    "    \"Kimberly\",\n",
    "    \"Natalie\",\n",
    "    \"Gerald\",\n",
    "    \"Edward\",\n",
    "    \"Lisa\",\n",
    "    \"Marilyn\",\n",
    "    \"Ronald\",\n",
    "    \"Victoria\",\n",
    "    \"Eugene\",\n",
    "    \"Christina\",\n",
    "    \"Samantha\",\n",
    "    \"Matthew\",\n",
    "    \"Douglas\",\n",
    "    \"Kenneth\",\n",
    "    \"Sophia\",\n",
    "    \"Barbara\",\n",
    "    \"Margaret\",\n",
    "    \"Hannah\",\n",
    "    \"Ryan\",\n",
    "    \"Megan\",\n",
    "    \"Sandra\",\n",
    "    \"Robert\",\n",
    "    \"Madison\",\n",
    "    \"Carolyn\",\n",
    "    \"Amanda\",\n",
    "    \"Scott\",\n",
    "    \"Anthony\",\n",
    "    \"Mary\",\n",
    "    \"Eric\",\n",
    "    \"William\",\n",
    "    \"Lawrence\",\n",
    "    \"Christian\",\n",
    "    \"Lori\",\n",
    "    \"Henry\",\n",
    "    \"Betty\",\n",
    "    \"Dorothy\",\n",
    "    \"Samuel\",\n",
    "    \"Stephanie\",\n",
    "    \"Teresa\",\n",
    "    \"Nicole\",\n",
    "    \"Julia\",\n",
    "    \"Rebecca\",\n",
    "    \"Mason\",\n",
    "    \"Julie\",\n",
    "    \"Emma\",\n",
    "    \"Jeremy\",\n",
    "    \"Olivia\",\n",
    "    \"Larry\",\n",
    "    \"Juan\",\n",
    "    \"Adam\",\n",
    "    \"Alice\",\n",
    "    \"Amber\",\n",
    "    \"Joe\",\n",
    "    \"Angela\",\n",
    "    \"Sara\",\n",
    "    \"Judy\",\n",
    "    \"Christopher\",\n",
    "    \"Raymond\",\n",
    "    \"Jordan\",\n",
    "    \"Karen\",\n",
    "    \"Stephen\",\n",
    "    \"Kathleen\",\n",
    "    \"Billy\",\n",
    "    \"Rachel\",\n",
    "    \"Diana\",\n",
    "    \"Emily\",\n",
    "    \"Debra\",\n",
    "    \"Roy\",\n",
    "    \"Susan\",\n",
    "    \"Bobby\",\n",
    "    \"Gloria\",\n",
    "    \"Doris\",\n",
    "    \"Patricia\",\n",
    "    \"Ethan\",\n",
    "    \"Bruce\",\n",
    "    \"David\",\n",
    "    \"Richard\",\n",
    "    \"Judith\",\n",
    "    \"Michelle\",\n",
    "    \"Timothy\",\n",
    "    \"Frank\",\n",
    "    \"Philip\",\n",
    "    \"Melissa\",\n",
    "    \"Cheryl\",\n",
    "    \"Isabella\",\n",
    "    \"Jack\",\n",
    "    \"Randy\",\n",
    "    \"Danielle\",\n",
    "    \"Jennifer\",\n",
    "    \"Kyle\",\n",
    "    \"Walter\",\n",
    "    \"Austin\",\n",
    "    \"Janice\",\n",
    "    \"Sharon\",\n",
    "    \"Jean\",\n",
    "    \"Steven\",\n",
    "    \"Russell\",\n",
    "    \"Christine\",\n",
    "    \"Theresa\",\n",
    "    \"Katherine\",\n",
    "    \"Maria\",\n",
    "    \"Jesse\",\n",
    "    \"Ann\",\n",
    "    \"Arthur\",\n",
    "    \"Brandon\",\n",
    "    \"Jose\",\n",
    "    \"Carol\",\n",
    "    \"Jacqueline\",\n",
    "    \"Joyce\",\n",
    "    \"George\",\n",
    "    \"Alexander\",\n",
    "    \"Patrick\",\n",
    "    \"Zachary\",\n",
    "    \"Carl\",\n",
    "    \"Beverly\",\n",
    "    \"Evelyn\",\n",
    "    \"Virginia\",\n",
    "    \"Charlotte\",\n",
    "    \"Jonathan\",\n",
    "    \"Laura\",\n",
    "    \"John\",\n",
    "    \"Charles\",\n",
    "    \"Brian\",\n",
    "    \"Nicholas\",\n",
    "    \"Dylan\",\n",
    "    \"Tyler\",\n",
    "    \"Jeffrey\",\n",
    "    \"Jessica\",\n",
    "    \"Helen\",\n",
    "    \"Logan\",\n",
    "    \"Martha\",\n",
    "    \"Albert\",\n",
    "    \"Jerry\",\n",
    "    \"Nathan\",\n",
    "    \"Brenda\",\n",
    "    \"Ruth\",\n",
    "    \"Donna\",\n",
    "    \"Brittany\",\n",
    "    \"Shirley\",\n",
    "    \"Pamela\",\n",
    "    \"Catherine\",\n",
    "    \"Lauren\",\n",
    "    \"Abigail\",\n",
    "    \"Kathryn\",\n",
    "    \"Noah\",\n",
    "    \"Aaron\",\n",
    "    \"Bryan\",\n",
    "    \"Grace\",\n",
    "    \"Elijah\",\n",
    "    \"Heather\",\n",
    "    \"Alan\",\n",
    "    \"Mark\",\n",
    "    \"Wayne\",\n",
    "    \"Jacob\",\n",
    "    \"Ashley\",\n",
    "    \"Benjamin\",\n",
    "    \"Joshua\",\n",
    "    \"Dennis\",\n",
    "    \"Anna\",\n",
    "]\n",
    "\n",
    "names = [name for name in names if len(tokenizer.tokenize(name)) == 1]\n",
    "\n",
    "\n",
    "def make_pair(tokenizer, base_name, src_name, base_label, src_label):\n",
    "    base = tokenizer(\n",
    "        f\"<|endoftext|>{base_name} is {base_label[0]}. {base_name} will go to the\",\n",
    "        return_tensors=\"pt\",\n",
    "    )\n",
    "    src = tokenizer(\n",
    "        f\"<|endoftext|>{src_name} is {src_label[0]}. {src_name} will go to the\",\n",
    "        return_tensors=\"pt\",\n",
    "    )\n",
    "    base_label = tokenizer.encode(\" \" + base_label[1])[0]\n",
    "    src_label = tokenizer.encode(\" \" + src_label[1])[0]\n",
    "    return Example(base, src, base_label, src_label)\n",
    "\n",
    "\n",
    "def sample_example(tokenizer):\n",
    "    # sample labels (not matching)\n",
    "    base_label = random.choice(needs_and_rooms)\n",
    "    src_label = random.choice(\n",
    "        [tupl for tupl in needs_and_rooms if tupl[0] != base_label[0]]\n",
    "    )\n",
    "\n",
    "    # sample names\n",
    "    base_name = random.choice(names)\n",
    "    src_name = random.choice([name for name in names if name != base_name])\n",
    "\n",
    "    return make_pair(tokenizer, base_name, src_name, base_label, src_label)\n",
    "\n",
    "\n",
    "def create_all_examples(tokenizer):\n",
    "    examples = []\n",
    "    for need_and_room_base in needs_and_rooms:\n",
    "        for need_and_room_src in (\n",
    "            n_a_r for n_a_r in needs_and_rooms if n_a_r != need_and_room_base\n",
    "        ):\n",
    "            for base_name in names:\n",
    "                for src_name in (name for name in names if name != base_name):\n",
    "                    examples.append(\n",
    "                        make_pair(\n",
    "                            tokenizer,\n",
    "                            base_name,\n",
    "                            src_name,\n",
    "                            need_and_room_base,\n",
    "                            need_and_room_src,\n",
    "                        )\n",
    "                    )\n",
    "\n",
    "    return examples\n",
    "\n",
    "\n",
    "example = sample_example(tokenizer)\n",
    "\n",
    "print(tokenizer.decode(example.base.input_ids[0]))\n",
    "print(tokenizer.decode(example.src.input_ids[0]))\n",
    "print(tokenizer.decode(example.base_label))\n",
    "print(tokenizer.decode(example.src_label))\n",
    "\n",
    "\n",
    "# all_examples = create_all_examples(tokenizer)\n",
    "\n",
    "# print(len(all_examples))"
   ]
  },
  {
   "cell_type": "code",
   "execution_count": 6,
   "metadata": {},
   "outputs": [
    {
     "name": "stderr",
     "output_type": "stream",
     "text": [
      "100%|██████████| 150/150 [00:01<00:00, 131.35it/s]\n"
     ]
    }
   ],
   "source": [
    "def generate_n_doable_examples(n, model, tokenizer):\n",
    "    examples = []\n",
    "    iterator = tqdm(range(n))\n",
    "    # data_iterator = iter(all_examples)\n",
    "    while len(examples) < n:\n",
    "        # try:\n",
    "        #     ex = data_iterator.__next__()\n",
    "        # except StopIteration:\n",
    "        #     iterator.write(\n",
    "        #         f\"Not enough doable examples, returning {len(examples)} examples\"\n",
    "        #     )\n",
    "        #     break\n",
    "        ex = sample_example(tokenizer)\n",
    "\n",
    "        for k, v in ex.base.items():\n",
    "            if v is not None and isinstance(v, torch.Tensor):\n",
    "                ex.base[k] = v.to(model.device)\n",
    "        for k, v in ex.src.items():\n",
    "            if v is not None and isinstance(v, torch.Tensor):\n",
    "                ex.src[k] = v.to(model.device)\n",
    "        logits_src = model(**ex.src).logits[0, -1]\n",
    "        if logits_src[ex.src_label] > logits_src[ex.base_label]:\n",
    "            examples.append(ex)\n",
    "            iterator.update(1)\n",
    "    return examples\n",
    "\n",
    "\n",
    "total_steps = 150\n",
    "dataset = generate_n_doable_examples(total_steps, gpt, tokenizer)\n",
    "trainset = dataset[:100]\n",
    "evalset = dataset[100:]"
   ]
  },
  {
   "cell_type": "code",
   "execution_count": 7,
   "metadata": {},
   "outputs": [],
   "source": [
    "def probing_config(intervention_site, layer):\n",
    "    \"\"\"Generate intervention config.\"\"\"\n",
    "\n",
    "    # init\n",
    "    config = pv.IntervenableConfig(\n",
    "        [\n",
    "            {\n",
    "                \"layer\": layer,\n",
    "                \"component\": intervention_site,\n",
    "                \"intervention_type\": pv.CollectIntervention,\n",
    "            }\n",
    "        ]\n",
    "    )\n",
    "    return config"
   ]
  },
  {
   "cell_type": "code",
   "execution_count": 8,
   "metadata": {},
   "outputs": [
    {
     "name": "stdout",
     "output_type": "stream",
     "text": [
      "Label:   garden id:  10329\n",
      "Label:   kitchen id:  8576\n",
      "Label:   bedroom id:  14098\n"
     ]
    }
   ],
   "source": [
    "labels = [\" garden\", \" kitchen\", \" bedroom\"]\n",
    "\n",
    "\n",
    "for label in labels:\n",
    "    print(\"Label: \", label, \"id: \", tokenizer(label).input_ids[0])"
   ]
  },
  {
   "cell_type": "code",
   "execution_count": 9,
   "metadata": {},
   "outputs": [
    {
     "name": "stdout",
     "output_type": "stream",
     "text": [
      "layer: 0, position: 0\n"
     ]
    },
    {
     "name": "stderr",
     "output_type": "stream",
     "text": [
      "  0%|          | 0/100 [00:00<?, ?it/s]"
     ]
    },
    {
     "name": "stderr",
     "output_type": "stream",
     "text": [
      "100%|██████████| 100/100 [00:00<00:00, 195.72it/s]\n",
      "100%|██████████| 50/50 [00:00<00:00, 154.02it/s]\n"
     ]
    },
    {
     "name": "stdout",
     "output_type": "stream",
     "text": [
      "acc: 34.000%, f1: 0.340\n",
      "layer: 0, position: 1\n"
     ]
    },
    {
     "name": "stderr",
     "output_type": "stream",
     "text": [
      "100%|██████████| 100/100 [00:00<00:00, 201.85it/s]\n",
      "100%|██████████| 50/50 [00:00<00:00, 193.83it/s]\n"
     ]
    },
    {
     "name": "stdout",
     "output_type": "stream",
     "text": [
      "acc: 38.000%, f1: 0.380\n",
      "layer: 0, position: 2\n"
     ]
    },
    {
     "name": "stderr",
     "output_type": "stream",
     "text": [
      "100%|██████████| 100/100 [00:00<00:00, 210.02it/s]\n",
      "100%|██████████| 50/50 [00:00<00:00, 194.88it/s]\n"
     ]
    },
    {
     "name": "stdout",
     "output_type": "stream",
     "text": [
      "acc: 35.000%, f1: 0.350\n",
      "layer: 0, position: 3\n"
     ]
    },
    {
     "name": "stderr",
     "output_type": "stream",
     "text": [
      "100%|██████████| 100/100 [00:00<00:00, 206.59it/s]\n",
      "100%|██████████| 50/50 [00:00<00:00, 189.06it/s]\n"
     ]
    },
    {
     "name": "stdout",
     "output_type": "stream",
     "text": [
      "acc: 100.000%, f1: 1.000\n",
      "layer: 0, position: 4\n"
     ]
    },
    {
     "name": "stderr",
     "output_type": "stream",
     "text": [
      "100%|██████████| 100/100 [00:00<00:00, 205.50it/s]\n",
      "100%|██████████| 50/50 [00:00<00:00, 194.12it/s]\n"
     ]
    },
    {
     "name": "stdout",
     "output_type": "stream",
     "text": [
      "acc: 100.000%, f1: 1.000\n",
      "layer: 0, position: 5\n"
     ]
    },
    {
     "name": "stderr",
     "output_type": "stream",
     "text": [
      "100%|██████████| 100/100 [00:00<00:00, 199.05it/s]\n",
      "100%|██████████| 50/50 [00:00<00:00, 193.97it/s]\n"
     ]
    },
    {
     "name": "stdout",
     "output_type": "stream",
     "text": [
      "acc: 83.000%, f1: 0.830\n",
      "layer: 0, position: 6\n"
     ]
    },
    {
     "name": "stderr",
     "output_type": "stream",
     "text": [
      "100%|██████████| 100/100 [00:00<00:00, 210.04it/s]\n",
      "100%|██████████| 50/50 [00:00<00:00, 190.01it/s]\n"
     ]
    },
    {
     "name": "stdout",
     "output_type": "stream",
     "text": [
      "acc: 89.000%, f1: 0.890\n",
      "layer: 0, position: 7\n"
     ]
    },
    {
     "name": "stderr",
     "output_type": "stream",
     "text": [
      "100%|██████████| 100/100 [00:00<00:00, 201.65it/s]\n",
      "100%|██████████| 50/50 [00:00<00:00, 197.41it/s]\n"
     ]
    },
    {
     "name": "stdout",
     "output_type": "stream",
     "text": [
      "acc: 100.000%, f1: 1.000\n",
      "layer: 0, position: 8\n"
     ]
    },
    {
     "name": "stderr",
     "output_type": "stream",
     "text": [
      "100%|██████████| 100/100 [00:00<00:00, 192.74it/s]\n",
      "100%|██████████| 50/50 [00:00<00:00, 195.98it/s]\n"
     ]
    },
    {
     "name": "stdout",
     "output_type": "stream",
     "text": [
      "acc: 100.000%, f1: 1.000\n",
      "layer: 0, position: 9\n"
     ]
    },
    {
     "name": "stderr",
     "output_type": "stream",
     "text": [
      "100%|██████████| 100/100 [00:00<00:00, 201.39it/s]\n",
      "100%|██████████| 50/50 [00:00<00:00, 190.80it/s]\n"
     ]
    },
    {
     "name": "stdout",
     "output_type": "stream",
     "text": [
      "acc: 96.000%, f1: 0.960\n",
      "layer: 1, position: 0\n"
     ]
    },
    {
     "name": "stderr",
     "output_type": "stream",
     "text": [
      "100%|██████████| 100/100 [00:00<00:00, 204.99it/s]\n",
      "100%|██████████| 50/50 [00:00<00:00, 190.76it/s]\n"
     ]
    },
    {
     "name": "stdout",
     "output_type": "stream",
     "text": [
      "acc: 34.000%, f1: 0.340\n",
      "layer: 1, position: 1\n"
     ]
    },
    {
     "name": "stderr",
     "output_type": "stream",
     "text": [
      "100%|██████████| 100/100 [00:00<00:00, 205.34it/s]\n",
      "100%|██████████| 50/50 [00:00<00:00, 194.92it/s]\n"
     ]
    },
    {
     "name": "stdout",
     "output_type": "stream",
     "text": [
      "acc: 40.000%, f1: 0.400\n",
      "layer: 1, position: 2\n"
     ]
    },
    {
     "name": "stderr",
     "output_type": "stream",
     "text": [
      "100%|██████████| 100/100 [00:00<00:00, 212.68it/s]\n",
      "100%|██████████| 50/50 [00:00<00:00, 197.79it/s]\n"
     ]
    },
    {
     "name": "stdout",
     "output_type": "stream",
     "text": [
      "acc: 39.000%, f1: 0.390\n",
      "layer: 1, position: 3\n"
     ]
    },
    {
     "name": "stderr",
     "output_type": "stream",
     "text": [
      "100%|██████████| 100/100 [00:00<00:00, 191.30it/s]\n",
      "100%|██████████| 50/50 [00:00<00:00, 194.15it/s]\n"
     ]
    },
    {
     "name": "stdout",
     "output_type": "stream",
     "text": [
      "acc: 100.000%, f1: 1.000\n",
      "layer: 1, position: 4\n"
     ]
    },
    {
     "name": "stderr",
     "output_type": "stream",
     "text": [
      "100%|██████████| 100/100 [00:00<00:00, 210.81it/s]\n",
      "100%|██████████| 50/50 [00:00<00:00, 194.20it/s]\n"
     ]
    },
    {
     "name": "stdout",
     "output_type": "stream",
     "text": [
      "acc: 100.000%, f1: 1.000\n",
      "layer: 1, position: 5\n"
     ]
    },
    {
     "name": "stderr",
     "output_type": "stream",
     "text": [
      "100%|██████████| 100/100 [00:00<00:00, 216.85it/s]\n",
      "100%|██████████| 50/50 [00:00<00:00, 179.29it/s]\n"
     ]
    },
    {
     "name": "stdout",
     "output_type": "stream",
     "text": [
      "acc: 87.000%, f1: 0.870\n",
      "layer: 1, position: 6\n"
     ]
    },
    {
     "name": "stderr",
     "output_type": "stream",
     "text": [
      "100%|██████████| 100/100 [00:00<00:00, 223.60it/s]\n",
      "100%|██████████| 50/50 [00:00<00:00, 198.95it/s]\n"
     ]
    },
    {
     "name": "stdout",
     "output_type": "stream",
     "text": [
      "acc: 100.000%, f1: 1.000\n",
      "layer: 1, position: 7\n"
     ]
    },
    {
     "name": "stderr",
     "output_type": "stream",
     "text": [
      "100%|██████████| 100/100 [00:00<00:00, 219.62it/s]\n",
      "100%|██████████| 50/50 [00:00<00:00, 201.89it/s]\n"
     ]
    },
    {
     "name": "stdout",
     "output_type": "stream",
     "text": [
      "acc: 100.000%, f1: 1.000\n",
      "layer: 1, position: 8\n"
     ]
    },
    {
     "name": "stderr",
     "output_type": "stream",
     "text": [
      "100%|██████████| 100/100 [00:00<00:00, 220.79it/s]\n",
      "100%|██████████| 50/50 [00:00<00:00, 201.09it/s]\n"
     ]
    },
    {
     "name": "stdout",
     "output_type": "stream",
     "text": [
      "acc: 100.000%, f1: 1.000\n",
      "layer: 1, position: 9\n"
     ]
    },
    {
     "name": "stderr",
     "output_type": "stream",
     "text": [
      "100%|██████████| 100/100 [00:00<00:00, 221.22it/s]\n",
      "100%|██████████| 50/50 [00:00<00:00, 203.14it/s]\n"
     ]
    },
    {
     "name": "stdout",
     "output_type": "stream",
     "text": [
      "acc: 100.000%, f1: 1.000\n",
      "layer: 2, position: 0\n"
     ]
    },
    {
     "name": "stderr",
     "output_type": "stream",
     "text": [
      "100%|██████████| 100/100 [00:00<00:00, 221.57it/s]\n",
      "100%|██████████| 50/50 [00:00<00:00, 193.59it/s]\n"
     ]
    },
    {
     "name": "stdout",
     "output_type": "stream",
     "text": [
      "acc: 34.000%, f1: 0.340\n",
      "layer: 2, position: 1\n"
     ]
    },
    {
     "name": "stderr",
     "output_type": "stream",
     "text": [
      "100%|██████████| 100/100 [00:00<00:00, 207.14it/s]\n",
      "100%|██████████| 50/50 [00:00<00:00, 202.53it/s]\n"
     ]
    },
    {
     "name": "stdout",
     "output_type": "stream",
     "text": [
      "acc: 39.000%, f1: 0.390\n",
      "layer: 2, position: 2\n"
     ]
    },
    {
     "name": "stderr",
     "output_type": "stream",
     "text": [
      "100%|██████████| 100/100 [00:00<00:00, 223.98it/s]\n",
      "100%|██████████| 50/50 [00:00<00:00, 203.36it/s]\n"
     ]
    },
    {
     "name": "stdout",
     "output_type": "stream",
     "text": [
      "acc: 39.000%, f1: 0.390\n",
      "layer: 2, position: 3\n"
     ]
    },
    {
     "name": "stderr",
     "output_type": "stream",
     "text": [
      "100%|██████████| 100/100 [00:00<00:00, 214.03it/s]\n",
      "100%|██████████| 50/50 [00:00<00:00, 178.88it/s]\n"
     ]
    },
    {
     "name": "stdout",
     "output_type": "stream",
     "text": [
      "acc: 100.000%, f1: 1.000\n",
      "layer: 2, position: 4\n"
     ]
    },
    {
     "name": "stderr",
     "output_type": "stream",
     "text": [
      "100%|██████████| 100/100 [00:00<00:00, 221.91it/s]\n",
      "100%|██████████| 50/50 [00:00<00:00, 179.64it/s]\n"
     ]
    },
    {
     "name": "stdout",
     "output_type": "stream",
     "text": [
      "acc: 100.000%, f1: 1.000\n",
      "layer: 2, position: 5\n"
     ]
    },
    {
     "name": "stderr",
     "output_type": "stream",
     "text": [
      "100%|██████████| 100/100 [00:00<00:00, 223.49it/s]\n",
      "100%|██████████| 50/50 [00:00<00:00, 172.77it/s]\n"
     ]
    },
    {
     "name": "stdout",
     "output_type": "stream",
     "text": [
      "acc: 100.000%, f1: 1.000\n",
      "layer: 2, position: 6\n"
     ]
    },
    {
     "name": "stderr",
     "output_type": "stream",
     "text": [
      "100%|██████████| 100/100 [00:00<00:00, 194.91it/s]\n",
      "100%|██████████| 50/50 [00:00<00:00, 191.44it/s]\n"
     ]
    },
    {
     "name": "stdout",
     "output_type": "stream",
     "text": [
      "acc: 100.000%, f1: 1.000\n",
      "layer: 2, position: 7\n"
     ]
    },
    {
     "name": "stderr",
     "output_type": "stream",
     "text": [
      "100%|██████████| 100/100 [00:00<00:00, 218.17it/s]\n",
      "100%|██████████| 50/50 [00:00<00:00, 182.42it/s]\n"
     ]
    },
    {
     "name": "stdout",
     "output_type": "stream",
     "text": [
      "acc: 100.000%, f1: 1.000\n",
      "layer: 2, position: 8\n"
     ]
    },
    {
     "name": "stderr",
     "output_type": "stream",
     "text": [
      "100%|██████████| 100/100 [00:00<00:00, 208.67it/s]\n",
      "100%|██████████| 50/50 [00:00<00:00, 195.59it/s]\n"
     ]
    },
    {
     "name": "stdout",
     "output_type": "stream",
     "text": [
      "acc: 100.000%, f1: 1.000\n",
      "layer: 2, position: 9\n"
     ]
    },
    {
     "name": "stderr",
     "output_type": "stream",
     "text": [
      "100%|██████████| 100/100 [00:00<00:00, 212.22it/s]\n",
      "100%|██████████| 50/50 [00:00<00:00, 179.57it/s]\n"
     ]
    },
    {
     "name": "stdout",
     "output_type": "stream",
     "text": [
      "acc: 100.000%, f1: 1.000\n",
      "layer: 3, position: 0\n"
     ]
    },
    {
     "name": "stderr",
     "output_type": "stream",
     "text": [
      "100%|██████████| 100/100 [00:00<00:00, 193.22it/s]\n",
      "100%|██████████| 50/50 [00:00<00:00, 183.69it/s]\n"
     ]
    },
    {
     "name": "stdout",
     "output_type": "stream",
     "text": [
      "acc: 34.000%, f1: 0.340\n",
      "layer: 3, position: 1\n"
     ]
    },
    {
     "name": "stderr",
     "output_type": "stream",
     "text": [
      "100%|██████████| 100/100 [00:00<00:00, 195.33it/s]\n",
      "100%|██████████| 50/50 [00:00<00:00, 184.40it/s]\n"
     ]
    },
    {
     "name": "stdout",
     "output_type": "stream",
     "text": [
      "acc: 39.000%, f1: 0.390\n",
      "layer: 3, position: 2\n"
     ]
    },
    {
     "name": "stderr",
     "output_type": "stream",
     "text": [
      "100%|██████████| 100/100 [00:00<00:00, 201.76it/s]\n",
      "100%|██████████| 50/50 [00:00<00:00, 185.83it/s]\n"
     ]
    },
    {
     "name": "stdout",
     "output_type": "stream",
     "text": [
      "acc: 37.000%, f1: 0.370\n",
      "layer: 3, position: 3\n"
     ]
    },
    {
     "name": "stderr",
     "output_type": "stream",
     "text": [
      "100%|██████████| 100/100 [00:00<00:00, 207.17it/s]\n",
      "100%|██████████| 50/50 [00:00<00:00, 203.83it/s]\n"
     ]
    },
    {
     "name": "stdout",
     "output_type": "stream",
     "text": [
      "acc: 100.000%, f1: 1.000\n",
      "layer: 3, position: 4\n"
     ]
    },
    {
     "name": "stderr",
     "output_type": "stream",
     "text": [
      "100%|██████████| 100/100 [00:00<00:00, 220.63it/s]\n",
      "100%|██████████| 50/50 [00:00<00:00, 200.11it/s]\n"
     ]
    },
    {
     "name": "stdout",
     "output_type": "stream",
     "text": [
      "acc: 100.000%, f1: 1.000\n",
      "layer: 3, position: 5\n"
     ]
    },
    {
     "name": "stderr",
     "output_type": "stream",
     "text": [
      "100%|██████████| 100/100 [00:00<00:00, 223.96it/s]\n",
      "100%|██████████| 50/50 [00:00<00:00, 204.44it/s]\n"
     ]
    },
    {
     "name": "stdout",
     "output_type": "stream",
     "text": [
      "acc: 100.000%, f1: 1.000\n",
      "layer: 3, position: 6\n"
     ]
    },
    {
     "name": "stderr",
     "output_type": "stream",
     "text": [
      "100%|██████████| 100/100 [00:00<00:00, 225.34it/s]\n",
      "100%|██████████| 50/50 [00:00<00:00, 204.53it/s]\n"
     ]
    },
    {
     "name": "stdout",
     "output_type": "stream",
     "text": [
      "acc: 100.000%, f1: 1.000\n",
      "layer: 3, position: 7\n"
     ]
    },
    {
     "name": "stderr",
     "output_type": "stream",
     "text": [
      "100%|██████████| 100/100 [00:00<00:00, 208.35it/s]\n",
      "100%|██████████| 50/50 [00:00<00:00, 201.67it/s]\n"
     ]
    },
    {
     "name": "stdout",
     "output_type": "stream",
     "text": [
      "acc: 100.000%, f1: 1.000\n",
      "layer: 3, position: 8\n"
     ]
    },
    {
     "name": "stderr",
     "output_type": "stream",
     "text": [
      "100%|██████████| 100/100 [00:00<00:00, 220.92it/s]\n",
      "100%|██████████| 50/50 [00:00<00:00, 200.91it/s]\n"
     ]
    },
    {
     "name": "stdout",
     "output_type": "stream",
     "text": [
      "acc: 100.000%, f1: 1.000\n",
      "layer: 3, position: 9\n"
     ]
    },
    {
     "name": "stderr",
     "output_type": "stream",
     "text": [
      "100%|██████████| 100/100 [00:00<00:00, 221.81it/s]\n",
      "100%|██████████| 50/50 [00:00<00:00, 202.06it/s]\n"
     ]
    },
    {
     "name": "stdout",
     "output_type": "stream",
     "text": [
      "acc: 100.000%, f1: 1.000\n",
      "layer: 4, position: 0\n"
     ]
    },
    {
     "name": "stderr",
     "output_type": "stream",
     "text": [
      "100%|██████████| 100/100 [00:00<00:00, 225.45it/s]\n",
      "100%|██████████| 50/50 [00:00<00:00, 205.26it/s]\n"
     ]
    },
    {
     "name": "stdout",
     "output_type": "stream",
     "text": [
      "acc: 34.000%, f1: 0.340\n",
      "layer: 4, position: 1\n"
     ]
    },
    {
     "name": "stderr",
     "output_type": "stream",
     "text": [
      "100%|██████████| 100/100 [00:00<00:00, 228.48it/s]\n",
      "100%|██████████| 50/50 [00:00<00:00, 208.42it/s]\n"
     ]
    },
    {
     "name": "stdout",
     "output_type": "stream",
     "text": [
      "acc: 36.000%, f1: 0.360\n",
      "layer: 4, position: 2\n"
     ]
    },
    {
     "name": "stderr",
     "output_type": "stream",
     "text": [
      "100%|██████████| 100/100 [00:00<00:00, 226.89it/s]\n",
      "100%|██████████| 50/50 [00:00<00:00, 201.28it/s]\n"
     ]
    },
    {
     "name": "stdout",
     "output_type": "stream",
     "text": [
      "acc: 37.000%, f1: 0.370\n",
      "layer: 4, position: 3\n"
     ]
    },
    {
     "name": "stderr",
     "output_type": "stream",
     "text": [
      "100%|██████████| 100/100 [00:00<00:00, 225.16it/s]\n",
      "100%|██████████| 50/50 [00:00<00:00, 185.85it/s]\n"
     ]
    },
    {
     "name": "stdout",
     "output_type": "stream",
     "text": [
      "acc: 100.000%, f1: 1.000\n",
      "layer: 4, position: 4\n"
     ]
    },
    {
     "name": "stderr",
     "output_type": "stream",
     "text": [
      "100%|██████████| 100/100 [00:00<00:00, 212.77it/s]\n",
      "100%|██████████| 50/50 [00:00<00:00, 199.55it/s]\n"
     ]
    },
    {
     "name": "stdout",
     "output_type": "stream",
     "text": [
      "acc: 100.000%, f1: 1.000\n",
      "layer: 4, position: 5\n"
     ]
    },
    {
     "name": "stderr",
     "output_type": "stream",
     "text": [
      "100%|██████████| 100/100 [00:00<00:00, 222.51it/s]\n",
      "100%|██████████| 50/50 [00:00<00:00, 205.49it/s]\n"
     ]
    },
    {
     "name": "stdout",
     "output_type": "stream",
     "text": [
      "acc: 100.000%, f1: 1.000\n",
      "layer: 4, position: 6\n"
     ]
    },
    {
     "name": "stderr",
     "output_type": "stream",
     "text": [
      "100%|██████████| 100/100 [00:00<00:00, 218.27it/s]\n",
      "100%|██████████| 50/50 [00:00<00:00, 204.40it/s]\n"
     ]
    },
    {
     "name": "stdout",
     "output_type": "stream",
     "text": [
      "acc: 100.000%, f1: 1.000\n",
      "layer: 4, position: 7\n"
     ]
    },
    {
     "name": "stderr",
     "output_type": "stream",
     "text": [
      "100%|██████████| 100/100 [00:00<00:00, 221.32it/s]\n",
      "100%|██████████| 50/50 [00:00<00:00, 203.69it/s]\n"
     ]
    },
    {
     "name": "stdout",
     "output_type": "stream",
     "text": [
      "acc: 100.000%, f1: 1.000\n",
      "layer: 4, position: 8\n"
     ]
    },
    {
     "name": "stderr",
     "output_type": "stream",
     "text": [
      "100%|██████████| 100/100 [00:00<00:00, 223.59it/s]\n",
      "100%|██████████| 50/50 [00:00<00:00, 184.34it/s]\n"
     ]
    },
    {
     "name": "stdout",
     "output_type": "stream",
     "text": [
      "acc: 100.000%, f1: 1.000\n",
      "layer: 4, position: 9\n"
     ]
    },
    {
     "name": "stderr",
     "output_type": "stream",
     "text": [
      "100%|██████████| 100/100 [00:00<00:00, 222.50it/s]\n",
      "100%|██████████| 50/50 [00:00<00:00, 204.71it/s]\n"
     ]
    },
    {
     "name": "stdout",
     "output_type": "stream",
     "text": [
      "acc: 100.000%, f1: 1.000\n",
      "layer: 5, position: 0\n"
     ]
    },
    {
     "name": "stderr",
     "output_type": "stream",
     "text": [
      "100%|██████████| 100/100 [00:00<00:00, 222.61it/s]\n",
      "100%|██████████| 50/50 [00:00<00:00, 206.22it/s]\n"
     ]
    },
    {
     "name": "stdout",
     "output_type": "stream",
     "text": [
      "acc: 34.000%, f1: 0.340\n",
      "layer: 5, position: 1\n"
     ]
    },
    {
     "name": "stderr",
     "output_type": "stream",
     "text": [
      "100%|██████████| 100/100 [00:00<00:00, 227.58it/s]\n",
      "/mnt/m2-mint/nlp-winter2024/env/lib/python3.8/site-packages/sklearn/linear_model/_logistic.py:460: ConvergenceWarning: lbfgs failed to converge (status=1):\n",
      "STOP: TOTAL NO. of ITERATIONS REACHED LIMIT.\n",
      "\n",
      "Increase the number of iterations (max_iter) or scale the data as shown in:\n",
      "    https://scikit-learn.org/stable/modules/preprocessing.html\n",
      "Please also refer to the documentation for alternative solver options:\n",
      "    https://scikit-learn.org/stable/modules/linear_model.html#logistic-regression\n",
      "  n_iter_i = _check_optimize_result(\n",
      "100%|██████████| 50/50 [00:00<00:00, 205.69it/s]\n"
     ]
    },
    {
     "name": "stdout",
     "output_type": "stream",
     "text": [
      "acc: 38.000%, f1: 0.380\n",
      "layer: 5, position: 2\n"
     ]
    },
    {
     "name": "stderr",
     "output_type": "stream",
     "text": [
      "100%|██████████| 100/100 [00:00<00:00, 211.07it/s]\n",
      "100%|██████████| 50/50 [00:00<00:00, 204.62it/s]\n"
     ]
    },
    {
     "name": "stdout",
     "output_type": "stream",
     "text": [
      "acc: 37.000%, f1: 0.370\n",
      "layer: 5, position: 3\n"
     ]
    },
    {
     "name": "stderr",
     "output_type": "stream",
     "text": [
      "100%|██████████| 100/100 [00:00<00:00, 223.94it/s]\n",
      "100%|██████████| 50/50 [00:00<00:00, 204.99it/s]\n"
     ]
    },
    {
     "name": "stdout",
     "output_type": "stream",
     "text": [
      "acc: 100.000%, f1: 1.000\n",
      "layer: 5, position: 4\n"
     ]
    },
    {
     "name": "stderr",
     "output_type": "stream",
     "text": [
      "100%|██████████| 100/100 [00:00<00:00, 227.63it/s]\n",
      "100%|██████████| 50/50 [00:00<00:00, 205.60it/s]\n"
     ]
    },
    {
     "name": "stdout",
     "output_type": "stream",
     "text": [
      "acc: 100.000%, f1: 1.000\n",
      "layer: 5, position: 5\n"
     ]
    },
    {
     "name": "stderr",
     "output_type": "stream",
     "text": [
      "100%|██████████| 100/100 [00:00<00:00, 224.50it/s]\n",
      "100%|██████████| 50/50 [00:00<00:00, 206.31it/s]\n"
     ]
    },
    {
     "name": "stdout",
     "output_type": "stream",
     "text": [
      "acc: 100.000%, f1: 1.000\n",
      "layer: 5, position: 6\n"
     ]
    },
    {
     "name": "stderr",
     "output_type": "stream",
     "text": [
      "100%|██████████| 100/100 [00:00<00:00, 227.98it/s]\n",
      "100%|██████████| 50/50 [00:00<00:00, 206.68it/s]\n"
     ]
    },
    {
     "name": "stdout",
     "output_type": "stream",
     "text": [
      "acc: 100.000%, f1: 1.000\n",
      "layer: 5, position: 7\n"
     ]
    },
    {
     "name": "stderr",
     "output_type": "stream",
     "text": [
      "100%|██████████| 100/100 [00:00<00:00, 226.75it/s]\n",
      "100%|██████████| 50/50 [00:00<00:00, 199.79it/s]\n"
     ]
    },
    {
     "name": "stdout",
     "output_type": "stream",
     "text": [
      "acc: 100.000%, f1: 1.000\n",
      "layer: 5, position: 8\n"
     ]
    },
    {
     "name": "stderr",
     "output_type": "stream",
     "text": [
      "100%|██████████| 100/100 [00:00<00:00, 223.82it/s]\n",
      "100%|██████████| 50/50 [00:00<00:00, 196.73it/s]\n"
     ]
    },
    {
     "name": "stdout",
     "output_type": "stream",
     "text": [
      "acc: 100.000%, f1: 1.000\n",
      "layer: 5, position: 9\n"
     ]
    },
    {
     "name": "stderr",
     "output_type": "stream",
     "text": [
      "100%|██████████| 100/100 [00:00<00:00, 207.28it/s]\n",
      "100%|██████████| 50/50 [00:00<00:00, 193.52it/s]"
     ]
    },
    {
     "name": "stdout",
     "output_type": "stream",
     "text": [
      "acc: 100.000%, f1: 1.000\n"
     ]
    },
    {
     "name": "stderr",
     "output_type": "stream",
     "text": [
      "\n"
     ]
    }
   ],
   "source": [
    "# intervention settings\n",
    "stats = []\n",
    "num_layers = gpt.config.num_hidden_layers\n",
    "\n",
    "# 10329 = ' garden', 8576 = ' kitchen', 14098 = ' bedroom'\n",
    "label_mapping = {10329: 0, 8576: 1, 14098: 2}\n",
    "\n",
    "sample_length_in_tokens = 10\n",
    "\n",
    "# loop over layers and positions\n",
    "with torch.no_grad():\n",
    "    for layer in range(num_layers):\n",
    "        for position in range(sample_length_in_tokens):\n",
    "            print(f\"layer: {layer}, position: {position}\")\n",
    "\n",
    "            # set up intervenable model\n",
    "            config = probing_config(\"block_output\", layer)\n",
    "            intervenable = pv.IntervenableModel(config, gpt)\n",
    "            intervenable.set_device(device)\n",
    "            intervenable.disable_model_gradients()\n",
    "\n",
    "            # training loop\n",
    "            activations, labels = [], []\n",
    "            iterator = tqdm(trainset)\n",
    "            for example in iterator:\n",
    "                # forward pass\n",
    "                base_outputs, _ = intervenable(\n",
    "                    example.base,\n",
    "                    unit_locations={\"base\": position},\n",
    "                )\n",
    "                base_activations = base_outputs[1][0]\n",
    "\n",
    "                src_outputs, _ = intervenable(\n",
    "                    example.src,\n",
    "                    unit_locations={\"base\": position},\n",
    "                )\n",
    "                src_activations = src_outputs[1][0]\n",
    "\n",
    "                # collect activation\n",
    "                activations.extend(\n",
    "                    [\n",
    "                        base_activations.detach()[0].cpu().numpy(),\n",
    "                        src_activations.detach()[0].cpu().numpy(),\n",
    "                    ]\n",
    "                )\n",
    "                labels.extend([example.base_label, example.src_label])\n",
    "            labels = [label_mapping[label] for label in labels]\n",
    "\n",
    "            # train logistic regression\n",
    "            lr = LogisticRegression(random_state=42, max_iter=1000).fit(\n",
    "                activations, labels\n",
    "            )\n",
    "\n",
    "            # eval\n",
    "            activations, labels = [], []\n",
    "            iterator = tqdm(evalset)\n",
    "            for example in iterator:\n",
    "                # forward pass\n",
    "                base_outputs, _ = intervenable(\n",
    "                    example.base,\n",
    "                    unit_locations={\"base\": position},\n",
    "                )\n",
    "                base_activations = base_outputs[1][0]\n",
    "\n",
    "                src_outputs, _ = intervenable(\n",
    "                    example.src,\n",
    "                    unit_locations={\"base\": position},\n",
    "                )\n",
    "                src_activations = src_outputs[1][0]\n",
    "\n",
    "                # collect activation\n",
    "                activations.extend(\n",
    "                    [\n",
    "                        base_activations.detach()[0].cpu().numpy(),\n",
    "                        src_activations.detach()[0].cpu().numpy(),\n",
    "                    ]\n",
    "                )\n",
    "                labels.extend([example.base_label, example.src_label])\n",
    "            labels = [label_mapping[label] for label in labels]\n",
    "\n",
    "            # stats\n",
    "            acc = lr.score(activations, labels)\n",
    "            f1 = f1_score(labels, lr.predict(activations), average=\"micro\")\n",
    "            stats.append({\"layer\": layer, \"position\": position, \"acc\": acc, \"f1\": f1})\n",
    "            print(f\"acc: {acc:.3%}, f1: {f1:.3f}\")\n",
    "df = pd.DataFrame(stats)\n",
    "df.to_csv(f\"./pyvene_babi_nli_motivations_{model_size}.csv\")"
   ]
  },
  {
   "cell_type": "code",
   "execution_count": 10,
   "metadata": {},
   "outputs": [
    {
     "name": "stderr",
     "output_type": "stream",
     "text": [
      "/mnt/m2-mint/nlp-winter2024/env/lib/python3.8/site-packages/plotnine/ggplot.py:587: PlotnineWarning: Saving 6.4 x 4.8 in image.\n",
      "/mnt/m2-mint/nlp-winter2024/env/lib/python3.8/site-packages/plotnine/ggplot.py:588: PlotnineWarning: Filename: ./pyvene_babi_nli_motivations_70m.pdf\n"
     ]
    },
    {
     "data": {
      "image/png": "[encoded data removed]",
      "text/plain": [
       "<Figure size 640x480 with 1 Axes>"
      ]
     },
     "metadata": {
      "image/png": {
       "height": 480,
       "width": 640
      }
     },
     "output_type": "display_data"
    },
    {
     "name": "stdout",
     "output_type": "stream",
     "text": [
      "\n"
     ]
    }
   ],
   "source": [
    "from plotnine import (\n",
    "    ggplot,\n",
    "    geom_tile,\n",
    "    aes,\n",
    "    facet_wrap,\n",
    "    theme,\n",
    "    element_text,\n",
    "    geom_bar,\n",
    "    geom_hline,\n",
    "    scale_y_log10,\n",
    "    geom_line,\n",
    "    geom_point,\n",
    "    geom_text,\n",
    "    ggtitle,\n",
    "    xlab,\n",
    "    ylab,\n",
    "    ggsave,\n",
    ")\n",
    "from plotnine.scales import scale_y_reverse, scale_fill_cmap\n",
    "\n",
    "df = pd.read_csv(f\"./pyvene_babi_nli_motivations_{model_size}.csv\")\n",
    "df[\"layer\"] = df[\"layer\"].astype(int)\n",
    "df[\"pos\"] = df[\"position\"].astype(int)\n",
    "df[\"ACC\"] = df[\"acc\"].astype(float)\n",
    "\n",
    "custom_labels = [\n",
    "    \"EOS\",\n",
    "    \"<name>\",\n",
    "    \"is\",\n",
    "    \"<need>\",\n",
    "    \".\",\n",
    "    \"<name>\",\n",
    "    \"will\",\n",
    "    \"go\",\n",
    "    \"to\",\n",
    "    \"the\",\n",
    "]\n",
    "breaks = [0, 1, 2, 3, 4, 5, 6, 7, 8, 9]\n",
    "\n",
    "plot = (\n",
    "    ggplot(df, aes(x=\"layer\", y=\"pos\", fill=\"ACC\"))\n",
    "    + geom_tile()\n",
    "    + scale_fill_cmap(\"Reds\")\n",
    "    + xlab(\"layers\")\n",
    "    + scale_y_reverse(breaks=breaks, labels=custom_labels)\n",
    "    + ylab(\"\")\n",
    "    + theme(axis_text_y=element_text(angle=0, hjust=1))\n",
    "    + ggtitle(f\"Trained Linear Probe, Pythia-{model_size}\")\n",
    ")\n",
    "ggsave(plot, filename=f\"./pyvene_babi_nli_motivations_{model_size}.pdf\", dpi=200)\n",
    "print(plot)"
   ]
  }
 ],
 "metadata": {
  "kernelspec": {
   "display_name": "env",
   "language": "python",
   "name": "python3"
  },
  "language_info": {
   "codemirror_mode": {
    "name": "ipython",
    "version": 3
   },
   "file_extension": ".py",
   "mimetype": "text/x-python",
   "name": "python",
   "nbconvert_exporter": "python",
   "pygments_lexer": "ipython3",
   "version": "3.8.18"
  }
 },
 "nbformat": 4,
 "nbformat_minor": 2
}
