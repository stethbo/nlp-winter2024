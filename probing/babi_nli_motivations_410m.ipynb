{
 "cells": [
  {
   "cell_type": "code",
   "execution_count": 1,
   "metadata": {},
   "outputs": [
    {
     "name": "stdout",
     "output_type": "stream",
     "text": [
      "nnsight is not detected. Please install via 'pip install nnsight' for nnsight backend.\n"
     ]
    }
   ],
   "source": [
    "try:\n",
    "    # This library is our indicator that the required installs\n",
    "    # need to be done.\n",
    "    import pyvene as pv\n",
    "\n",
    "except ModuleNotFoundError:\n",
    "    !pip install git+https://github.com/stanfordnlp/pyvene.git"
   ]
  },
  {
   "cell_type": "code",
   "execution_count": 2,
   "metadata": {},
   "outputs": [],
   "source": [
    "import pandas as pd\n",
    "from transformers import (\n",
    "    AutoModelForCausalLM,\n",
    "    AutoTokenizer,\n",
    "    get_linear_schedule_with_warmup,\n",
    ")\n",
    "import torch\n",
    "import random\n",
    "from collections import namedtuple\n",
    "from tqdm import tqdm\n",
    "from sklearn.linear_model import LogisticRegression\n",
    "from sklearn.metrics import f1_score"
   ]
  },
  {
   "cell_type": "code",
   "execution_count": 3,
   "metadata": {},
   "outputs": [
    {
     "data": {
      "application/vnd.jupyter.widget-view+json": {
       "model_id": "ff6e1f3add2841be8eac0fa4cc0801df",
       "version_major": 2,
       "version_minor": 0
      },
      "text/plain": [
       "config.json:   0%|          | 0.00/570 [00:00<?, ?B/s]"
      ]
     },
     "metadata": {},
     "output_type": "display_data"
    },
    {
     "data": {
      "application/vnd.jupyter.widget-view+json": {
       "model_id": "37d9d9818b934d52880255e7d3bbda94",
       "version_major": 2,
       "version_minor": 0
      },
      "text/plain": [
       "model.safetensors:   0%|          | 0.00/911M [00:00<?, ?B/s]"
      ]
     },
     "metadata": {},
     "output_type": "display_data"
    }
   ],
   "source": [
    "device = \"cuda:0\" if torch.cuda.is_available() else \"cpu\"\n",
    "model_size = \"410m\"\n",
    "model = f\"EleutherAI/pythia-{model_size}\"  # \"EleutherAI/pythia-6.9B\"\n",
    "tokenizer = AutoTokenizer.from_pretrained(model)\n",
    "tokenizer.pad_token = tokenizer.eos_token\n",
    "gpt = AutoModelForCausalLM.from_pretrained(\n",
    "    model,\n",
    "    revision=\"main\",\n",
    "    torch_dtype=torch.bfloat16 if model == \"EleutherAI/pythia-6.9b\" else torch.float32,\n",
    ").to(device)"
   ]
  },
  {
   "cell_type": "code",
   "execution_count": 4,
   "metadata": {},
   "outputs": [],
   "source": [
    "needs_and_rooms = [\n",
    "    (\"hungry\", \"kitchen\"),\n",
    "    (\"tired\", \"bedroom\"),\n",
    "    (\"bored\", \"garden\"),\n",
    "]"
   ]
  },
  {
   "cell_type": "code",
   "execution_count": 5,
   "metadata": {},
   "outputs": [
    {
     "name": "stdout",
     "output_type": "stream",
     "text": [
      "<|endoftext|>John is hungry. John will go to the\n",
      "<|endoftext|>Anna is tired. Anna will go to the\n",
      " kitchen\n",
      " bedroom\n"
     ]
    }
   ],
   "source": [
    "Example = namedtuple(\"Example\", [\"base\", \"src\", \"base_label\", \"src_label\"])\n",
    "\n",
    "names = [\n",
    "    \"Donald\",\n",
    "    \"Gary\",\n",
    "    \"Deborah\",\n",
    "    \"Nancy\",\n",
    "    \"Diane\",\n",
    "    \"Peter\",\n",
    "    \"Kevin\",\n",
    "    \"Daniel\",\n",
    "    \"Roger\",\n",
    "    \"Ralph\",\n",
    "    \"Linda\",\n",
    "    \"Keith\",\n",
    "    \"Paul\",\n",
    "    \"Willie\",\n",
    "    \"Denise\",\n",
    "    \"Marie\",\n",
    "    \"Terry\",\n",
    "    \"Kayla\",\n",
    "    \"Elizabeth\",\n",
    "    \"Kelly\",\n",
    "    \"Gabriel\",\n",
    "    \"Cynthia\",\n",
    "    \"Joseph\",\n",
    "    \"Harold\",\n",
    "    \"Frances\",\n",
    "    \"Andrew\",\n",
    "    \"Alexis\",\n",
    "    \"Bradley\",\n",
    "    \"James\",\n",
    "    \"Thomas\",\n",
    "    \"Jason\",\n",
    "    \"Michael\",\n",
    "    \"Gregory\",\n",
    "    \"Sean\",\n",
    "    \"Vincent\",\n",
    "    \"Justin\",\n",
    "    \"Janet\",\n",
    "    \"Sarah\",\n",
    "    \"Andrea\",\n",
    "    \"Amy\",\n",
    "    \"Joan\",\n",
    "    \"Kimberly\",\n",
    "    \"Natalie\",\n",
    "    \"Gerald\",\n",
    "    \"Edward\",\n",
    "    \"Lisa\",\n",
    "    \"Marilyn\",\n",
    "    \"Ronald\",\n",
    "    \"Victoria\",\n",
    "    \"Eugene\",\n",
    "    \"Christina\",\n",
    "    \"Samantha\",\n",
    "    \"Matthew\",\n",
    "    \"Douglas\",\n",
    "    \"Kenneth\",\n",
    "    \"Sophia\",\n",
    "    \"Barbara\",\n",
    "    \"Margaret\",\n",
    "    \"Hannah\",\n",
    "    \"Ryan\",\n",
    "    \"Megan\",\n",
    "    \"Sandra\",\n",
    "    \"Robert\",\n",
    "    \"Madison\",\n",
    "    \"Carolyn\",\n",
    "    \"Amanda\",\n",
    "    \"Scott\",\n",
    "    \"Anthony\",\n",
    "    \"Mary\",\n",
    "    \"Eric\",\n",
    "    \"William\",\n",
    "    \"Lawrence\",\n",
    "    \"Christian\",\n",
    "    \"Lori\",\n",
    "    \"Henry\",\n",
    "    \"Betty\",\n",
    "    \"Dorothy\",\n",
    "    \"Samuel\",\n",
    "    \"Stephanie\",\n",
    "    \"Teresa\",\n",
    "    \"Nicole\",\n",
    "    \"Julia\",\n",
    "    \"Rebecca\",\n",
    "    \"Mason\",\n",
    "    \"Julie\",\n",
    "    \"Emma\",\n",
    "    \"Jeremy\",\n",
    "    \"Olivia\",\n",
    "    \"Larry\",\n",
    "    \"Juan\",\n",
    "    \"Adam\",\n",
    "    \"Alice\",\n",
    "    \"Amber\",\n",
    "    \"Joe\",\n",
    "    \"Angela\",\n",
    "    \"Sara\",\n",
    "    \"Judy\",\n",
    "    \"Christopher\",\n",
    "    \"Raymond\",\n",
    "    \"Jordan\",\n",
    "    \"Karen\",\n",
    "    \"Stephen\",\n",
    "    \"Kathleen\",\n",
    "    \"Billy\",\n",
    "    \"Rachel\",\n",
    "    \"Diana\",\n",
    "    \"Emily\",\n",
    "    \"Debra\",\n",
    "    \"Roy\",\n",
    "    \"Susan\",\n",
    "    \"Bobby\",\n",
    "    \"Gloria\",\n",
    "    \"Doris\",\n",
    "    \"Patricia\",\n",
    "    \"Ethan\",\n",
    "    \"Bruce\",\n",
    "    \"David\",\n",
    "    \"Richard\",\n",
    "    \"Judith\",\n",
    "    \"Michelle\",\n",
    "    \"Timothy\",\n",
    "    \"Frank\",\n",
    "    \"Philip\",\n",
    "    \"Melissa\",\n",
    "    \"Cheryl\",\n",
    "    \"Isabella\",\n",
    "    \"Jack\",\n",
    "    \"Randy\",\n",
    "    \"Danielle\",\n",
    "    \"Jennifer\",\n",
    "    \"Kyle\",\n",
    "    \"Walter\",\n",
    "    \"Austin\",\n",
    "    \"Janice\",\n",
    "    \"Sharon\",\n",
    "    \"Jean\",\n",
    "    \"Steven\",\n",
    "    \"Russell\",\n",
    "    \"Christine\",\n",
    "    \"Theresa\",\n",
    "    \"Katherine\",\n",
    "    \"Maria\",\n",
    "    \"Jesse\",\n",
    "    \"Ann\",\n",
    "    \"Arthur\",\n",
    "    \"Brandon\",\n",
    "    \"Jose\",\n",
    "    \"Carol\",\n",
    "    \"Jacqueline\",\n",
    "    \"Joyce\",\n",
    "    \"George\",\n",
    "    \"Alexander\",\n",
    "    \"Patrick\",\n",
    "    \"Zachary\",\n",
    "    \"Carl\",\n",
    "    \"Beverly\",\n",
    "    \"Evelyn\",\n",
    "    \"Virginia\",\n",
    "    \"Charlotte\",\n",
    "    \"Jonathan\",\n",
    "    \"Laura\",\n",
    "    \"John\",\n",
    "    \"Charles\",\n",
    "    \"Brian\",\n",
    "    \"Nicholas\",\n",
    "    \"Dylan\",\n",
    "    \"Tyler\",\n",
    "    \"Jeffrey\",\n",
    "    \"Jessica\",\n",
    "    \"Helen\",\n",
    "    \"Logan\",\n",
    "    \"Martha\",\n",
    "    \"Albert\",\n",
    "    \"Jerry\",\n",
    "    \"Nathan\",\n",
    "    \"Brenda\",\n",
    "    \"Ruth\",\n",
    "    \"Donna\",\n",
    "    \"Brittany\",\n",
    "    \"Shirley\",\n",
    "    \"Pamela\",\n",
    "    \"Catherine\",\n",
    "    \"Lauren\",\n",
    "    \"Abigail\",\n",
    "    \"Kathryn\",\n",
    "    \"Noah\",\n",
    "    \"Aaron\",\n",
    "    \"Bryan\",\n",
    "    \"Grace\",\n",
    "    \"Elijah\",\n",
    "    \"Heather\",\n",
    "    \"Alan\",\n",
    "    \"Mark\",\n",
    "    \"Wayne\",\n",
    "    \"Jacob\",\n",
    "    \"Ashley\",\n",
    "    \"Benjamin\",\n",
    "    \"Joshua\",\n",
    "    \"Dennis\",\n",
    "    \"Anna\",\n",
    "]\n",
    "\n",
    "names = [name for name in names if len(tokenizer.tokenize(name)) == 1]\n",
    "\n",
    "\n",
    "def make_pair(tokenizer, base_name, src_name, base_label, src_label):\n",
    "    base = tokenizer(\n",
    "        f\"<|endoftext|>{base_name} is {base_label[0]}. {base_name} will go to the\",\n",
    "        return_tensors=\"pt\",\n",
    "    )\n",
    "    src = tokenizer(\n",
    "        f\"<|endoftext|>{src_name} is {src_label[0]}. {src_name} will go to the\",\n",
    "        return_tensors=\"pt\",\n",
    "    )\n",
    "    base_label = tokenizer.encode(\" \" + base_label[1])[0]\n",
    "    src_label = tokenizer.encode(\" \" + src_label[1])[0]\n",
    "    return Example(base, src, base_label, src_label)\n",
    "\n",
    "\n",
    "def sample_example(tokenizer):\n",
    "    # sample labels (not matching)\n",
    "    base_label = random.choice(needs_and_rooms)\n",
    "    src_label = random.choice(\n",
    "        [tupl for tupl in needs_and_rooms if tupl[0] != base_label[0]]\n",
    "    )\n",
    "\n",
    "    # sample names\n",
    "    base_name = random.choice(names)\n",
    "    src_name = random.choice([name for name in names if name != base_name])\n",
    "\n",
    "    return make_pair(tokenizer, base_name, src_name, base_label, src_label)\n",
    "\n",
    "\n",
    "def create_all_examples(tokenizer):\n",
    "    examples = []\n",
    "    for need_and_room_base in needs_and_rooms:\n",
    "        for need_and_room_src in (\n",
    "            n_a_r for n_a_r in needs_and_rooms if n_a_r != need_and_room_base\n",
    "        ):\n",
    "            for base_name in names:\n",
    "                for src_name in (name for name in names if name != base_name):\n",
    "                    examples.append(\n",
    "                        make_pair(\n",
    "                            tokenizer,\n",
    "                            base_name,\n",
    "                            src_name,\n",
    "                            need_and_room_base,\n",
    "                            need_and_room_src,\n",
    "                        )\n",
    "                    )\n",
    "\n",
    "    return examples\n",
    "\n",
    "\n",
    "example = sample_example(tokenizer)\n",
    "\n",
    "print(tokenizer.decode(example.base.input_ids[0]))\n",
    "print(tokenizer.decode(example.src.input_ids[0]))\n",
    "print(tokenizer.decode(example.base_label))\n",
    "print(tokenizer.decode(example.src_label))\n",
    "\n",
    "\n",
    "# all_examples = create_all_examples(tokenizer)\n",
    "\n",
    "# print(len(all_examples))"
   ]
  },
  {
   "cell_type": "code",
   "execution_count": 6,
   "metadata": {},
   "outputs": [
    {
     "name": "stderr",
     "output_type": "stream",
     "text": [
      "100%|██████████| 150/150 [00:02<00:00, 59.87it/s]\n"
     ]
    }
   ],
   "source": [
    "def generate_n_doable_examples(n, model, tokenizer):\n",
    "    examples = []\n",
    "    iterator = tqdm(range(n))\n",
    "    # data_iterator = iter(all_examples)\n",
    "    while len(examples) < n:\n",
    "        # try:\n",
    "        #     ex = data_iterator.__next__()\n",
    "        # except StopIteration:\n",
    "        #     iterator.write(\n",
    "        #         f\"Not enough doable examples, returning {len(examples)} examples\"\n",
    "        #     )\n",
    "        #     break\n",
    "        ex = sample_example(tokenizer)\n",
    "\n",
    "        for k, v in ex.base.items():\n",
    "            if v is not None and isinstance(v, torch.Tensor):\n",
    "                ex.base[k] = v.to(model.device)\n",
    "        for k, v in ex.src.items():\n",
    "            if v is not None and isinstance(v, torch.Tensor):\n",
    "                ex.src[k] = v.to(model.device)\n",
    "        logits_src = model(**ex.src).logits[0, -1]\n",
    "        if logits_src[ex.src_label] > logits_src[ex.base_label]:\n",
    "            examples.append(ex)\n",
    "            iterator.update(1)\n",
    "    return examples\n",
    "\n",
    "\n",
    "total_steps = 150\n",
    "dataset = generate_n_doable_examples(total_steps, gpt, tokenizer)\n",
    "trainset = dataset[:100]\n",
    "evalset = dataset[100:]"
   ]
  },
  {
   "cell_type": "code",
   "execution_count": 7,
   "metadata": {},
   "outputs": [],
   "source": [
    "def probing_config(intervention_site, layer):\n",
    "    \"\"\"Generate intervention config.\"\"\"\n",
    "\n",
    "    # init\n",
    "    config = pv.IntervenableConfig(\n",
    "        [\n",
    "            {\n",
    "                \"layer\": layer,\n",
    "                \"component\": intervention_site,\n",
    "                \"intervention_type\": pv.CollectIntervention,\n",
    "            }\n",
    "        ]\n",
    "    )\n",
    "    return config"
   ]
  },
  {
   "cell_type": "code",
   "execution_count": 8,
   "metadata": {},
   "outputs": [
    {
     "name": "stdout",
     "output_type": "stream",
     "text": [
      "Label:   garden id:  10329\n",
      "Label:   kitchen id:  8576\n",
      "Label:   bedroom id:  14098\n"
     ]
    }
   ],
   "source": [
    "labels = [\" garden\", \" kitchen\", \" bedroom\"]\n",
    "\n",
    "\n",
    "for label in labels:\n",
    "    print(\"Label: \", label, \"id: \", tokenizer(label).input_ids[0])"
   ]
  },
  {
   "cell_type": "code",
   "execution_count": 9,
   "metadata": {},
   "outputs": [
    {
     "name": "stdout",
     "output_type": "stream",
     "text": [
      "layer: 0, position: 0\n"
     ]
    },
    {
     "name": "stderr",
     "output_type": "stream",
     "text": [
      "100%|██████████| 100/100 [00:01<00:00, 61.94it/s]\n",
      "100%|██████████| 50/50 [00:00<00:00, 60.72it/s]\n"
     ]
    },
    {
     "name": "stdout",
     "output_type": "stream",
     "text": [
      "acc: 32.000%, f1: 0.320\n",
      "layer: 0, position: 1\n"
     ]
    },
    {
     "name": "stderr",
     "output_type": "stream",
     "text": [
      "100%|██████████| 100/100 [00:01<00:00, 62.16it/s]\n",
      "100%|██████████| 50/50 [00:00<00:00, 63.27it/s]\n"
     ]
    },
    {
     "name": "stdout",
     "output_type": "stream",
     "text": [
      "acc: 40.000%, f1: 0.400\n",
      "layer: 0, position: 2\n"
     ]
    },
    {
     "name": "stderr",
     "output_type": "stream",
     "text": [
      "100%|██████████| 100/100 [00:01<00:00, 61.85it/s]\n",
      "100%|██████████| 50/50 [00:00<00:00, 60.18it/s]\n"
     ]
    },
    {
     "name": "stdout",
     "output_type": "stream",
     "text": [
      "acc: 36.000%, f1: 0.360\n",
      "layer: 0, position: 3\n"
     ]
    },
    {
     "name": "stderr",
     "output_type": "stream",
     "text": [
      "100%|██████████| 100/100 [00:01<00:00, 58.69it/s]\n",
      "100%|██████████| 50/50 [00:00<00:00, 57.40it/s]\n"
     ]
    },
    {
     "name": "stdout",
     "output_type": "stream",
     "text": [
      "acc: 100.000%, f1: 1.000\n",
      "layer: 0, position: 4\n"
     ]
    },
    {
     "name": "stderr",
     "output_type": "stream",
     "text": [
      "100%|██████████| 100/100 [00:01<00:00, 60.08it/s]\n",
      "100%|██████████| 50/50 [00:00<00:00, 59.61it/s]\n"
     ]
    },
    {
     "name": "stdout",
     "output_type": "stream",
     "text": [
      "acc: 100.000%, f1: 1.000\n",
      "layer: 0, position: 5\n"
     ]
    },
    {
     "name": "stderr",
     "output_type": "stream",
     "text": [
      "100%|██████████| 100/100 [00:01<00:00, 63.62it/s]\n",
      "100%|██████████| 50/50 [00:00<00:00, 59.59it/s]\n"
     ]
    },
    {
     "name": "stdout",
     "output_type": "stream",
     "text": [
      "acc: 76.000%, f1: 0.760\n",
      "layer: 0, position: 6\n"
     ]
    },
    {
     "name": "stderr",
     "output_type": "stream",
     "text": [
      "100%|██████████| 100/100 [00:01<00:00, 58.77it/s]\n",
      "100%|██████████| 50/50 [00:00<00:00, 58.31it/s]\n"
     ]
    },
    {
     "name": "stdout",
     "output_type": "stream",
     "text": [
      "acc: 100.000%, f1: 1.000\n",
      "layer: 0, position: 7\n"
     ]
    },
    {
     "name": "stderr",
     "output_type": "stream",
     "text": [
      "100%|██████████| 100/100 [00:01<00:00, 56.24it/s]\n",
      "100%|██████████| 50/50 [00:00<00:00, 56.26it/s]\n"
     ]
    },
    {
     "name": "stdout",
     "output_type": "stream",
     "text": [
      "acc: 100.000%, f1: 1.000\n",
      "layer: 0, position: 8\n"
     ]
    },
    {
     "name": "stderr",
     "output_type": "stream",
     "text": [
      "100%|██████████| 100/100 [00:01<00:00, 63.87it/s]\n",
      "100%|██████████| 50/50 [00:00<00:00, 61.99it/s]\n"
     ]
    },
    {
     "name": "stdout",
     "output_type": "stream",
     "text": [
      "acc: 100.000%, f1: 1.000\n",
      "layer: 0, position: 9\n"
     ]
    },
    {
     "name": "stderr",
     "output_type": "stream",
     "text": [
      "100%|██████████| 100/100 [00:01<00:00, 63.58it/s]\n",
      "100%|██████████| 50/50 [00:00<00:00, 62.69it/s]\n"
     ]
    },
    {
     "name": "stdout",
     "output_type": "stream",
     "text": [
      "acc: 100.000%, f1: 1.000\n",
      "layer: 1, position: 0\n"
     ]
    },
    {
     "name": "stderr",
     "output_type": "stream",
     "text": [
      "100%|██████████| 100/100 [00:01<00:00, 62.94it/s]\n",
      "100%|██████████| 50/50 [00:00<00:00, 63.39it/s]\n"
     ]
    },
    {
     "name": "stdout",
     "output_type": "stream",
     "text": [
      "acc: 32.000%, f1: 0.320\n",
      "layer: 1, position: 1\n"
     ]
    },
    {
     "name": "stderr",
     "output_type": "stream",
     "text": [
      "100%|██████████| 100/100 [00:01<00:00, 64.34it/s]\n",
      "100%|██████████| 50/50 [00:00<00:00, 63.00it/s]\n"
     ]
    },
    {
     "name": "stdout",
     "output_type": "stream",
     "text": [
      "acc: 41.000%, f1: 0.410\n",
      "layer: 1, position: 2\n"
     ]
    },
    {
     "name": "stderr",
     "output_type": "stream",
     "text": [
      "100%|██████████| 100/100 [00:01<00:00, 64.34it/s]\n",
      "100%|██████████| 50/50 [00:00<00:00, 60.28it/s]\n"
     ]
    },
    {
     "name": "stdout",
     "output_type": "stream",
     "text": [
      "acc: 39.000%, f1: 0.390\n",
      "layer: 1, position: 3\n"
     ]
    },
    {
     "name": "stderr",
     "output_type": "stream",
     "text": [
      "100%|██████████| 100/100 [00:01<00:00, 55.09it/s]\n",
      "100%|██████████| 50/50 [00:00<00:00, 55.47it/s]\n"
     ]
    },
    {
     "name": "stdout",
     "output_type": "stream",
     "text": [
      "acc: 100.000%, f1: 1.000\n",
      "layer: 1, position: 4\n"
     ]
    },
    {
     "name": "stderr",
     "output_type": "stream",
     "text": [
      "100%|██████████| 100/100 [00:01<00:00, 61.04it/s]\n",
      "100%|██████████| 50/50 [00:00<00:00, 60.97it/s]\n"
     ]
    },
    {
     "name": "stdout",
     "output_type": "stream",
     "text": [
      "acc: 100.000%, f1: 1.000\n",
      "layer: 1, position: 5\n"
     ]
    },
    {
     "name": "stderr",
     "output_type": "stream",
     "text": [
      "100%|██████████| 100/100 [00:01<00:00, 62.43it/s]\n",
      "100%|██████████| 50/50 [00:00<00:00, 62.77it/s]\n"
     ]
    },
    {
     "name": "stdout",
     "output_type": "stream",
     "text": [
      "acc: 75.000%, f1: 0.750\n",
      "layer: 1, position: 6\n"
     ]
    },
    {
     "name": "stderr",
     "output_type": "stream",
     "text": [
      "100%|██████████| 100/100 [00:01<00:00, 64.15it/s]\n",
      "100%|██████████| 50/50 [00:00<00:00, 61.00it/s]\n"
     ]
    },
    {
     "name": "stdout",
     "output_type": "stream",
     "text": [
      "acc: 98.000%, f1: 0.980\n",
      "layer: 1, position: 7\n"
     ]
    },
    {
     "name": "stderr",
     "output_type": "stream",
     "text": [
      "100%|██████████| 100/100 [00:01<00:00, 61.82it/s]\n",
      "100%|██████████| 50/50 [00:00<00:00, 62.61it/s]\n"
     ]
    },
    {
     "name": "stdout",
     "output_type": "stream",
     "text": [
      "acc: 100.000%, f1: 1.000\n",
      "layer: 1, position: 8\n"
     ]
    },
    {
     "name": "stderr",
     "output_type": "stream",
     "text": [
      "100%|██████████| 100/100 [00:01<00:00, 64.84it/s]\n",
      "100%|██████████| 50/50 [00:00<00:00, 64.16it/s]\n"
     ]
    },
    {
     "name": "stdout",
     "output_type": "stream",
     "text": [
      "acc: 100.000%, f1: 1.000\n",
      "layer: 1, position: 9\n"
     ]
    },
    {
     "name": "stderr",
     "output_type": "stream",
     "text": [
      "100%|██████████| 100/100 [00:01<00:00, 61.88it/s]\n",
      "100%|██████████| 50/50 [00:00<00:00, 61.27it/s]\n"
     ]
    },
    {
     "name": "stdout",
     "output_type": "stream",
     "text": [
      "acc: 98.000%, f1: 0.980\n",
      "layer: 2, position: 0\n"
     ]
    },
    {
     "name": "stderr",
     "output_type": "stream",
     "text": [
      "100%|██████████| 100/100 [00:01<00:00, 62.93it/s]\n",
      "100%|██████████| 50/50 [00:00<00:00, 60.96it/s]\n"
     ]
    },
    {
     "name": "stdout",
     "output_type": "stream",
     "text": [
      "acc: 32.000%, f1: 0.320\n",
      "layer: 2, position: 1\n"
     ]
    },
    {
     "name": "stderr",
     "output_type": "stream",
     "text": [
      "100%|██████████| 100/100 [00:01<00:00, 61.33it/s]\n",
      "100%|██████████| 50/50 [00:00<00:00, 60.38it/s]\n"
     ]
    },
    {
     "name": "stdout",
     "output_type": "stream",
     "text": [
      "acc: 40.000%, f1: 0.400\n",
      "layer: 2, position: 2\n"
     ]
    },
    {
     "name": "stderr",
     "output_type": "stream",
     "text": [
      "100%|██████████| 100/100 [00:01<00:00, 59.64it/s]\n",
      "100%|██████████| 50/50 [00:00<00:00, 58.12it/s]\n"
     ]
    },
    {
     "name": "stdout",
     "output_type": "stream",
     "text": [
      "acc: 39.000%, f1: 0.390\n",
      "layer: 2, position: 3\n"
     ]
    },
    {
     "name": "stderr",
     "output_type": "stream",
     "text": [
      "100%|██████████| 100/100 [00:01<00:00, 58.56it/s]\n",
      "100%|██████████| 50/50 [00:00<00:00, 58.09it/s]\n"
     ]
    },
    {
     "name": "stdout",
     "output_type": "stream",
     "text": [
      "acc: 100.000%, f1: 1.000\n",
      "layer: 2, position: 4\n"
     ]
    },
    {
     "name": "stderr",
     "output_type": "stream",
     "text": [
      "100%|██████████| 100/100 [00:01<00:00, 63.99it/s]\n",
      "100%|██████████| 50/50 [00:00<00:00, 59.66it/s]\n"
     ]
    },
    {
     "name": "stdout",
     "output_type": "stream",
     "text": [
      "acc: 100.000%, f1: 1.000\n",
      "layer: 2, position: 5\n"
     ]
    },
    {
     "name": "stderr",
     "output_type": "stream",
     "text": [
      "100%|██████████| 100/100 [00:01<00:00, 64.33it/s]\n",
      "100%|██████████| 50/50 [00:00<00:00, 60.64it/s]\n"
     ]
    },
    {
     "name": "stdout",
     "output_type": "stream",
     "text": [
      "acc: 73.000%, f1: 0.730\n",
      "layer: 2, position: 6\n"
     ]
    },
    {
     "name": "stderr",
     "output_type": "stream",
     "text": [
      "100%|██████████| 100/100 [00:01<00:00, 59.44it/s]\n",
      "100%|██████████| 50/50 [00:00<00:00, 62.65it/s]\n"
     ]
    },
    {
     "name": "stdout",
     "output_type": "stream",
     "text": [
      "acc: 100.000%, f1: 1.000\n",
      "layer: 2, position: 7\n"
     ]
    },
    {
     "name": "stderr",
     "output_type": "stream",
     "text": [
      "100%|██████████| 100/100 [00:01<00:00, 67.34it/s]\n",
      "100%|██████████| 50/50 [00:00<00:00, 66.55it/s]\n"
     ]
    },
    {
     "name": "stdout",
     "output_type": "stream",
     "text": [
      "acc: 100.000%, f1: 1.000\n",
      "layer: 2, position: 8\n"
     ]
    },
    {
     "name": "stderr",
     "output_type": "stream",
     "text": [
      "100%|██████████| 100/100 [00:01<00:00, 66.32it/s]\n",
      "100%|██████████| 50/50 [00:00<00:00, 67.32it/s]\n"
     ]
    },
    {
     "name": "stdout",
     "output_type": "stream",
     "text": [
      "acc: 100.000%, f1: 1.000\n",
      "layer: 2, position: 9\n"
     ]
    },
    {
     "name": "stderr",
     "output_type": "stream",
     "text": [
      "100%|██████████| 100/100 [00:01<00:00, 68.13it/s]\n",
      "100%|██████████| 50/50 [00:00<00:00, 68.30it/s]\n"
     ]
    },
    {
     "name": "stdout",
     "output_type": "stream",
     "text": [
      "acc: 100.000%, f1: 1.000\n",
      "layer: 3, position: 0\n"
     ]
    },
    {
     "name": "stderr",
     "output_type": "stream",
     "text": [
      "100%|██████████| 100/100 [00:01<00:00, 67.92it/s]\n",
      "100%|██████████| 50/50 [00:00<00:00, 67.18it/s]\n"
     ]
    },
    {
     "name": "stdout",
     "output_type": "stream",
     "text": [
      "acc: 32.000%, f1: 0.320\n",
      "layer: 3, position: 1\n"
     ]
    },
    {
     "name": "stderr",
     "output_type": "stream",
     "text": [
      "100%|██████████| 100/100 [00:01<00:00, 67.21it/s]\n",
      "100%|██████████| 50/50 [00:00<00:00, 67.63it/s]\n"
     ]
    },
    {
     "name": "stdout",
     "output_type": "stream",
     "text": [
      "acc: 40.000%, f1: 0.400\n",
      "layer: 3, position: 2\n"
     ]
    },
    {
     "name": "stderr",
     "output_type": "stream",
     "text": [
      "100%|██████████| 100/100 [00:01<00:00, 68.15it/s]\n",
      "100%|██████████| 50/50 [00:00<00:00, 67.38it/s]\n"
     ]
    },
    {
     "name": "stdout",
     "output_type": "stream",
     "text": [
      "acc: 41.000%, f1: 0.410\n",
      "layer: 3, position: 3\n"
     ]
    },
    {
     "name": "stderr",
     "output_type": "stream",
     "text": [
      "100%|██████████| 100/100 [00:01<00:00, 64.18it/s]\n",
      "100%|██████████| 50/50 [00:00<00:00, 64.01it/s]\n"
     ]
    },
    {
     "name": "stdout",
     "output_type": "stream",
     "text": [
      "acc: 100.000%, f1: 1.000\n",
      "layer: 3, position: 4\n"
     ]
    },
    {
     "name": "stderr",
     "output_type": "stream",
     "text": [
      "100%|██████████| 100/100 [00:01<00:00, 64.77it/s]\n",
      "100%|██████████| 50/50 [00:00<00:00, 64.07it/s]\n"
     ]
    },
    {
     "name": "stdout",
     "output_type": "stream",
     "text": [
      "acc: 100.000%, f1: 1.000\n",
      "layer: 3, position: 5\n"
     ]
    },
    {
     "name": "stderr",
     "output_type": "stream",
     "text": [
      "100%|██████████| 100/100 [00:01<00:00, 60.10it/s]\n",
      "100%|██████████| 50/50 [00:00<00:00, 65.63it/s]\n"
     ]
    },
    {
     "name": "stdout",
     "output_type": "stream",
     "text": [
      "acc: 85.000%, f1: 0.850\n",
      "layer: 3, position: 6\n"
     ]
    },
    {
     "name": "stderr",
     "output_type": "stream",
     "text": [
      "100%|██████████| 100/100 [00:01<00:00, 63.05it/s]\n",
      "100%|██████████| 50/50 [00:00<00:00, 65.22it/s]\n"
     ]
    },
    {
     "name": "stdout",
     "output_type": "stream",
     "text": [
      "acc: 100.000%, f1: 1.000\n",
      "layer: 3, position: 7\n"
     ]
    },
    {
     "name": "stderr",
     "output_type": "stream",
     "text": [
      "100%|██████████| 100/100 [00:01<00:00, 67.38it/s]\n",
      "100%|██████████| 50/50 [00:00<00:00, 67.60it/s]\n"
     ]
    },
    {
     "name": "stdout",
     "output_type": "stream",
     "text": [
      "acc: 100.000%, f1: 1.000\n",
      "layer: 3, position: 8\n"
     ]
    },
    {
     "name": "stderr",
     "output_type": "stream",
     "text": [
      "100%|██████████| 100/100 [00:01<00:00, 68.57it/s]\n",
      "100%|██████████| 50/50 [00:00<00:00, 60.90it/s]\n"
     ]
    },
    {
     "name": "stdout",
     "output_type": "stream",
     "text": [
      "acc: 100.000%, f1: 1.000\n",
      "layer: 3, position: 9\n"
     ]
    },
    {
     "name": "stderr",
     "output_type": "stream",
     "text": [
      "100%|██████████| 100/100 [00:01<00:00, 61.09it/s]\n",
      "100%|██████████| 50/50 [00:00<00:00, 61.91it/s]\n"
     ]
    },
    {
     "name": "stdout",
     "output_type": "stream",
     "text": [
      "acc: 100.000%, f1: 1.000\n",
      "layer: 4, position: 0\n"
     ]
    },
    {
     "name": "stderr",
     "output_type": "stream",
     "text": [
      "100%|██████████| 100/100 [00:01<00:00, 65.72it/s]\n",
      "100%|██████████| 50/50 [00:00<00:00, 63.76it/s]\n"
     ]
    },
    {
     "name": "stdout",
     "output_type": "stream",
     "text": [
      "acc: 32.000%, f1: 0.320\n",
      "layer: 4, position: 1\n"
     ]
    },
    {
     "name": "stderr",
     "output_type": "stream",
     "text": [
      "100%|██████████| 100/100 [00:01<00:00, 67.65it/s]\n",
      "100%|██████████| 50/50 [00:00<00:00, 67.69it/s]\n"
     ]
    },
    {
     "name": "stdout",
     "output_type": "stream",
     "text": [
      "acc: 38.000%, f1: 0.380\n",
      "layer: 4, position: 2\n"
     ]
    },
    {
     "name": "stderr",
     "output_type": "stream",
     "text": [
      "100%|██████████| 100/100 [00:01<00:00, 66.05it/s]\n",
      "100%|██████████| 50/50 [00:00<00:00, 59.65it/s]\n"
     ]
    },
    {
     "name": "stdout",
     "output_type": "stream",
     "text": [
      "acc: 42.000%, f1: 0.420\n",
      "layer: 4, position: 3\n"
     ]
    },
    {
     "name": "stderr",
     "output_type": "stream",
     "text": [
      "100%|██████████| 100/100 [00:01<00:00, 65.73it/s]\n",
      "100%|██████████| 50/50 [00:00<00:00, 66.37it/s]\n"
     ]
    },
    {
     "name": "stdout",
     "output_type": "stream",
     "text": [
      "acc: 100.000%, f1: 1.000\n",
      "layer: 4, position: 4\n"
     ]
    },
    {
     "name": "stderr",
     "output_type": "stream",
     "text": [
      "100%|██████████| 100/100 [00:01<00:00, 66.64it/s]\n",
      "100%|██████████| 50/50 [00:00<00:00, 66.49it/s]\n"
     ]
    },
    {
     "name": "stdout",
     "output_type": "stream",
     "text": [
      "acc: 100.000%, f1: 1.000\n",
      "layer: 4, position: 5\n"
     ]
    },
    {
     "name": "stderr",
     "output_type": "stream",
     "text": [
      "100%|██████████| 100/100 [00:01<00:00, 65.40it/s]\n",
      "100%|██████████| 50/50 [00:00<00:00, 66.85it/s]\n"
     ]
    },
    {
     "name": "stdout",
     "output_type": "stream",
     "text": [
      "acc: 92.000%, f1: 0.920\n",
      "layer: 4, position: 6\n"
     ]
    },
    {
     "name": "stderr",
     "output_type": "stream",
     "text": [
      "100%|██████████| 100/100 [00:01<00:00, 68.39it/s]\n",
      "100%|██████████| 50/50 [00:00<00:00, 66.91it/s]\n"
     ]
    },
    {
     "name": "stdout",
     "output_type": "stream",
     "text": [
      "acc: 100.000%, f1: 1.000\n",
      "layer: 4, position: 7\n"
     ]
    },
    {
     "name": "stderr",
     "output_type": "stream",
     "text": [
      "100%|██████████| 100/100 [00:01<00:00, 66.41it/s]\n",
      "100%|██████████| 50/50 [00:00<00:00, 62.80it/s]\n"
     ]
    },
    {
     "name": "stdout",
     "output_type": "stream",
     "text": [
      "acc: 100.000%, f1: 1.000\n",
      "layer: 4, position: 8\n"
     ]
    },
    {
     "name": "stderr",
     "output_type": "stream",
     "text": [
      "100%|██████████| 100/100 [00:01<00:00, 64.53it/s]\n",
      "100%|██████████| 50/50 [00:00<00:00, 67.61it/s]\n"
     ]
    },
    {
     "name": "stdout",
     "output_type": "stream",
     "text": [
      "acc: 100.000%, f1: 1.000\n",
      "layer: 4, position: 9\n"
     ]
    },
    {
     "name": "stderr",
     "output_type": "stream",
     "text": [
      "100%|██████████| 100/100 [00:01<00:00, 64.78it/s]\n",
      "100%|██████████| 50/50 [00:00<00:00, 64.55it/s]\n"
     ]
    },
    {
     "name": "stdout",
     "output_type": "stream",
     "text": [
      "acc: 100.000%, f1: 1.000\n",
      "layer: 5, position: 0\n"
     ]
    },
    {
     "name": "stderr",
     "output_type": "stream",
     "text": [
      "100%|██████████| 100/100 [00:01<00:00, 66.63it/s]\n",
      "100%|██████████| 50/50 [00:00<00:00, 63.42it/s]\n"
     ]
    },
    {
     "name": "stdout",
     "output_type": "stream",
     "text": [
      "acc: 32.000%, f1: 0.320\n",
      "layer: 5, position: 1\n"
     ]
    },
    {
     "name": "stderr",
     "output_type": "stream",
     "text": [
      "100%|██████████| 100/100 [00:01<00:00, 62.72it/s]\n",
      "100%|██████████| 50/50 [00:00<00:00, 64.81it/s]\n"
     ]
    },
    {
     "name": "stdout",
     "output_type": "stream",
     "text": [
      "acc: 40.000%, f1: 0.400\n",
      "layer: 5, position: 2\n"
     ]
    },
    {
     "name": "stderr",
     "output_type": "stream",
     "text": [
      "100%|██████████| 100/100 [00:01<00:00, 65.52it/s]\n",
      "100%|██████████| 50/50 [00:00<00:00, 61.81it/s]\n"
     ]
    },
    {
     "name": "stdout",
     "output_type": "stream",
     "text": [
      "acc: 37.000%, f1: 0.370\n",
      "layer: 5, position: 3\n"
     ]
    },
    {
     "name": "stderr",
     "output_type": "stream",
     "text": [
      "100%|██████████| 100/100 [00:01<00:00, 65.65it/s]\n",
      "100%|██████████| 50/50 [00:00<00:00, 66.98it/s]\n"
     ]
    },
    {
     "name": "stdout",
     "output_type": "stream",
     "text": [
      "acc: 100.000%, f1: 1.000\n",
      "layer: 5, position: 4\n"
     ]
    },
    {
     "name": "stderr",
     "output_type": "stream",
     "text": [
      "100%|██████████| 100/100 [00:01<00:00, 67.92it/s]\n",
      "100%|██████████| 50/50 [00:00<00:00, 67.41it/s]\n"
     ]
    },
    {
     "name": "stdout",
     "output_type": "stream",
     "text": [
      "acc: 100.000%, f1: 1.000\n",
      "layer: 5, position: 5\n"
     ]
    },
    {
     "name": "stderr",
     "output_type": "stream",
     "text": [
      "100%|██████████| 100/100 [00:01<00:00, 66.83it/s]\n",
      "100%|██████████| 50/50 [00:00<00:00, 67.94it/s]\n"
     ]
    },
    {
     "name": "stdout",
     "output_type": "stream",
     "text": [
      "acc: 100.000%, f1: 1.000\n",
      "layer: 5, position: 6\n"
     ]
    },
    {
     "name": "stderr",
     "output_type": "stream",
     "text": [
      "100%|██████████| 100/100 [00:01<00:00, 68.20it/s]\n",
      "100%|██████████| 50/50 [00:00<00:00, 67.56it/s]\n"
     ]
    },
    {
     "name": "stdout",
     "output_type": "stream",
     "text": [
      "acc: 100.000%, f1: 1.000\n",
      "layer: 5, position: 7\n"
     ]
    },
    {
     "name": "stderr",
     "output_type": "stream",
     "text": [
      "100%|██████████| 100/100 [00:01<00:00, 68.38it/s]\n",
      "100%|██████████| 50/50 [00:00<00:00, 67.73it/s]\n"
     ]
    },
    {
     "name": "stdout",
     "output_type": "stream",
     "text": [
      "acc: 100.000%, f1: 1.000\n",
      "layer: 5, position: 8\n"
     ]
    },
    {
     "name": "stderr",
     "output_type": "stream",
     "text": [
      "100%|██████████| 100/100 [00:01<00:00, 60.65it/s]\n",
      "100%|██████████| 50/50 [00:00<00:00, 58.78it/s]\n"
     ]
    },
    {
     "name": "stdout",
     "output_type": "stream",
     "text": [
      "acc: 100.000%, f1: 1.000\n",
      "layer: 5, position: 9\n"
     ]
    },
    {
     "name": "stderr",
     "output_type": "stream",
     "text": [
      "100%|██████████| 100/100 [00:01<00:00, 60.86it/s]\n",
      "100%|██████████| 50/50 [00:00<00:00, 60.35it/s]\n"
     ]
    },
    {
     "name": "stdout",
     "output_type": "stream",
     "text": [
      "acc: 100.000%, f1: 1.000\n",
      "layer: 6, position: 0\n"
     ]
    },
    {
     "name": "stderr",
     "output_type": "stream",
     "text": [
      "100%|██████████| 100/100 [00:01<00:00, 64.39it/s]\n",
      "100%|██████████| 50/50 [00:00<00:00, 59.53it/s]\n"
     ]
    },
    {
     "name": "stdout",
     "output_type": "stream",
     "text": [
      "acc: 32.000%, f1: 0.320\n",
      "layer: 6, position: 1\n"
     ]
    },
    {
     "name": "stderr",
     "output_type": "stream",
     "text": [
      "100%|██████████| 100/100 [00:01<00:00, 63.93it/s]\n",
      "100%|██████████| 50/50 [00:00<00:00, 61.78it/s]\n"
     ]
    },
    {
     "name": "stdout",
     "output_type": "stream",
     "text": [
      "acc: 38.000%, f1: 0.380\n",
      "layer: 6, position: 2\n"
     ]
    },
    {
     "name": "stderr",
     "output_type": "stream",
     "text": [
      "100%|██████████| 100/100 [00:01<00:00, 61.50it/s]\n",
      "100%|██████████| 50/50 [00:00<00:00, 62.82it/s]\n"
     ]
    },
    {
     "name": "stdout",
     "output_type": "stream",
     "text": [
      "acc: 37.000%, f1: 0.370\n",
      "layer: 6, position: 3\n"
     ]
    },
    {
     "name": "stderr",
     "output_type": "stream",
     "text": [
      "100%|██████████| 100/100 [00:01<00:00, 64.47it/s]\n",
      "100%|██████████| 50/50 [00:00<00:00, 58.04it/s]\n"
     ]
    },
    {
     "name": "stdout",
     "output_type": "stream",
     "text": [
      "acc: 100.000%, f1: 1.000\n",
      "layer: 6, position: 4\n"
     ]
    },
    {
     "name": "stderr",
     "output_type": "stream",
     "text": [
      "100%|██████████| 100/100 [00:01<00:00, 63.70it/s]\n",
      "100%|██████████| 50/50 [00:00<00:00, 63.60it/s]\n"
     ]
    },
    {
     "name": "stdout",
     "output_type": "stream",
     "text": [
      "acc: 100.000%, f1: 1.000\n",
      "layer: 6, position: 5\n"
     ]
    },
    {
     "name": "stderr",
     "output_type": "stream",
     "text": [
      "100%|██████████| 100/100 [00:01<00:00, 62.76it/s]\n",
      "100%|██████████| 50/50 [00:00<00:00, 63.05it/s]\n"
     ]
    },
    {
     "name": "stdout",
     "output_type": "stream",
     "text": [
      "acc: 100.000%, f1: 1.000\n",
      "layer: 6, position: 6\n"
     ]
    },
    {
     "name": "stderr",
     "output_type": "stream",
     "text": [
      "100%|██████████| 100/100 [00:01<00:00, 63.62it/s]\n",
      "100%|██████████| 50/50 [00:00<00:00, 63.69it/s]\n"
     ]
    },
    {
     "name": "stdout",
     "output_type": "stream",
     "text": [
      "acc: 100.000%, f1: 1.000\n",
      "layer: 6, position: 7\n"
     ]
    },
    {
     "name": "stderr",
     "output_type": "stream",
     "text": [
      "100%|██████████| 100/100 [00:01<00:00, 62.70it/s]\n",
      "100%|██████████| 50/50 [00:00<00:00, 62.52it/s]\n"
     ]
    },
    {
     "name": "stdout",
     "output_type": "stream",
     "text": [
      "acc: 100.000%, f1: 1.000\n",
      "layer: 6, position: 8\n"
     ]
    },
    {
     "name": "stderr",
     "output_type": "stream",
     "text": [
      "100%|██████████| 100/100 [00:01<00:00, 62.06it/s]\n",
      "100%|██████████| 50/50 [00:00<00:00, 63.09it/s]\n"
     ]
    },
    {
     "name": "stdout",
     "output_type": "stream",
     "text": [
      "acc: 100.000%, f1: 1.000\n",
      "layer: 6, position: 9\n"
     ]
    },
    {
     "name": "stderr",
     "output_type": "stream",
     "text": [
      "100%|██████████| 100/100 [00:01<00:00, 64.01it/s]\n",
      "100%|██████████| 50/50 [00:00<00:00, 61.22it/s]\n"
     ]
    },
    {
     "name": "stdout",
     "output_type": "stream",
     "text": [
      "acc: 100.000%, f1: 1.000\n",
      "layer: 7, position: 0\n"
     ]
    },
    {
     "name": "stderr",
     "output_type": "stream",
     "text": [
      "100%|██████████| 100/100 [00:01<00:00, 62.13it/s]\n",
      "100%|██████████| 50/50 [00:00<00:00, 57.75it/s]\n"
     ]
    },
    {
     "name": "stdout",
     "output_type": "stream",
     "text": [
      "acc: 32.000%, f1: 0.320\n",
      "layer: 7, position: 1\n"
     ]
    },
    {
     "name": "stderr",
     "output_type": "stream",
     "text": [
      "100%|██████████| 100/100 [00:01<00:00, 58.68it/s]\n",
      "100%|██████████| 50/50 [00:00<00:00, 66.04it/s]\n"
     ]
    },
    {
     "name": "stdout",
     "output_type": "stream",
     "text": [
      "acc: 38.000%, f1: 0.380\n",
      "layer: 7, position: 2\n"
     ]
    },
    {
     "name": "stderr",
     "output_type": "stream",
     "text": [
      "100%|██████████| 100/100 [00:01<00:00, 61.80it/s]\n",
      "100%|██████████| 50/50 [00:00<00:00, 58.15it/s]\n"
     ]
    },
    {
     "name": "stdout",
     "output_type": "stream",
     "text": [
      "acc: 37.000%, f1: 0.370\n",
      "layer: 7, position: 3\n"
     ]
    },
    {
     "name": "stderr",
     "output_type": "stream",
     "text": [
      "100%|██████████| 100/100 [00:01<00:00, 68.85it/s]\n",
      "100%|██████████| 50/50 [00:00<00:00, 61.36it/s]\n"
     ]
    },
    {
     "name": "stdout",
     "output_type": "stream",
     "text": [
      "acc: 100.000%, f1: 1.000\n",
      "layer: 7, position: 4\n"
     ]
    },
    {
     "name": "stderr",
     "output_type": "stream",
     "text": [
      "100%|██████████| 100/100 [00:01<00:00, 64.48it/s]\n",
      "100%|██████████| 50/50 [00:00<00:00, 66.28it/s]\n"
     ]
    },
    {
     "name": "stdout",
     "output_type": "stream",
     "text": [
      "acc: 100.000%, f1: 1.000\n",
      "layer: 7, position: 5\n"
     ]
    },
    {
     "name": "stderr",
     "output_type": "stream",
     "text": [
      "100%|██████████| 100/100 [00:01<00:00, 62.74it/s]\n",
      "100%|██████████| 50/50 [00:00<00:00, 64.33it/s]\n"
     ]
    },
    {
     "name": "stdout",
     "output_type": "stream",
     "text": [
      "acc: 100.000%, f1: 1.000\n",
      "layer: 7, position: 6\n"
     ]
    },
    {
     "name": "stderr",
     "output_type": "stream",
     "text": [
      "100%|██████████| 100/100 [00:01<00:00, 62.98it/s]\n",
      "100%|██████████| 50/50 [00:00<00:00, 58.73it/s]\n"
     ]
    },
    {
     "name": "stdout",
     "output_type": "stream",
     "text": [
      "acc: 100.000%, f1: 1.000\n",
      "layer: 7, position: 7\n"
     ]
    },
    {
     "name": "stderr",
     "output_type": "stream",
     "text": [
      "100%|██████████| 100/100 [00:01<00:00, 60.86it/s]\n",
      "100%|██████████| 50/50 [00:00<00:00, 60.74it/s]\n"
     ]
    },
    {
     "name": "stdout",
     "output_type": "stream",
     "text": [
      "acc: 100.000%, f1: 1.000\n",
      "layer: 7, position: 8\n"
     ]
    },
    {
     "name": "stderr",
     "output_type": "stream",
     "text": [
      "100%|██████████| 100/100 [00:01<00:00, 63.55it/s]\n",
      "100%|██████████| 50/50 [00:00<00:00, 57.85it/s]\n"
     ]
    },
    {
     "name": "stdout",
     "output_type": "stream",
     "text": [
      "acc: 100.000%, f1: 1.000\n",
      "layer: 7, position: 9\n"
     ]
    },
    {
     "name": "stderr",
     "output_type": "stream",
     "text": [
      "100%|██████████| 100/100 [00:01<00:00, 60.40it/s]\n",
      "100%|██████████| 50/50 [00:00<00:00, 57.62it/s]\n"
     ]
    },
    {
     "name": "stdout",
     "output_type": "stream",
     "text": [
      "acc: 100.000%, f1: 1.000\n",
      "layer: 8, position: 0\n"
     ]
    },
    {
     "name": "stderr",
     "output_type": "stream",
     "text": [
      "100%|██████████| 100/100 [00:01<00:00, 60.41it/s]\n",
      "100%|██████████| 50/50 [00:00<00:00, 59.47it/s]\n"
     ]
    },
    {
     "name": "stdout",
     "output_type": "stream",
     "text": [
      "acc: 32.000%, f1: 0.320\n",
      "layer: 8, position: 1\n"
     ]
    },
    {
     "name": "stderr",
     "output_type": "stream",
     "text": [
      "100%|██████████| 100/100 [00:01<00:00, 57.88it/s]\n",
      "100%|██████████| 50/50 [00:00<00:00, 57.77it/s]\n"
     ]
    },
    {
     "name": "stdout",
     "output_type": "stream",
     "text": [
      "acc: 40.000%, f1: 0.400\n",
      "layer: 8, position: 2\n"
     ]
    },
    {
     "name": "stderr",
     "output_type": "stream",
     "text": [
      "100%|██████████| 100/100 [00:01<00:00, 61.10it/s]\n",
      "100%|██████████| 50/50 [00:00<00:00, 61.18it/s]\n"
     ]
    },
    {
     "name": "stdout",
     "output_type": "stream",
     "text": [
      "acc: 39.000%, f1: 0.390\n",
      "layer: 8, position: 3\n"
     ]
    },
    {
     "name": "stderr",
     "output_type": "stream",
     "text": [
      "100%|██████████| 100/100 [00:01<00:00, 60.91it/s]\n",
      "100%|██████████| 50/50 [00:00<00:00, 59.71it/s]\n"
     ]
    },
    {
     "name": "stdout",
     "output_type": "stream",
     "text": [
      "acc: 100.000%, f1: 1.000\n",
      "layer: 8, position: 4\n"
     ]
    },
    {
     "name": "stderr",
     "output_type": "stream",
     "text": [
      "100%|██████████| 100/100 [00:01<00:00, 62.23it/s]\n",
      "100%|██████████| 50/50 [00:00<00:00, 61.22it/s]\n"
     ]
    },
    {
     "name": "stdout",
     "output_type": "stream",
     "text": [
      "acc: 100.000%, f1: 1.000\n",
      "layer: 8, position: 5\n"
     ]
    },
    {
     "name": "stderr",
     "output_type": "stream",
     "text": [
      "100%|██████████| 100/100 [00:01<00:00, 61.18it/s]\n",
      "100%|██████████| 50/50 [00:00<00:00, 60.57it/s]\n"
     ]
    },
    {
     "name": "stdout",
     "output_type": "stream",
     "text": [
      "acc: 100.000%, f1: 1.000\n",
      "layer: 8, position: 6\n"
     ]
    },
    {
     "name": "stderr",
     "output_type": "stream",
     "text": [
      "100%|██████████| 100/100 [00:01<00:00, 62.13it/s]\n",
      "100%|██████████| 50/50 [00:00<00:00, 59.93it/s]\n"
     ]
    },
    {
     "name": "stdout",
     "output_type": "stream",
     "text": [
      "acc: 100.000%, f1: 1.000\n",
      "layer: 8, position: 7\n"
     ]
    },
    {
     "name": "stderr",
     "output_type": "stream",
     "text": [
      "100%|██████████| 100/100 [00:01<00:00, 62.18it/s]\n",
      "100%|██████████| 50/50 [00:00<00:00, 60.90it/s]\n"
     ]
    },
    {
     "name": "stdout",
     "output_type": "stream",
     "text": [
      "acc: 100.000%, f1: 1.000\n",
      "layer: 8, position: 8\n"
     ]
    },
    {
     "name": "stderr",
     "output_type": "stream",
     "text": [
      "100%|██████████| 100/100 [00:01<00:00, 61.25it/s]\n",
      "100%|██████████| 50/50 [00:00<00:00, 60.58it/s]\n"
     ]
    },
    {
     "name": "stdout",
     "output_type": "stream",
     "text": [
      "acc: 100.000%, f1: 1.000\n",
      "layer: 8, position: 9\n"
     ]
    },
    {
     "name": "stderr",
     "output_type": "stream",
     "text": [
      "100%|██████████| 100/100 [00:01<00:00, 62.28it/s]\n",
      "100%|██████████| 50/50 [00:00<00:00, 60.90it/s]\n"
     ]
    },
    {
     "name": "stdout",
     "output_type": "stream",
     "text": [
      "acc: 100.000%, f1: 1.000\n",
      "layer: 9, position: 0\n"
     ]
    },
    {
     "name": "stderr",
     "output_type": "stream",
     "text": [
      "100%|██████████| 100/100 [00:01<00:00, 62.79it/s]\n",
      "100%|██████████| 50/50 [00:00<00:00, 59.40it/s]\n"
     ]
    },
    {
     "name": "stdout",
     "output_type": "stream",
     "text": [
      "acc: 32.000%, f1: 0.320\n",
      "layer: 9, position: 1\n"
     ]
    },
    {
     "name": "stderr",
     "output_type": "stream",
     "text": [
      "100%|██████████| 100/100 [00:01<00:00, 57.81it/s]\n",
      "100%|██████████| 50/50 [00:00<00:00, 56.20it/s]\n"
     ]
    },
    {
     "name": "stdout",
     "output_type": "stream",
     "text": [
      "acc: 40.000%, f1: 0.400\n",
      "layer: 9, position: 2\n"
     ]
    },
    {
     "name": "stderr",
     "output_type": "stream",
     "text": [
      "100%|██████████| 100/100 [00:01<00:00, 58.57it/s]\n",
      "100%|██████████| 50/50 [00:00<00:00, 59.66it/s]\n"
     ]
    },
    {
     "name": "stdout",
     "output_type": "stream",
     "text": [
      "acc: 38.000%, f1: 0.380\n",
      "layer: 9, position: 3\n"
     ]
    },
    {
     "name": "stderr",
     "output_type": "stream",
     "text": [
      "100%|██████████| 100/100 [00:01<00:00, 60.05it/s]\n",
      "100%|██████████| 50/50 [00:00<00:00, 59.90it/s]\n"
     ]
    },
    {
     "name": "stdout",
     "output_type": "stream",
     "text": [
      "acc: 100.000%, f1: 1.000\n",
      "layer: 9, position: 4\n"
     ]
    },
    {
     "name": "stderr",
     "output_type": "stream",
     "text": [
      "100%|██████████| 100/100 [00:01<00:00, 60.13it/s]\n",
      "100%|██████████| 50/50 [00:00<00:00, 58.59it/s]\n"
     ]
    },
    {
     "name": "stdout",
     "output_type": "stream",
     "text": [
      "acc: 100.000%, f1: 1.000\n",
      "layer: 9, position: 5\n"
     ]
    },
    {
     "name": "stderr",
     "output_type": "stream",
     "text": [
      "100%|██████████| 100/100 [00:01<00:00, 62.68it/s]\n",
      "100%|██████████| 50/50 [00:00<00:00, 61.33it/s]\n"
     ]
    },
    {
     "name": "stdout",
     "output_type": "stream",
     "text": [
      "acc: 100.000%, f1: 1.000\n",
      "layer: 9, position: 6\n"
     ]
    },
    {
     "name": "stderr",
     "output_type": "stream",
     "text": [
      "100%|██████████| 100/100 [00:01<00:00, 61.88it/s]\n",
      "100%|██████████| 50/50 [00:00<00:00, 61.77it/s]\n"
     ]
    },
    {
     "name": "stdout",
     "output_type": "stream",
     "text": [
      "acc: 100.000%, f1: 1.000\n",
      "layer: 9, position: 7\n"
     ]
    },
    {
     "name": "stderr",
     "output_type": "stream",
     "text": [
      "100%|██████████| 100/100 [00:01<00:00, 63.26it/s]\n",
      "100%|██████████| 50/50 [00:00<00:00, 58.89it/s]\n"
     ]
    },
    {
     "name": "stdout",
     "output_type": "stream",
     "text": [
      "acc: 100.000%, f1: 1.000\n",
      "layer: 9, position: 8\n"
     ]
    },
    {
     "name": "stderr",
     "output_type": "stream",
     "text": [
      "100%|██████████| 100/100 [00:01<00:00, 61.34it/s]\n",
      "100%|██████████| 50/50 [00:00<00:00, 60.80it/s]\n"
     ]
    },
    {
     "name": "stdout",
     "output_type": "stream",
     "text": [
      "acc: 100.000%, f1: 1.000\n",
      "layer: 9, position: 9\n"
     ]
    },
    {
     "name": "stderr",
     "output_type": "stream",
     "text": [
      "100%|██████████| 100/100 [00:01<00:00, 59.99it/s]\n",
      "100%|██████████| 50/50 [00:00<00:00, 57.10it/s]\n"
     ]
    },
    {
     "name": "stdout",
     "output_type": "stream",
     "text": [
      "acc: 100.000%, f1: 1.000\n",
      "layer: 10, position: 0\n"
     ]
    },
    {
     "name": "stderr",
     "output_type": "stream",
     "text": [
      "100%|██████████| 100/100 [00:01<00:00, 60.19it/s]\n",
      "100%|██████████| 50/50 [00:00<00:00, 55.86it/s]\n"
     ]
    },
    {
     "name": "stdout",
     "output_type": "stream",
     "text": [
      "acc: 32.000%, f1: 0.320\n",
      "layer: 10, position: 1\n"
     ]
    },
    {
     "name": "stderr",
     "output_type": "stream",
     "text": [
      "100%|██████████| 100/100 [00:01<00:00, 62.82it/s]\n",
      "100%|██████████| 50/50 [00:00<00:00, 61.25it/s]\n"
     ]
    },
    {
     "name": "stdout",
     "output_type": "stream",
     "text": [
      "acc: 39.000%, f1: 0.390\n",
      "layer: 10, position: 2\n"
     ]
    },
    {
     "name": "stderr",
     "output_type": "stream",
     "text": [
      "100%|██████████| 100/100 [00:01<00:00, 61.51it/s]\n",
      "100%|██████████| 50/50 [00:00<00:00, 66.63it/s]\n"
     ]
    },
    {
     "name": "stdout",
     "output_type": "stream",
     "text": [
      "acc: 38.000%, f1: 0.380\n",
      "layer: 10, position: 3\n"
     ]
    },
    {
     "name": "stderr",
     "output_type": "stream",
     "text": [
      "100%|██████████| 100/100 [00:01<00:00, 67.34it/s]\n",
      "100%|██████████| 50/50 [00:00<00:00, 65.61it/s]\n"
     ]
    },
    {
     "name": "stdout",
     "output_type": "stream",
     "text": [
      "acc: 100.000%, f1: 1.000\n",
      "layer: 10, position: 4\n"
     ]
    },
    {
     "name": "stderr",
     "output_type": "stream",
     "text": [
      "100%|██████████| 100/100 [00:01<00:00, 65.58it/s]\n",
      "100%|██████████| 50/50 [00:00<00:00, 64.43it/s]\n"
     ]
    },
    {
     "name": "stdout",
     "output_type": "stream",
     "text": [
      "acc: 100.000%, f1: 1.000\n",
      "layer: 10, position: 5\n"
     ]
    },
    {
     "name": "stderr",
     "output_type": "stream",
     "text": [
      "100%|██████████| 100/100 [00:01<00:00, 64.57it/s]\n",
      "100%|██████████| 50/50 [00:00<00:00, 61.89it/s]\n"
     ]
    },
    {
     "name": "stdout",
     "output_type": "stream",
     "text": [
      "acc: 100.000%, f1: 1.000\n",
      "layer: 10, position: 6\n"
     ]
    },
    {
     "name": "stderr",
     "output_type": "stream",
     "text": [
      "100%|██████████| 100/100 [00:01<00:00, 65.46it/s]\n",
      "100%|██████████| 50/50 [00:00<00:00, 65.85it/s]\n"
     ]
    },
    {
     "name": "stdout",
     "output_type": "stream",
     "text": [
      "acc: 100.000%, f1: 1.000\n",
      "layer: 10, position: 7\n"
     ]
    },
    {
     "name": "stderr",
     "output_type": "stream",
     "text": [
      "100%|██████████| 100/100 [00:01<00:00, 67.82it/s]\n",
      "100%|██████████| 50/50 [00:00<00:00, 66.66it/s]\n"
     ]
    },
    {
     "name": "stdout",
     "output_type": "stream",
     "text": [
      "acc: 100.000%, f1: 1.000\n",
      "layer: 10, position: 8\n"
     ]
    },
    {
     "name": "stderr",
     "output_type": "stream",
     "text": [
      "100%|██████████| 100/100 [00:01<00:00, 66.48it/s]\n",
      "100%|██████████| 50/50 [00:00<00:00, 64.89it/s]\n"
     ]
    },
    {
     "name": "stdout",
     "output_type": "stream",
     "text": [
      "acc: 100.000%, f1: 1.000\n",
      "layer: 10, position: 9\n"
     ]
    },
    {
     "name": "stderr",
     "output_type": "stream",
     "text": [
      "100%|██████████| 100/100 [00:01<00:00, 64.09it/s]\n",
      "100%|██████████| 50/50 [00:00<00:00, 63.76it/s]\n"
     ]
    },
    {
     "name": "stdout",
     "output_type": "stream",
     "text": [
      "acc: 100.000%, f1: 1.000\n",
      "layer: 11, position: 0\n"
     ]
    },
    {
     "name": "stderr",
     "output_type": "stream",
     "text": [
      "100%|██████████| 100/100 [00:01<00:00, 61.65it/s]\n",
      "100%|██████████| 50/50 [00:00<00:00, 64.03it/s]\n"
     ]
    },
    {
     "name": "stdout",
     "output_type": "stream",
     "text": [
      "acc: 32.000%, f1: 0.320\n",
      "layer: 11, position: 1\n"
     ]
    },
    {
     "name": "stderr",
     "output_type": "stream",
     "text": [
      "100%|██████████| 100/100 [00:01<00:00, 65.73it/s]\n",
      "100%|██████████| 50/50 [00:00<00:00, 65.25it/s]\n"
     ]
    },
    {
     "name": "stdout",
     "output_type": "stream",
     "text": [
      "acc: 40.000%, f1: 0.400\n",
      "layer: 11, position: 2\n"
     ]
    },
    {
     "name": "stderr",
     "output_type": "stream",
     "text": [
      "100%|██████████| 100/100 [00:01<00:00, 65.01it/s]\n",
      "100%|██████████| 50/50 [00:00<00:00, 61.89it/s]\n"
     ]
    },
    {
     "name": "stdout",
     "output_type": "stream",
     "text": [
      "acc: 39.000%, f1: 0.390\n",
      "layer: 11, position: 3\n"
     ]
    },
    {
     "name": "stderr",
     "output_type": "stream",
     "text": [
      "100%|██████████| 100/100 [00:01<00:00, 65.85it/s]\n",
      "100%|██████████| 50/50 [00:00<00:00, 63.74it/s]\n"
     ]
    },
    {
     "name": "stdout",
     "output_type": "stream",
     "text": [
      "acc: 100.000%, f1: 1.000\n",
      "layer: 11, position: 4\n"
     ]
    },
    {
     "name": "stderr",
     "output_type": "stream",
     "text": [
      "100%|██████████| 100/100 [00:01<00:00, 64.66it/s]\n",
      "100%|██████████| 50/50 [00:00<00:00, 63.35it/s]\n"
     ]
    },
    {
     "name": "stdout",
     "output_type": "stream",
     "text": [
      "acc: 100.000%, f1: 1.000\n",
      "layer: 11, position: 5\n"
     ]
    },
    {
     "name": "stderr",
     "output_type": "stream",
     "text": [
      "100%|██████████| 100/100 [00:01<00:00, 64.93it/s]\n",
      "100%|██████████| 50/50 [00:00<00:00, 63.82it/s]\n"
     ]
    },
    {
     "name": "stdout",
     "output_type": "stream",
     "text": [
      "acc: 100.000%, f1: 1.000\n",
      "layer: 11, position: 6\n"
     ]
    },
    {
     "name": "stderr",
     "output_type": "stream",
     "text": [
      "100%|██████████| 100/100 [00:01<00:00, 63.85it/s]\n",
      "100%|██████████| 50/50 [00:00<00:00, 64.16it/s]\n"
     ]
    },
    {
     "name": "stdout",
     "output_type": "stream",
     "text": [
      "acc: 100.000%, f1: 1.000\n",
      "layer: 11, position: 7\n"
     ]
    },
    {
     "name": "stderr",
     "output_type": "stream",
     "text": [
      "100%|██████████| 100/100 [00:01<00:00, 60.50it/s]\n",
      "100%|██████████| 50/50 [00:00<00:00, 61.02it/s]\n"
     ]
    },
    {
     "name": "stdout",
     "output_type": "stream",
     "text": [
      "acc: 100.000%, f1: 1.000\n",
      "layer: 11, position: 8\n"
     ]
    },
    {
     "name": "stderr",
     "output_type": "stream",
     "text": [
      "100%|██████████| 100/100 [00:01<00:00, 60.21it/s]\n",
      "100%|██████████| 50/50 [00:00<00:00, 59.70it/s]\n"
     ]
    },
    {
     "name": "stdout",
     "output_type": "stream",
     "text": [
      "acc: 100.000%, f1: 1.000\n",
      "layer: 11, position: 9\n"
     ]
    },
    {
     "name": "stderr",
     "output_type": "stream",
     "text": [
      "100%|██████████| 100/100 [00:01<00:00, 61.06it/s]\n",
      "100%|██████████| 50/50 [00:00<00:00, 58.13it/s]\n"
     ]
    },
    {
     "name": "stdout",
     "output_type": "stream",
     "text": [
      "acc: 100.000%, f1: 1.000\n",
      "layer: 12, position: 0\n"
     ]
    },
    {
     "name": "stderr",
     "output_type": "stream",
     "text": [
      "100%|██████████| 100/100 [00:01<00:00, 63.22it/s]\n",
      "100%|██████████| 50/50 [00:00<00:00, 61.35it/s]\n"
     ]
    },
    {
     "name": "stdout",
     "output_type": "stream",
     "text": [
      "acc: 32.000%, f1: 0.320\n",
      "layer: 12, position: 1\n"
     ]
    },
    {
     "name": "stderr",
     "output_type": "stream",
     "text": [
      "100%|██████████| 100/100 [00:01<00:00, 63.34it/s]\n",
      "100%|██████████| 50/50 [00:00<00:00, 61.26it/s]\n"
     ]
    },
    {
     "name": "stdout",
     "output_type": "stream",
     "text": [
      "acc: 38.000%, f1: 0.380\n",
      "layer: 12, position: 2\n"
     ]
    },
    {
     "name": "stderr",
     "output_type": "stream",
     "text": [
      "100%|██████████| 100/100 [00:01<00:00, 62.96it/s]\n",
      "100%|██████████| 50/50 [00:00<00:00, 60.77it/s]\n"
     ]
    },
    {
     "name": "stdout",
     "output_type": "stream",
     "text": [
      "acc: 42.000%, f1: 0.420\n",
      "layer: 12, position: 3\n"
     ]
    },
    {
     "name": "stderr",
     "output_type": "stream",
     "text": [
      "100%|██████████| 100/100 [00:01<00:00, 62.63it/s]\n",
      "100%|██████████| 50/50 [00:00<00:00, 58.29it/s]\n"
     ]
    },
    {
     "name": "stdout",
     "output_type": "stream",
     "text": [
      "acc: 100.000%, f1: 1.000\n",
      "layer: 12, position: 4\n"
     ]
    },
    {
     "name": "stderr",
     "output_type": "stream",
     "text": [
      "100%|██████████| 100/100 [00:01<00:00, 63.18it/s]\n",
      "100%|██████████| 50/50 [00:00<00:00, 61.18it/s]\n"
     ]
    },
    {
     "name": "stdout",
     "output_type": "stream",
     "text": [
      "acc: 100.000%, f1: 1.000\n",
      "layer: 12, position: 5\n"
     ]
    },
    {
     "name": "stderr",
     "output_type": "stream",
     "text": [
      "100%|██████████| 100/100 [00:01<00:00, 63.46it/s]\n",
      "100%|██████████| 50/50 [00:00<00:00, 60.65it/s]\n"
     ]
    },
    {
     "name": "stdout",
     "output_type": "stream",
     "text": [
      "acc: 100.000%, f1: 1.000\n",
      "layer: 12, position: 6\n"
     ]
    },
    {
     "name": "stderr",
     "output_type": "stream",
     "text": [
      "100%|██████████| 100/100 [00:01<00:00, 62.32it/s]\n",
      "100%|██████████| 50/50 [00:00<00:00, 62.30it/s]\n"
     ]
    },
    {
     "name": "stdout",
     "output_type": "stream",
     "text": [
      "acc: 100.000%, f1: 1.000\n",
      "layer: 12, position: 7\n"
     ]
    },
    {
     "name": "stderr",
     "output_type": "stream",
     "text": [
      "100%|██████████| 100/100 [00:01<00:00, 61.14it/s]\n",
      "100%|██████████| 50/50 [00:00<00:00, 57.48it/s]\n"
     ]
    },
    {
     "name": "stdout",
     "output_type": "stream",
     "text": [
      "acc: 100.000%, f1: 1.000\n",
      "layer: 12, position: 8\n"
     ]
    },
    {
     "name": "stderr",
     "output_type": "stream",
     "text": [
      "100%|██████████| 100/100 [00:01<00:00, 61.14it/s]\n",
      "100%|██████████| 50/50 [00:00<00:00, 59.47it/s]\n"
     ]
    },
    {
     "name": "stdout",
     "output_type": "stream",
     "text": [
      "acc: 100.000%, f1: 1.000\n",
      "layer: 12, position: 9\n"
     ]
    },
    {
     "name": "stderr",
     "output_type": "stream",
     "text": [
      "100%|██████████| 100/100 [00:01<00:00, 60.17it/s]\n",
      "100%|██████████| 50/50 [00:00<00:00, 53.45it/s]\n"
     ]
    },
    {
     "name": "stdout",
     "output_type": "stream",
     "text": [
      "acc: 100.000%, f1: 1.000\n",
      "layer: 13, position: 0\n"
     ]
    },
    {
     "name": "stderr",
     "output_type": "stream",
     "text": [
      "100%|██████████| 100/100 [00:01<00:00, 55.75it/s]\n",
      "100%|██████████| 50/50 [00:00<00:00, 55.05it/s]\n"
     ]
    },
    {
     "name": "stdout",
     "output_type": "stream",
     "text": [
      "acc: 32.000%, f1: 0.320\n",
      "layer: 13, position: 1\n"
     ]
    },
    {
     "name": "stderr",
     "output_type": "stream",
     "text": [
      "100%|██████████| 100/100 [00:01<00:00, 59.04it/s]\n",
      "100%|██████████| 50/50 [00:00<00:00, 62.78it/s]\n"
     ]
    },
    {
     "name": "stdout",
     "output_type": "stream",
     "text": [
      "acc: 41.000%, f1: 0.410\n",
      "layer: 13, position: 2\n"
     ]
    },
    {
     "name": "stderr",
     "output_type": "stream",
     "text": [
      "100%|██████████| 100/100 [00:01<00:00, 62.41it/s]\n",
      "100%|██████████| 50/50 [00:00<00:00, 62.48it/s]\n"
     ]
    },
    {
     "name": "stdout",
     "output_type": "stream",
     "text": [
      "acc: 42.000%, f1: 0.420\n",
      "layer: 13, position: 3\n"
     ]
    },
    {
     "name": "stderr",
     "output_type": "stream",
     "text": [
      "100%|██████████| 100/100 [00:01<00:00, 59.59it/s]\n",
      "100%|██████████| 50/50 [00:00<00:00, 57.47it/s]\n"
     ]
    },
    {
     "name": "stdout",
     "output_type": "stream",
     "text": [
      "acc: 100.000%, f1: 1.000\n",
      "layer: 13, position: 4\n"
     ]
    },
    {
     "name": "stderr",
     "output_type": "stream",
     "text": [
      "100%|██████████| 100/100 [00:01<00:00, 59.16it/s]\n",
      "100%|██████████| 50/50 [00:00<00:00, 59.63it/s]\n"
     ]
    },
    {
     "name": "stdout",
     "output_type": "stream",
     "text": [
      "acc: 100.000%, f1: 1.000\n",
      "layer: 13, position: 5\n"
     ]
    },
    {
     "name": "stderr",
     "output_type": "stream",
     "text": [
      "100%|██████████| 100/100 [00:01<00:00, 59.08it/s]\n",
      "100%|██████████| 50/50 [00:00<00:00, 56.13it/s]\n"
     ]
    },
    {
     "name": "stdout",
     "output_type": "stream",
     "text": [
      "acc: 100.000%, f1: 1.000\n",
      "layer: 13, position: 6\n"
     ]
    },
    {
     "name": "stderr",
     "output_type": "stream",
     "text": [
      "100%|██████████| 100/100 [00:01<00:00, 61.73it/s]\n",
      "100%|██████████| 50/50 [00:00<00:00, 61.18it/s]\n"
     ]
    },
    {
     "name": "stdout",
     "output_type": "stream",
     "text": [
      "acc: 100.000%, f1: 1.000\n",
      "layer: 13, position: 7\n"
     ]
    },
    {
     "name": "stderr",
     "output_type": "stream",
     "text": [
      "100%|██████████| 100/100 [00:01<00:00, 61.68it/s]\n",
      "100%|██████████| 50/50 [00:00<00:00, 59.94it/s]\n"
     ]
    },
    {
     "name": "stdout",
     "output_type": "stream",
     "text": [
      "acc: 100.000%, f1: 1.000\n",
      "layer: 13, position: 8\n"
     ]
    },
    {
     "name": "stderr",
     "output_type": "stream",
     "text": [
      "100%|██████████| 100/100 [00:01<00:00, 62.55it/s]\n",
      "100%|██████████| 50/50 [00:00<00:00, 60.19it/s]\n"
     ]
    },
    {
     "name": "stdout",
     "output_type": "stream",
     "text": [
      "acc: 100.000%, f1: 1.000\n",
      "layer: 13, position: 9\n"
     ]
    },
    {
     "name": "stderr",
     "output_type": "stream",
     "text": [
      "100%|██████████| 100/100 [00:01<00:00, 60.32it/s]\n",
      "100%|██████████| 50/50 [00:00<00:00, 58.20it/s]\n"
     ]
    },
    {
     "name": "stdout",
     "output_type": "stream",
     "text": [
      "acc: 100.000%, f1: 1.000\n",
      "layer: 14, position: 0\n"
     ]
    },
    {
     "name": "stderr",
     "output_type": "stream",
     "text": [
      "100%|██████████| 100/100 [00:01<00:00, 60.25it/s]\n",
      "100%|██████████| 50/50 [00:00<00:00, 59.23it/s]\n"
     ]
    },
    {
     "name": "stdout",
     "output_type": "stream",
     "text": [
      "acc: 32.000%, f1: 0.320\n",
      "layer: 14, position: 1\n"
     ]
    },
    {
     "name": "stderr",
     "output_type": "stream",
     "text": [
      "100%|██████████| 100/100 [00:01<00:00, 58.90it/s]\n",
      "100%|██████████| 50/50 [00:00<00:00, 60.98it/s]\n"
     ]
    },
    {
     "name": "stdout",
     "output_type": "stream",
     "text": [
      "acc: 40.000%, f1: 0.400\n",
      "layer: 14, position: 2\n"
     ]
    },
    {
     "name": "stderr",
     "output_type": "stream",
     "text": [
      "100%|██████████| 100/100 [00:01<00:00, 62.18it/s]\n",
      "100%|██████████| 50/50 [00:00<00:00, 61.04it/s]\n"
     ]
    },
    {
     "name": "stdout",
     "output_type": "stream",
     "text": [
      "acc: 40.000%, f1: 0.400\n",
      "layer: 14, position: 3\n"
     ]
    },
    {
     "name": "stderr",
     "output_type": "stream",
     "text": [
      "100%|██████████| 100/100 [00:01<00:00, 56.92it/s]\n",
      "100%|██████████| 50/50 [00:00<00:00, 59.65it/s]\n"
     ]
    },
    {
     "name": "stdout",
     "output_type": "stream",
     "text": [
      "acc: 100.000%, f1: 1.000\n",
      "layer: 14, position: 4\n"
     ]
    },
    {
     "name": "stderr",
     "output_type": "stream",
     "text": [
      "100%|██████████| 100/100 [00:01<00:00, 60.51it/s]\n",
      "100%|██████████| 50/50 [00:00<00:00, 58.79it/s]\n"
     ]
    },
    {
     "name": "stdout",
     "output_type": "stream",
     "text": [
      "acc: 100.000%, f1: 1.000\n",
      "layer: 14, position: 5\n"
     ]
    },
    {
     "name": "stderr",
     "output_type": "stream",
     "text": [
      "100%|██████████| 100/100 [00:01<00:00, 59.46it/s]\n",
      "100%|██████████| 50/50 [00:00<00:00, 60.80it/s]\n"
     ]
    },
    {
     "name": "stdout",
     "output_type": "stream",
     "text": [
      "acc: 100.000%, f1: 1.000\n",
      "layer: 14, position: 6\n"
     ]
    },
    {
     "name": "stderr",
     "output_type": "stream",
     "text": [
      "100%|██████████| 100/100 [00:01<00:00, 59.27it/s]\n",
      "100%|██████████| 50/50 [00:00<00:00, 55.94it/s]\n"
     ]
    },
    {
     "name": "stdout",
     "output_type": "stream",
     "text": [
      "acc: 100.000%, f1: 1.000\n",
      "layer: 14, position: 7\n"
     ]
    },
    {
     "name": "stderr",
     "output_type": "stream",
     "text": [
      "100%|██████████| 100/100 [00:01<00:00, 58.35it/s]\n",
      "100%|██████████| 50/50 [00:00<00:00, 61.13it/s]\n"
     ]
    },
    {
     "name": "stdout",
     "output_type": "stream",
     "text": [
      "acc: 100.000%, f1: 1.000\n",
      "layer: 14, position: 8\n"
     ]
    },
    {
     "name": "stderr",
     "output_type": "stream",
     "text": [
      "100%|██████████| 100/100 [00:01<00:00, 58.75it/s]\n",
      "100%|██████████| 50/50 [00:00<00:00, 59.93it/s]\n"
     ]
    },
    {
     "name": "stdout",
     "output_type": "stream",
     "text": [
      "acc: 100.000%, f1: 1.000\n",
      "layer: 14, position: 9\n"
     ]
    },
    {
     "name": "stderr",
     "output_type": "stream",
     "text": [
      "100%|██████████| 100/100 [00:01<00:00, 57.63it/s]\n",
      "100%|██████████| 50/50 [00:00<00:00, 57.82it/s]\n"
     ]
    },
    {
     "name": "stdout",
     "output_type": "stream",
     "text": [
      "acc: 100.000%, f1: 1.000\n",
      "layer: 15, position: 0\n"
     ]
    },
    {
     "name": "stderr",
     "output_type": "stream",
     "text": [
      "100%|██████████| 100/100 [00:01<00:00, 51.36it/s]\n",
      "100%|██████████| 50/50 [00:00<00:00, 57.31it/s]\n"
     ]
    },
    {
     "name": "stdout",
     "output_type": "stream",
     "text": [
      "acc: 32.000%, f1: 0.320\n",
      "layer: 15, position: 1\n"
     ]
    },
    {
     "name": "stderr",
     "output_type": "stream",
     "text": [
      "100%|██████████| 100/100 [00:01<00:00, 58.36it/s]\n",
      "100%|██████████| 50/50 [00:00<00:00, 57.78it/s]\n"
     ]
    },
    {
     "name": "stdout",
     "output_type": "stream",
     "text": [
      "acc: 40.000%, f1: 0.400\n",
      "layer: 15, position: 2\n"
     ]
    },
    {
     "name": "stderr",
     "output_type": "stream",
     "text": [
      "100%|██████████| 100/100 [00:01<00:00, 59.85it/s]\n",
      "100%|██████████| 50/50 [00:00<00:00, 57.83it/s]\n"
     ]
    },
    {
     "name": "stdout",
     "output_type": "stream",
     "text": [
      "acc: 41.000%, f1: 0.410\n",
      "layer: 15, position: 3\n"
     ]
    },
    {
     "name": "stderr",
     "output_type": "stream",
     "text": [
      "100%|██████████| 100/100 [00:01<00:00, 62.10it/s]\n",
      "100%|██████████| 50/50 [00:00<00:00, 59.38it/s]\n"
     ]
    },
    {
     "name": "stdout",
     "output_type": "stream",
     "text": [
      "acc: 100.000%, f1: 1.000\n",
      "layer: 15, position: 4\n"
     ]
    },
    {
     "name": "stderr",
     "output_type": "stream",
     "text": [
      "100%|██████████| 100/100 [00:01<00:00, 60.32it/s]\n",
      "100%|██████████| 50/50 [00:00<00:00, 60.62it/s]\n"
     ]
    },
    {
     "name": "stdout",
     "output_type": "stream",
     "text": [
      "acc: 100.000%, f1: 1.000\n",
      "layer: 15, position: 5\n"
     ]
    },
    {
     "name": "stderr",
     "output_type": "stream",
     "text": [
      "100%|██████████| 100/100 [00:01<00:00, 57.27it/s]\n",
      "100%|██████████| 50/50 [00:00<00:00, 58.68it/s]\n"
     ]
    },
    {
     "name": "stdout",
     "output_type": "stream",
     "text": [
      "acc: 100.000%, f1: 1.000\n",
      "layer: 15, position: 6\n"
     ]
    },
    {
     "name": "stderr",
     "output_type": "stream",
     "text": [
      "100%|██████████| 100/100 [00:01<00:00, 63.40it/s]\n",
      "100%|██████████| 50/50 [00:00<00:00, 61.69it/s]\n"
     ]
    },
    {
     "name": "stdout",
     "output_type": "stream",
     "text": [
      "acc: 100.000%, f1: 1.000\n",
      "layer: 15, position: 7\n"
     ]
    },
    {
     "name": "stderr",
     "output_type": "stream",
     "text": [
      "100%|██████████| 100/100 [00:01<00:00, 61.79it/s]\n",
      "100%|██████████| 50/50 [00:00<00:00, 61.86it/s]\n"
     ]
    },
    {
     "name": "stdout",
     "output_type": "stream",
     "text": [
      "acc: 100.000%, f1: 1.000\n",
      "layer: 15, position: 8\n"
     ]
    },
    {
     "name": "stderr",
     "output_type": "stream",
     "text": [
      "100%|██████████| 100/100 [00:01<00:00, 60.18it/s]\n",
      "100%|██████████| 50/50 [00:00<00:00, 59.04it/s]\n"
     ]
    },
    {
     "name": "stdout",
     "output_type": "stream",
     "text": [
      "acc: 100.000%, f1: 1.000\n",
      "layer: 15, position: 9\n"
     ]
    },
    {
     "name": "stderr",
     "output_type": "stream",
     "text": [
      "100%|██████████| 100/100 [00:01<00:00, 62.91it/s]\n",
      "100%|██████████| 50/50 [00:00<00:00, 58.74it/s]\n"
     ]
    },
    {
     "name": "stdout",
     "output_type": "stream",
     "text": [
      "acc: 100.000%, f1: 1.000\n",
      "layer: 16, position: 0\n"
     ]
    },
    {
     "name": "stderr",
     "output_type": "stream",
     "text": [
      "100%|██████████| 100/100 [00:01<00:00, 58.15it/s]\n",
      "100%|██████████| 50/50 [00:00<00:00, 56.68it/s]\n"
     ]
    },
    {
     "name": "stdout",
     "output_type": "stream",
     "text": [
      "acc: 32.000%, f1: 0.320\n",
      "layer: 16, position: 1\n"
     ]
    },
    {
     "name": "stderr",
     "output_type": "stream",
     "text": [
      "100%|██████████| 100/100 [00:01<00:00, 60.23it/s]\n",
      "100%|██████████| 50/50 [00:00<00:00, 58.69it/s]\n"
     ]
    },
    {
     "name": "stdout",
     "output_type": "stream",
     "text": [
      "acc: 40.000%, f1: 0.400\n",
      "layer: 16, position: 2\n"
     ]
    },
    {
     "name": "stderr",
     "output_type": "stream",
     "text": [
      "100%|██████████| 100/100 [00:01<00:00, 60.30it/s]\n",
      "100%|██████████| 50/50 [00:00<00:00, 61.11it/s]\n"
     ]
    },
    {
     "name": "stdout",
     "output_type": "stream",
     "text": [
      "acc: 39.000%, f1: 0.390\n",
      "layer: 16, position: 3\n"
     ]
    },
    {
     "name": "stderr",
     "output_type": "stream",
     "text": [
      "100%|██████████| 100/100 [00:01<00:00, 60.13it/s]\n",
      "100%|██████████| 50/50 [00:00<00:00, 58.80it/s]\n"
     ]
    },
    {
     "name": "stdout",
     "output_type": "stream",
     "text": [
      "acc: 100.000%, f1: 1.000\n",
      "layer: 16, position: 4\n"
     ]
    },
    {
     "name": "stderr",
     "output_type": "stream",
     "text": [
      "100%|██████████| 100/100 [00:01<00:00, 59.74it/s]\n",
      "100%|██████████| 50/50 [00:00<00:00, 53.13it/s]\n"
     ]
    },
    {
     "name": "stdout",
     "output_type": "stream",
     "text": [
      "acc: 100.000%, f1: 1.000\n",
      "layer: 16, position: 5\n"
     ]
    },
    {
     "name": "stderr",
     "output_type": "stream",
     "text": [
      "100%|██████████| 100/100 [00:01<00:00, 59.75it/s]\n",
      "100%|██████████| 50/50 [00:00<00:00, 60.52it/s]\n"
     ]
    },
    {
     "name": "stdout",
     "output_type": "stream",
     "text": [
      "acc: 100.000%, f1: 1.000\n",
      "layer: 16, position: 6\n"
     ]
    },
    {
     "name": "stderr",
     "output_type": "stream",
     "text": [
      "100%|██████████| 100/100 [00:01<00:00, 60.71it/s]\n",
      "100%|██████████| 50/50 [00:00<00:00, 59.79it/s]\n"
     ]
    },
    {
     "name": "stdout",
     "output_type": "stream",
     "text": [
      "acc: 100.000%, f1: 1.000\n",
      "layer: 16, position: 7\n"
     ]
    },
    {
     "name": "stderr",
     "output_type": "stream",
     "text": [
      "100%|██████████| 100/100 [00:01<00:00, 60.49it/s]\n",
      "100%|██████████| 50/50 [00:00<00:00, 59.61it/s]\n"
     ]
    },
    {
     "name": "stdout",
     "output_type": "stream",
     "text": [
      "acc: 100.000%, f1: 1.000\n",
      "layer: 16, position: 8\n"
     ]
    },
    {
     "name": "stderr",
     "output_type": "stream",
     "text": [
      "100%|██████████| 100/100 [00:01<00:00, 63.45it/s]\n",
      "100%|██████████| 50/50 [00:00<00:00, 60.07it/s]\n"
     ]
    },
    {
     "name": "stdout",
     "output_type": "stream",
     "text": [
      "acc: 100.000%, f1: 1.000\n",
      "layer: 16, position: 9\n"
     ]
    },
    {
     "name": "stderr",
     "output_type": "stream",
     "text": [
      "100%|██████████| 100/100 [00:01<00:00, 63.19it/s]\n",
      "100%|██████████| 50/50 [00:00<00:00, 61.78it/s]\n"
     ]
    },
    {
     "name": "stdout",
     "output_type": "stream",
     "text": [
      "acc: 100.000%, f1: 1.000\n",
      "layer: 17, position: 0\n"
     ]
    },
    {
     "name": "stderr",
     "output_type": "stream",
     "text": [
      "100%|██████████| 100/100 [00:01<00:00, 62.63it/s]\n",
      "100%|██████████| 50/50 [00:00<00:00, 62.47it/s]\n"
     ]
    },
    {
     "name": "stdout",
     "output_type": "stream",
     "text": [
      "acc: 32.000%, f1: 0.320\n",
      "layer: 17, position: 1\n"
     ]
    },
    {
     "name": "stderr",
     "output_type": "stream",
     "text": [
      "100%|██████████| 100/100 [00:01<00:00, 62.08it/s]\n",
      "100%|██████████| 50/50 [00:00<00:00, 61.78it/s]\n"
     ]
    },
    {
     "name": "stdout",
     "output_type": "stream",
     "text": [
      "acc: 38.000%, f1: 0.380\n",
      "layer: 17, position: 2\n"
     ]
    },
    {
     "name": "stderr",
     "output_type": "stream",
     "text": [
      "100%|██████████| 100/100 [00:01<00:00, 62.29it/s]\n",
      "100%|██████████| 50/50 [00:00<00:00, 58.38it/s]\n"
     ]
    },
    {
     "name": "stdout",
     "output_type": "stream",
     "text": [
      "acc: 42.000%, f1: 0.420\n",
      "layer: 17, position: 3\n"
     ]
    },
    {
     "name": "stderr",
     "output_type": "stream",
     "text": [
      "100%|██████████| 100/100 [00:01<00:00, 62.56it/s]\n",
      "100%|██████████| 50/50 [00:00<00:00, 62.06it/s]\n"
     ]
    },
    {
     "name": "stdout",
     "output_type": "stream",
     "text": [
      "acc: 100.000%, f1: 1.000\n",
      "layer: 17, position: 4\n"
     ]
    },
    {
     "name": "stderr",
     "output_type": "stream",
     "text": [
      "100%|██████████| 100/100 [00:01<00:00, 62.93it/s]\n",
      "100%|██████████| 50/50 [00:00<00:00, 62.99it/s]\n"
     ]
    },
    {
     "name": "stdout",
     "output_type": "stream",
     "text": [
      "acc: 100.000%, f1: 1.000\n",
      "layer: 17, position: 5\n"
     ]
    },
    {
     "name": "stderr",
     "output_type": "stream",
     "text": [
      "100%|██████████| 100/100 [00:01<00:00, 63.05it/s]\n",
      "100%|██████████| 50/50 [00:00<00:00, 61.92it/s]\n"
     ]
    },
    {
     "name": "stdout",
     "output_type": "stream",
     "text": [
      "acc: 100.000%, f1: 1.000\n",
      "layer: 17, position: 6\n"
     ]
    },
    {
     "name": "stderr",
     "output_type": "stream",
     "text": [
      "100%|██████████| 100/100 [00:01<00:00, 63.61it/s]\n",
      "100%|██████████| 50/50 [00:00<00:00, 60.68it/s]\n"
     ]
    },
    {
     "name": "stdout",
     "output_type": "stream",
     "text": [
      "acc: 100.000%, f1: 1.000\n",
      "layer: 17, position: 7\n"
     ]
    },
    {
     "name": "stderr",
     "output_type": "stream",
     "text": [
      "100%|██████████| 100/100 [00:01<00:00, 62.57it/s]\n",
      "100%|██████████| 50/50 [00:00<00:00, 61.54it/s]\n"
     ]
    },
    {
     "name": "stdout",
     "output_type": "stream",
     "text": [
      "acc: 100.000%, f1: 1.000\n",
      "layer: 17, position: 8\n"
     ]
    },
    {
     "name": "stderr",
     "output_type": "stream",
     "text": [
      "100%|██████████| 100/100 [00:01<00:00, 62.13it/s]\n",
      "100%|██████████| 50/50 [00:00<00:00, 62.57it/s]\n"
     ]
    },
    {
     "name": "stdout",
     "output_type": "stream",
     "text": [
      "acc: 100.000%, f1: 1.000\n",
      "layer: 17, position: 9\n"
     ]
    },
    {
     "name": "stderr",
     "output_type": "stream",
     "text": [
      "100%|██████████| 100/100 [00:01<00:00, 63.50it/s]\n",
      "100%|██████████| 50/50 [00:00<00:00, 62.20it/s]\n"
     ]
    },
    {
     "name": "stdout",
     "output_type": "stream",
     "text": [
      "acc: 100.000%, f1: 1.000\n",
      "layer: 18, position: 0\n"
     ]
    },
    {
     "name": "stderr",
     "output_type": "stream",
     "text": [
      "100%|██████████| 100/100 [00:01<00:00, 61.48it/s]\n",
      "100%|██████████| 50/50 [00:00<00:00, 61.81it/s]\n"
     ]
    },
    {
     "name": "stdout",
     "output_type": "stream",
     "text": [
      "acc: 32.000%, f1: 0.320\n",
      "layer: 18, position: 1\n"
     ]
    },
    {
     "name": "stderr",
     "output_type": "stream",
     "text": [
      "100%|██████████| 100/100 [00:01<00:00, 64.40it/s]\n",
      "100%|██████████| 50/50 [00:00<00:00, 62.62it/s]\n"
     ]
    },
    {
     "name": "stdout",
     "output_type": "stream",
     "text": [
      "acc: 38.000%, f1: 0.380\n",
      "layer: 18, position: 2\n"
     ]
    },
    {
     "name": "stderr",
     "output_type": "stream",
     "text": [
      "100%|██████████| 100/100 [00:01<00:00, 61.82it/s]\n",
      "100%|██████████| 50/50 [00:00<00:00, 60.65it/s]\n"
     ]
    },
    {
     "name": "stdout",
     "output_type": "stream",
     "text": [
      "acc: 43.000%, f1: 0.430\n",
      "layer: 18, position: 3\n"
     ]
    },
    {
     "name": "stderr",
     "output_type": "stream",
     "text": [
      "100%|██████████| 100/100 [00:01<00:00, 62.34it/s]\n",
      "100%|██████████| 50/50 [00:00<00:00, 61.60it/s]\n"
     ]
    },
    {
     "name": "stdout",
     "output_type": "stream",
     "text": [
      "acc: 100.000%, f1: 1.000\n",
      "layer: 18, position: 4\n"
     ]
    },
    {
     "name": "stderr",
     "output_type": "stream",
     "text": [
      "100%|██████████| 100/100 [00:01<00:00, 63.27it/s]\n",
      "100%|██████████| 50/50 [00:00<00:00, 59.32it/s]\n"
     ]
    },
    {
     "name": "stdout",
     "output_type": "stream",
     "text": [
      "acc: 100.000%, f1: 1.000\n",
      "layer: 18, position: 5\n"
     ]
    },
    {
     "name": "stderr",
     "output_type": "stream",
     "text": [
      "100%|██████████| 100/100 [00:01<00:00, 63.09it/s]\n",
      "100%|██████████| 50/50 [00:00<00:00, 62.09it/s]\n"
     ]
    },
    {
     "name": "stdout",
     "output_type": "stream",
     "text": [
      "acc: 100.000%, f1: 1.000\n",
      "layer: 18, position: 6\n"
     ]
    },
    {
     "name": "stderr",
     "output_type": "stream",
     "text": [
      "100%|██████████| 100/100 [00:01<00:00, 61.70it/s]\n",
      "100%|██████████| 50/50 [00:00<00:00, 62.30it/s]\n"
     ]
    },
    {
     "name": "stdout",
     "output_type": "stream",
     "text": [
      "acc: 100.000%, f1: 1.000\n",
      "layer: 18, position: 7\n"
     ]
    },
    {
     "name": "stderr",
     "output_type": "stream",
     "text": [
      "100%|██████████| 100/100 [00:01<00:00, 63.76it/s]\n",
      "100%|██████████| 50/50 [00:00<00:00, 61.82it/s]\n"
     ]
    },
    {
     "name": "stdout",
     "output_type": "stream",
     "text": [
      "acc: 100.000%, f1: 1.000\n",
      "layer: 18, position: 8\n"
     ]
    },
    {
     "name": "stderr",
     "output_type": "stream",
     "text": [
      "100%|██████████| 100/100 [00:01<00:00, 62.67it/s]\n",
      "100%|██████████| 50/50 [00:00<00:00, 62.01it/s]\n"
     ]
    },
    {
     "name": "stdout",
     "output_type": "stream",
     "text": [
      "acc: 100.000%, f1: 1.000\n",
      "layer: 18, position: 9\n"
     ]
    },
    {
     "name": "stderr",
     "output_type": "stream",
     "text": [
      "100%|██████████| 100/100 [00:01<00:00, 62.34it/s]\n",
      "100%|██████████| 50/50 [00:00<00:00, 62.84it/s]\n"
     ]
    },
    {
     "name": "stdout",
     "output_type": "stream",
     "text": [
      "acc: 100.000%, f1: 1.000\n",
      "layer: 19, position: 0\n"
     ]
    },
    {
     "name": "stderr",
     "output_type": "stream",
     "text": [
      "100%|██████████| 100/100 [00:01<00:00, 62.84it/s]\n",
      "100%|██████████| 50/50 [00:00<00:00, 59.97it/s]\n"
     ]
    },
    {
     "name": "stdout",
     "output_type": "stream",
     "text": [
      "acc: 32.000%, f1: 0.320\n",
      "layer: 19, position: 1\n"
     ]
    },
    {
     "name": "stderr",
     "output_type": "stream",
     "text": [
      "100%|██████████| 100/100 [00:01<00:00, 62.70it/s]\n",
      "100%|██████████| 50/50 [00:00<00:00, 62.17it/s]\n"
     ]
    },
    {
     "name": "stdout",
     "output_type": "stream",
     "text": [
      "acc: 39.000%, f1: 0.390\n",
      "layer: 19, position: 2\n"
     ]
    },
    {
     "name": "stderr",
     "output_type": "stream",
     "text": [
      "100%|██████████| 100/100 [00:01<00:00, 62.16it/s]\n",
      "100%|██████████| 50/50 [00:00<00:00, 61.83it/s]\n"
     ]
    },
    {
     "name": "stdout",
     "output_type": "stream",
     "text": [
      "acc: 42.000%, f1: 0.420\n",
      "layer: 19, position: 3\n"
     ]
    },
    {
     "name": "stderr",
     "output_type": "stream",
     "text": [
      "100%|██████████| 100/100 [00:01<00:00, 62.11it/s]\n",
      "100%|██████████| 50/50 [00:00<00:00, 62.24it/s]\n"
     ]
    },
    {
     "name": "stdout",
     "output_type": "stream",
     "text": [
      "acc: 100.000%, f1: 1.000\n",
      "layer: 19, position: 4\n"
     ]
    },
    {
     "name": "stderr",
     "output_type": "stream",
     "text": [
      "100%|██████████| 100/100 [00:01<00:00, 61.94it/s]\n",
      "100%|██████████| 50/50 [00:00<00:00, 56.75it/s]\n"
     ]
    },
    {
     "name": "stdout",
     "output_type": "stream",
     "text": [
      "acc: 100.000%, f1: 1.000\n",
      "layer: 19, position: 5\n"
     ]
    },
    {
     "name": "stderr",
     "output_type": "stream",
     "text": [
      "100%|██████████| 100/100 [00:01<00:00, 64.04it/s]\n",
      "100%|██████████| 50/50 [00:00<00:00, 62.71it/s]\n"
     ]
    },
    {
     "name": "stdout",
     "output_type": "stream",
     "text": [
      "acc: 100.000%, f1: 1.000\n",
      "layer: 19, position: 6\n"
     ]
    },
    {
     "name": "stderr",
     "output_type": "stream",
     "text": [
      "100%|██████████| 100/100 [00:01<00:00, 62.15it/s]\n",
      "100%|██████████| 50/50 [00:00<00:00, 61.94it/s]\n"
     ]
    },
    {
     "name": "stdout",
     "output_type": "stream",
     "text": [
      "acc: 100.000%, f1: 1.000\n",
      "layer: 19, position: 7\n"
     ]
    },
    {
     "name": "stderr",
     "output_type": "stream",
     "text": [
      "100%|██████████| 100/100 [00:01<00:00, 61.75it/s]\n",
      "100%|██████████| 50/50 [00:00<00:00, 60.33it/s]\n"
     ]
    },
    {
     "name": "stdout",
     "output_type": "stream",
     "text": [
      "acc: 100.000%, f1: 1.000\n",
      "layer: 19, position: 8\n"
     ]
    },
    {
     "name": "stderr",
     "output_type": "stream",
     "text": [
      "100%|██████████| 100/100 [00:01<00:00, 61.29it/s]\n",
      "100%|██████████| 50/50 [00:00<00:00, 62.09it/s]\n"
     ]
    },
    {
     "name": "stdout",
     "output_type": "stream",
     "text": [
      "acc: 100.000%, f1: 1.000\n",
      "layer: 19, position: 9\n"
     ]
    },
    {
     "name": "stderr",
     "output_type": "stream",
     "text": [
      "100%|██████████| 100/100 [00:01<00:00, 61.75it/s]\n",
      "100%|██████████| 50/50 [00:00<00:00, 61.55it/s]\n"
     ]
    },
    {
     "name": "stdout",
     "output_type": "stream",
     "text": [
      "acc: 100.000%, f1: 1.000\n",
      "layer: 20, position: 0\n"
     ]
    },
    {
     "name": "stderr",
     "output_type": "stream",
     "text": [
      "100%|██████████| 100/100 [00:01<00:00, 61.69it/s]\n",
      "100%|██████████| 50/50 [00:00<00:00, 60.94it/s]\n"
     ]
    },
    {
     "name": "stdout",
     "output_type": "stream",
     "text": [
      "acc: 32.000%, f1: 0.320\n",
      "layer: 20, position: 1\n"
     ]
    },
    {
     "name": "stderr",
     "output_type": "stream",
     "text": [
      "100%|██████████| 100/100 [00:01<00:00, 63.34it/s]\n",
      "100%|██████████| 50/50 [00:00<00:00, 59.05it/s]\n"
     ]
    },
    {
     "name": "stdout",
     "output_type": "stream",
     "text": [
      "acc: 37.000%, f1: 0.370\n",
      "layer: 20, position: 2\n"
     ]
    },
    {
     "name": "stderr",
     "output_type": "stream",
     "text": [
      "100%|██████████| 100/100 [00:01<00:00, 63.05it/s]\n",
      "100%|██████████| 50/50 [00:00<00:00, 62.36it/s]\n"
     ]
    },
    {
     "name": "stdout",
     "output_type": "stream",
     "text": [
      "acc: 41.000%, f1: 0.410\n",
      "layer: 20, position: 3\n"
     ]
    },
    {
     "name": "stderr",
     "output_type": "stream",
     "text": [
      "100%|██████████| 100/100 [00:01<00:00, 62.49it/s]\n",
      "100%|██████████| 50/50 [00:00<00:00, 61.87it/s]\n"
     ]
    },
    {
     "name": "stdout",
     "output_type": "stream",
     "text": [
      "acc: 100.000%, f1: 1.000\n",
      "layer: 20, position: 4\n"
     ]
    },
    {
     "name": "stderr",
     "output_type": "stream",
     "text": [
      "100%|██████████| 100/100 [00:01<00:00, 61.57it/s]\n",
      "100%|██████████| 50/50 [00:00<00:00, 61.82it/s]\n"
     ]
    },
    {
     "name": "stdout",
     "output_type": "stream",
     "text": [
      "acc: 100.000%, f1: 1.000\n",
      "layer: 20, position: 5\n"
     ]
    },
    {
     "name": "stderr",
     "output_type": "stream",
     "text": [
      "100%|██████████| 100/100 [00:01<00:00, 62.83it/s]\n",
      "100%|██████████| 50/50 [00:00<00:00, 61.49it/s]\n"
     ]
    },
    {
     "name": "stdout",
     "output_type": "stream",
     "text": [
      "acc: 100.000%, f1: 1.000\n",
      "layer: 20, position: 6\n"
     ]
    },
    {
     "name": "stderr",
     "output_type": "stream",
     "text": [
      "100%|██████████| 100/100 [00:01<00:00, 63.67it/s]\n",
      "100%|██████████| 50/50 [00:00<00:00, 59.52it/s]\n"
     ]
    },
    {
     "name": "stdout",
     "output_type": "stream",
     "text": [
      "acc: 100.000%, f1: 1.000\n",
      "layer: 20, position: 7\n"
     ]
    },
    {
     "name": "stderr",
     "output_type": "stream",
     "text": [
      "100%|██████████| 100/100 [00:01<00:00, 63.79it/s]\n",
      "100%|██████████| 50/50 [00:00<00:00, 62.66it/s]\n"
     ]
    },
    {
     "name": "stdout",
     "output_type": "stream",
     "text": [
      "acc: 100.000%, f1: 1.000\n",
      "layer: 20, position: 8\n"
     ]
    },
    {
     "name": "stderr",
     "output_type": "stream",
     "text": [
      "100%|██████████| 100/100 [00:01<00:00, 62.24it/s]\n",
      "100%|██████████| 50/50 [00:00<00:00, 61.58it/s]\n"
     ]
    },
    {
     "name": "stdout",
     "output_type": "stream",
     "text": [
      "acc: 100.000%, f1: 1.000\n",
      "layer: 20, position: 9\n"
     ]
    },
    {
     "name": "stderr",
     "output_type": "stream",
     "text": [
      "100%|██████████| 100/100 [00:01<00:00, 61.90it/s]\n",
      "100%|██████████| 50/50 [00:00<00:00, 61.15it/s]\n"
     ]
    },
    {
     "name": "stdout",
     "output_type": "stream",
     "text": [
      "acc: 100.000%, f1: 1.000\n",
      "layer: 21, position: 0\n"
     ]
    },
    {
     "name": "stderr",
     "output_type": "stream",
     "text": [
      "100%|██████████| 100/100 [00:01<00:00, 62.52it/s]\n",
      "100%|██████████| 50/50 [00:00<00:00, 61.12it/s]\n"
     ]
    },
    {
     "name": "stdout",
     "output_type": "stream",
     "text": [
      "acc: 32.000%, f1: 0.320\n",
      "layer: 21, position: 1\n"
     ]
    },
    {
     "name": "stderr",
     "output_type": "stream",
     "text": [
      "100%|██████████| 100/100 [00:01<00:00, 62.00it/s]\n",
      "100%|██████████| 50/50 [00:00<00:00, 60.11it/s]\n"
     ]
    },
    {
     "name": "stdout",
     "output_type": "stream",
     "text": [
      "acc: 37.000%, f1: 0.370\n",
      "layer: 21, position: 2\n"
     ]
    },
    {
     "name": "stderr",
     "output_type": "stream",
     "text": [
      "100%|██████████| 100/100 [00:01<00:00, 62.68it/s]\n",
      "100%|██████████| 50/50 [00:00<00:00, 61.77it/s]\n"
     ]
    },
    {
     "name": "stdout",
     "output_type": "stream",
     "text": [
      "acc: 41.000%, f1: 0.410\n",
      "layer: 21, position: 3\n"
     ]
    },
    {
     "name": "stderr",
     "output_type": "stream",
     "text": [
      "100%|██████████| 100/100 [00:01<00:00, 64.44it/s]\n",
      "100%|██████████| 50/50 [00:00<00:00, 60.01it/s]\n"
     ]
    },
    {
     "name": "stdout",
     "output_type": "stream",
     "text": [
      "acc: 100.000%, f1: 1.000\n",
      "layer: 21, position: 4\n"
     ]
    },
    {
     "name": "stderr",
     "output_type": "stream",
     "text": [
      "100%|██████████| 100/100 [00:01<00:00, 63.50it/s]\n",
      "100%|██████████| 50/50 [00:00<00:00, 61.87it/s]\n"
     ]
    },
    {
     "name": "stdout",
     "output_type": "stream",
     "text": [
      "acc: 100.000%, f1: 1.000\n",
      "layer: 21, position: 5\n"
     ]
    },
    {
     "name": "stderr",
     "output_type": "stream",
     "text": [
      "100%|██████████| 100/100 [00:01<00:00, 62.70it/s]\n",
      "100%|██████████| 50/50 [00:00<00:00, 62.49it/s]\n"
     ]
    },
    {
     "name": "stdout",
     "output_type": "stream",
     "text": [
      "acc: 100.000%, f1: 1.000\n",
      "layer: 21, position: 6\n"
     ]
    },
    {
     "name": "stderr",
     "output_type": "stream",
     "text": [
      "100%|██████████| 100/100 [00:01<00:00, 63.37it/s]\n",
      "100%|██████████| 50/50 [00:00<00:00, 61.73it/s]\n"
     ]
    },
    {
     "name": "stdout",
     "output_type": "stream",
     "text": [
      "acc: 100.000%, f1: 1.000\n",
      "layer: 21, position: 7\n"
     ]
    },
    {
     "name": "stderr",
     "output_type": "stream",
     "text": [
      "100%|██████████| 100/100 [00:01<00:00, 62.18it/s]\n",
      "100%|██████████| 50/50 [00:00<00:00, 61.56it/s]\n"
     ]
    },
    {
     "name": "stdout",
     "output_type": "stream",
     "text": [
      "acc: 100.000%, f1: 1.000\n",
      "layer: 21, position: 8\n"
     ]
    },
    {
     "name": "stderr",
     "output_type": "stream",
     "text": [
      "100%|██████████| 100/100 [00:01<00:00, 62.13it/s]\n",
      "100%|██████████| 50/50 [00:00<00:00, 61.43it/s]\n"
     ]
    },
    {
     "name": "stdout",
     "output_type": "stream",
     "text": [
      "acc: 100.000%, f1: 1.000\n",
      "layer: 21, position: 9\n"
     ]
    },
    {
     "name": "stderr",
     "output_type": "stream",
     "text": [
      "100%|██████████| 100/100 [00:01<00:00, 63.38it/s]\n",
      "100%|██████████| 50/50 [00:00<00:00, 61.83it/s]\n"
     ]
    },
    {
     "name": "stdout",
     "output_type": "stream",
     "text": [
      "acc: 100.000%, f1: 1.000\n",
      "layer: 22, position: 0\n"
     ]
    },
    {
     "name": "stderr",
     "output_type": "stream",
     "text": [
      "100%|██████████| 100/100 [00:01<00:00, 61.97it/s]\n",
      "100%|██████████| 50/50 [00:00<00:00, 58.36it/s]\n"
     ]
    },
    {
     "name": "stdout",
     "output_type": "stream",
     "text": [
      "acc: 32.000%, f1: 0.320\n",
      "layer: 22, position: 1\n"
     ]
    },
    {
     "name": "stderr",
     "output_type": "stream",
     "text": [
      "100%|██████████| 100/100 [00:01<00:00, 60.48it/s]\n",
      "100%|██████████| 50/50 [00:00<00:00, 58.54it/s]\n"
     ]
    },
    {
     "name": "stdout",
     "output_type": "stream",
     "text": [
      "acc: 36.000%, f1: 0.360\n",
      "layer: 22, position: 2\n"
     ]
    },
    {
     "name": "stderr",
     "output_type": "stream",
     "text": [
      "100%|██████████| 100/100 [00:01<00:00, 63.20it/s]\n",
      "100%|██████████| 50/50 [00:00<00:00, 62.03it/s]\n"
     ]
    },
    {
     "name": "stdout",
     "output_type": "stream",
     "text": [
      "acc: 42.000%, f1: 0.420\n",
      "layer: 22, position: 3\n"
     ]
    },
    {
     "name": "stderr",
     "output_type": "stream",
     "text": [
      "100%|██████████| 100/100 [00:01<00:00, 62.78it/s]\n",
      "100%|██████████| 50/50 [00:00<00:00, 62.03it/s]\n"
     ]
    },
    {
     "name": "stdout",
     "output_type": "stream",
     "text": [
      "acc: 100.000%, f1: 1.000\n",
      "layer: 22, position: 4\n"
     ]
    },
    {
     "name": "stderr",
     "output_type": "stream",
     "text": [
      "100%|██████████| 100/100 [00:01<00:00, 64.00it/s]\n",
      "100%|██████████| 50/50 [00:00<00:00, 60.56it/s]\n"
     ]
    },
    {
     "name": "stdout",
     "output_type": "stream",
     "text": [
      "acc: 100.000%, f1: 1.000\n",
      "layer: 22, position: 5\n"
     ]
    },
    {
     "name": "stderr",
     "output_type": "stream",
     "text": [
      "100%|██████████| 100/100 [00:01<00:00, 63.64it/s]\n",
      "100%|██████████| 50/50 [00:00<00:00, 61.77it/s]\n"
     ]
    },
    {
     "name": "stdout",
     "output_type": "stream",
     "text": [
      "acc: 100.000%, f1: 1.000\n",
      "layer: 22, position: 6\n"
     ]
    },
    {
     "name": "stderr",
     "output_type": "stream",
     "text": [
      "100%|██████████| 100/100 [00:01<00:00, 62.70it/s]\n",
      "100%|██████████| 50/50 [00:00<00:00, 62.42it/s]\n"
     ]
    },
    {
     "name": "stdout",
     "output_type": "stream",
     "text": [
      "acc: 100.000%, f1: 1.000\n",
      "layer: 22, position: 7\n"
     ]
    },
    {
     "name": "stderr",
     "output_type": "stream",
     "text": [
      "100%|██████████| 100/100 [00:01<00:00, 61.53it/s]\n",
      "100%|██████████| 50/50 [00:00<00:00, 62.52it/s]\n"
     ]
    },
    {
     "name": "stdout",
     "output_type": "stream",
     "text": [
      "acc: 100.000%, f1: 1.000\n",
      "layer: 22, position: 8\n"
     ]
    },
    {
     "name": "stderr",
     "output_type": "stream",
     "text": [
      "100%|██████████| 100/100 [00:01<00:00, 62.41it/s]\n",
      "100%|██████████| 50/50 [00:00<00:00, 62.32it/s]\n"
     ]
    },
    {
     "name": "stdout",
     "output_type": "stream",
     "text": [
      "acc: 100.000%, f1: 1.000\n",
      "layer: 22, position: 9\n"
     ]
    },
    {
     "name": "stderr",
     "output_type": "stream",
     "text": [
      "100%|██████████| 100/100 [00:01<00:00, 63.09it/s]\n",
      "100%|██████████| 50/50 [00:00<00:00, 59.74it/s]\n"
     ]
    },
    {
     "name": "stdout",
     "output_type": "stream",
     "text": [
      "acc: 100.000%, f1: 1.000\n",
      "layer: 23, position: 0\n"
     ]
    },
    {
     "name": "stderr",
     "output_type": "stream",
     "text": [
      "100%|██████████| 100/100 [00:01<00:00, 63.86it/s]\n",
      "100%|██████████| 50/50 [00:00<00:00, 62.30it/s]\n"
     ]
    },
    {
     "name": "stdout",
     "output_type": "stream",
     "text": [
      "acc: 32.000%, f1: 0.320\n",
      "layer: 23, position: 1\n"
     ]
    },
    {
     "name": "stderr",
     "output_type": "stream",
     "text": [
      "100%|██████████| 100/100 [00:01<00:00, 62.76it/s]\n",
      "100%|██████████| 50/50 [00:00<00:00, 62.41it/s]\n"
     ]
    },
    {
     "name": "stdout",
     "output_type": "stream",
     "text": [
      "acc: 33.000%, f1: 0.330\n",
      "layer: 23, position: 2\n"
     ]
    },
    {
     "name": "stderr",
     "output_type": "stream",
     "text": [
      "100%|██████████| 100/100 [00:01<00:00, 62.55it/s]\n",
      "100%|██████████| 50/50 [00:00<00:00, 61.42it/s]\n"
     ]
    },
    {
     "name": "stdout",
     "output_type": "stream",
     "text": [
      "acc: 44.000%, f1: 0.440\n",
      "layer: 23, position: 3\n"
     ]
    },
    {
     "name": "stderr",
     "output_type": "stream",
     "text": [
      "100%|██████████| 100/100 [00:01<00:00, 61.73it/s]\n",
      "100%|██████████| 50/50 [00:00<00:00, 61.68it/s]\n"
     ]
    },
    {
     "name": "stdout",
     "output_type": "stream",
     "text": [
      "acc: 100.000%, f1: 1.000\n",
      "layer: 23, position: 4\n"
     ]
    },
    {
     "name": "stderr",
     "output_type": "stream",
     "text": [
      "100%|██████████| 100/100 [00:01<00:00, 63.53it/s]\n",
      "100%|██████████| 50/50 [00:00<00:00, 61.84it/s]\n"
     ]
    },
    {
     "name": "stdout",
     "output_type": "stream",
     "text": [
      "acc: 100.000%, f1: 1.000\n",
      "layer: 23, position: 5\n"
     ]
    },
    {
     "name": "stderr",
     "output_type": "stream",
     "text": [
      "100%|██████████| 100/100 [00:01<00:00, 64.35it/s]\n",
      "100%|██████████| 50/50 [00:00<00:00, 61.35it/s]\n"
     ]
    },
    {
     "name": "stdout",
     "output_type": "stream",
     "text": [
      "acc: 100.000%, f1: 1.000\n",
      "layer: 23, position: 6\n"
     ]
    },
    {
     "name": "stderr",
     "output_type": "stream",
     "text": [
      "100%|██████████| 100/100 [00:01<00:00, 62.77it/s]\n",
      "100%|██████████| 50/50 [00:00<00:00, 62.54it/s]\n"
     ]
    },
    {
     "name": "stdout",
     "output_type": "stream",
     "text": [
      "acc: 100.000%, f1: 1.000\n",
      "layer: 23, position: 7\n"
     ]
    },
    {
     "name": "stderr",
     "output_type": "stream",
     "text": [
      "100%|██████████| 100/100 [00:01<00:00, 62.49it/s]\n",
      "100%|██████████| 50/50 [00:00<00:00, 62.95it/s]\n"
     ]
    },
    {
     "name": "stdout",
     "output_type": "stream",
     "text": [
      "acc: 100.000%, f1: 1.000\n",
      "layer: 23, position: 8\n"
     ]
    },
    {
     "name": "stderr",
     "output_type": "stream",
     "text": [
      "100%|██████████| 100/100 [00:01<00:00, 59.37it/s]\n",
      "100%|██████████| 50/50 [00:00<00:00, 61.55it/s]\n"
     ]
    },
    {
     "name": "stdout",
     "output_type": "stream",
     "text": [
      "acc: 100.000%, f1: 1.000\n",
      "layer: 23, position: 9\n"
     ]
    },
    {
     "name": "stderr",
     "output_type": "stream",
     "text": [
      "100%|██████████| 100/100 [00:01<00:00, 61.65it/s]\n",
      "100%|██████████| 50/50 [00:00<00:00, 62.43it/s]"
     ]
    },
    {
     "name": "stdout",
     "output_type": "stream",
     "text": [
      "acc: 100.000%, f1: 1.000\n"
     ]
    },
    {
     "name": "stderr",
     "output_type": "stream",
     "text": [
      "\n"
     ]
    }
   ],
   "source": [
    "# intervention settings\n",
    "stats = []\n",
    "num_layers = gpt.config.num_hidden_layers\n",
    "\n",
    "# 10329 = ' garden', 8576 = ' kitchen', 14098 = ' bedroom'\n",
    "label_mapping = {10329: 0, 8576: 1, 14098: 2}\n",
    "\n",
    "sample_length_in_tokens = 10\n",
    "\n",
    "# loop over layers and positions\n",
    "with torch.no_grad():\n",
    "    for layer in range(num_layers):\n",
    "        for position in range(sample_length_in_tokens):\n",
    "            print(f\"layer: {layer}, position: {position}\")\n",
    "\n",
    "            # set up intervenable model\n",
    "            config = probing_config(\"block_output\", layer)\n",
    "            intervenable = pv.IntervenableModel(config, gpt)\n",
    "            intervenable.set_device(device)\n",
    "            intervenable.disable_model_gradients()\n",
    "\n",
    "            # training loop\n",
    "            activations, labels = [], []\n",
    "            iterator = tqdm(trainset)\n",
    "            for example in iterator:\n",
    "                # forward pass\n",
    "                base_outputs, _ = intervenable(\n",
    "                    example.base,\n",
    "                    unit_locations={\"base\": position},\n",
    "                )\n",
    "                base_activations = base_outputs[1][0]\n",
    "\n",
    "                src_outputs, _ = intervenable(\n",
    "                    example.src,\n",
    "                    unit_locations={\"base\": position},\n",
    "                )\n",
    "                src_activations = src_outputs[1][0]\n",
    "\n",
    "                # collect activation\n",
    "                activations.extend(\n",
    "                    [\n",
    "                        base_activations.detach()[0].cpu().numpy(),\n",
    "                        src_activations.detach()[0].cpu().numpy(),\n",
    "                    ]\n",
    "                )\n",
    "                labels.extend([example.base_label, example.src_label])\n",
    "            labels = [label_mapping[label] for label in labels]\n",
    "\n",
    "            # train logistic regression\n",
    "            lr = LogisticRegression(random_state=42, max_iter=1000).fit(\n",
    "                activations, labels\n",
    "            )\n",
    "\n",
    "            # eval\n",
    "            activations, labels = [], []\n",
    "            iterator = tqdm(evalset)\n",
    "            for example in iterator:\n",
    "                # forward pass\n",
    "                base_outputs, _ = intervenable(\n",
    "                    example.base,\n",
    "                    unit_locations={\"base\": position},\n",
    "                )\n",
    "                base_activations = base_outputs[1][0]\n",
    "\n",
    "                src_outputs, _ = intervenable(\n",
    "                    example.src,\n",
    "                    unit_locations={\"base\": position},\n",
    "                )\n",
    "                src_activations = src_outputs[1][0]\n",
    "\n",
    "                # collect activation\n",
    "                activations.extend(\n",
    "                    [\n",
    "                        base_activations.detach()[0].cpu().numpy(),\n",
    "                        src_activations.detach()[0].cpu().numpy(),\n",
    "                    ]\n",
    "                )\n",
    "                labels.extend([example.base_label, example.src_label])\n",
    "            labels = [label_mapping[label] for label in labels]\n",
    "\n",
    "            # stats\n",
    "            acc = lr.score(activations, labels)\n",
    "            f1 = f1_score(labels, lr.predict(activations), average=\"micro\")\n",
    "            stats.append({\"layer\": layer, \"position\": position, \"acc\": acc, \"f1\": f1})\n",
    "            print(f\"acc: {acc:.3%}, f1: {f1:.3f}\")\n",
    "df = pd.DataFrame(stats)\n",
    "df.to_csv(f\"./pyvene_babi_nli_motivations_{model_size}.csv\")"
   ]
  },
  {
   "cell_type": "code",
   "execution_count": 10,
   "metadata": {},
   "outputs": [
    {
     "name": "stderr",
     "output_type": "stream",
     "text": [
      "/mnt/m2-mint/nlp-winter2024/env/lib/python3.8/site-packages/plotnine/ggplot.py:587: PlotnineWarning: Saving 6.4 x 4.8 in image.\n",
      "/mnt/m2-mint/nlp-winter2024/env/lib/python3.8/site-packages/plotnine/ggplot.py:588: PlotnineWarning: Filename: ./pyvene_babi_nli_motivations_410m.pdf\n"
     ]
    },
    {
     "data": {
      "image/png": "[encoded data removed]",
      "text/plain": [
       "<Figure size 640x480 with 1 Axes>"
      ]
     },
     "metadata": {
      "image/png": {
       "height": 480,
       "width": 640
      }
     },
     "output_type": "display_data"
    },
    {
     "name": "stdout",
     "output_type": "stream",
     "text": [
      "\n"
     ]
    }
   ],
   "source": [
    "from plotnine import (\n",
    "    ggplot,\n",
    "    geom_tile,\n",
    "    aes,\n",
    "    facet_wrap,\n",
    "    theme,\n",
    "    element_text,\n",
    "    geom_bar,\n",
    "    geom_hline,\n",
    "    scale_y_log10,\n",
    "    geom_line,\n",
    "    geom_point,\n",
    "    geom_text,\n",
    "    ggtitle,\n",
    "    xlab,\n",
    "    ylab,\n",
    "    ggsave,\n",
    ")\n",
    "from plotnine.scales import scale_y_reverse, scale_fill_cmap\n",
    "\n",
    "df = pd.read_csv(f\"./pyvene_babi_nli_motivations_{model_size}.csv\")\n",
    "df[\"layer\"] = df[\"layer\"].astype(int)\n",
    "df[\"pos\"] = df[\"position\"].astype(int)\n",
    "df[\"ACC\"] = df[\"acc\"].astype(float)\n",
    "\n",
    "custom_labels = [\n",
    "    \"EOS\",\n",
    "    \"<name>\",\n",
    "    \"is\",\n",
    "    \"<need>\",\n",
    "    \".\",\n",
    "    \"<name>\",\n",
    "    \"will\",\n",
    "    \"go\",\n",
    "    \"to\",\n",
    "    \"the\",\n",
    "]\n",
    "breaks = [0, 1, 2, 3, 4, 5, 6, 7, 8, 9]\n",
    "\n",
    "plot = (\n",
    "    ggplot(df, aes(x=\"layer\", y=\"pos\", fill=\"ACC\"))\n",
    "    + geom_tile()\n",
    "    + scale_fill_cmap(\"Reds\")\n",
    "    + xlab(\"layers\")\n",
    "    + scale_y_reverse(breaks=breaks, labels=custom_labels)\n",
    "    + ylab(\"\")\n",
    "    + theme(axis_text_y=element_text(angle=0, hjust=1))\n",
    "    + ggtitle(f\"Trained Linear Probe, Pythia-{model_size}\")\n",
    ")\n",
    "ggsave(plot, filename=f\"./pyvene_babi_nli_motivations_{model_size}.pdf\", dpi=200)\n",
    "print(plot)"
   ]
  }
 ],
 "metadata": {
  "kernelspec": {
   "display_name": "env",
   "language": "python",
   "name": "python3"
  },
  "language_info": {
   "codemirror_mode": {
    "name": "ipython",
    "version": 3
   },
   "file_extension": ".py",
   "mimetype": "text/x-python",
   "name": "python",
   "nbconvert_exporter": "python",
   "pygments_lexer": "ipython3",
   "version": "3.8.18"
  }
 },
 "nbformat": 4,
 "nbformat_minor": 2
}
