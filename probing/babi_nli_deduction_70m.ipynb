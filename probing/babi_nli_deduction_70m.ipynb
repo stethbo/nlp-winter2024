{
 "cells": [
  {
   "cell_type": "code",
   "execution_count": 33,
   "metadata": {},
   "outputs": [],
   "source": [
    "try:\n",
    "    # This library is our indicator that the required installs\n",
    "    # need to be done.\n",
    "    import pyvene as pv\n",
    "\n",
    "except ModuleNotFoundError:\n",
    "    !pip install git+https://github.com/stanfordnlp/pyvene.git"
   ]
  },
  {
   "cell_type": "code",
   "execution_count": 34,
   "metadata": {},
   "outputs": [],
   "source": [
    "import torch\n",
    "from transformers import AutoTokenizer, AutoModelForCausalLM\n",
    "from collections import namedtuple\n",
    "import random\n",
    "from sklearn.linear_model import LogisticRegression\n",
    "from sklearn.metrics import f1_score\n",
    "import pandas as pd"
   ]
  },
  {
   "cell_type": "code",
   "execution_count": 35,
   "metadata": {},
   "outputs": [],
   "source": [
    "animals = [\n",
    "    (\"cats\", \"cat\"),\n",
    "    (\"wolves\", \"wolf\"),\n",
    "    (\"mice\", \"mouse\"),\n",
    "    (\"sheep\", \"sheep\"),\n",
    "    (\"lions\", \"lion\"),\n",
    "    (\"tigers\", \"tiger\"),\n",
    "    (\"horses\", \"horse\"),\n",
    "    (\"dogs\", \"dog\"),\n",
    "    (\"birds\", \"bird\"),\n",
    "    (\"cows\", \"cow\"),\n",
    "    (\"snakes\", \"snake\"),\n",
    "    (\"frogs\", \"frog\"),\n",
    "    (\"fish\", \"fish\"),\n",
    "    (\"bears\", \"bear\"),\n",
    "    (\"pigs\", \"pig\"),\n",
    "    (\"chickens\", \"chicken\"),\n",
    "    (\"ducks\", \"duck\"),\n",
    "    (\"bees\", \"bee\"),\n",
    "    (\"spiders\", \"spider\"),\n",
    "    (\"butterflies\", \"butterfly\"),\n",
    "    (\"worms\", \"worm\"),\n",
    "    (\"flies\", \"fly\"),\n",
    "    (\"mosquitoes\", \"mosquito\"),\n",
    "    (\"beetles\", \"beetle\"),\n",
    "    (\"crickets\", \"cricket\"),\n",
    "    (\"grasshoppers\", \"grasshopper\"),\n",
    "    (\"ladybugs\", \"ladybug\"),\n",
    "]"
   ]
  },
  {
   "cell_type": "code",
   "execution_count": 36,
   "metadata": {},
   "outputs": [],
   "source": [
    "device = \"cuda:0\" if torch.cuda.is_available() else \"cpu\"\n",
    "model_size = \"70m\"\n",
    "model = f\"EleutherAI/pythia-{model_size}\"  # \"EleutherAI/pythia-6.9B\"\n",
    "tokenizer = AutoTokenizer.from_pretrained(model)\n",
    "gpt = AutoModelForCausalLM.from_pretrained(\n",
    "    model,\n",
    "    revision=\"main\",\n",
    "    torch_dtype=torch.bfloat16 if model == \"EleutherAI/pythia-6.9b\" else torch.float32,\n",
    ").to(device)"
   ]
  },
  {
   "cell_type": "code",
   "execution_count": 37,
   "metadata": {},
   "outputs": [
    {
     "data": {
      "text/plain": [
       "[('cats', 'cat'), ('birds', 'bird'), ('fish', 'fish'), ('flies', 'fly')]"
      ]
     },
     "execution_count": 37,
     "metadata": {},
     "output_type": "execute_result"
    }
   ],
   "source": [
    "# only animals with 1 token in plural and singular form\n",
    "token_length_matching_animals = []\n",
    "\n",
    "for plural_animal, singular_animal in animals:\n",
    "    tokenized_plural = tokenizer.tokenize(plural_animal)\n",
    "    tokenized_singular = tokenizer.tokenize(singular_animal)\n",
    "\n",
    "    if len(tokenized_plural) == len(tokenized_singular) and len(tokenized_plural) == 1:\n",
    "        token_length_matching_animals.append((plural_animal, singular_animal))\n",
    "\n",
    "token_length_matching_animals"
   ]
  },
  {
   "cell_type": "code",
   "execution_count": 38,
   "metadata": {},
   "outputs": [],
   "source": [
    "Example = namedtuple(\"Example\", [\"base\", \"base_label\"])\n",
    "\n",
    "names = [\n",
    "    \"Donald\",\n",
    "    \"Gary\",\n",
    "    \"Deborah\",\n",
    "    \"Nancy\",\n",
    "    \"Diane\",\n",
    "    \"Peter\",\n",
    "    \"Kevin\",\n",
    "    \"Daniel\",\n",
    "    \"Roger\",\n",
    "    \"Ralph\",\n",
    "    \"Linda\",\n",
    "    \"Keith\",\n",
    "    \"Paul\",\n",
    "    \"Willie\",\n",
    "    \"Denise\",\n",
    "    \"Marie\",\n",
    "    \"Terry\",\n",
    "    \"Kayla\",\n",
    "    \"Elizabeth\",\n",
    "    \"Kelly\",\n",
    "    \"Gabriel\",\n",
    "    \"Cynthia\",\n",
    "    \"Joseph\",\n",
    "    \"Harold\",\n",
    "    \"Frances\",\n",
    "    \"Andrew\",\n",
    "    \"Alexis\",\n",
    "    \"Bradley\",\n",
    "    \"James\",\n",
    "    \"Thomas\",\n",
    "    \"Jason\",\n",
    "    \"Michael\",\n",
    "    \"Gregory\",\n",
    "    \"Sean\",\n",
    "    \"Vincent\",\n",
    "    \"Justin\",\n",
    "    \"Janet\",\n",
    "    \"Sarah\",\n",
    "    \"Andrea\",\n",
    "    \"Amy\",\n",
    "    \"Joan\",\n",
    "    \"Kimberly\",\n",
    "    \"Natalie\",\n",
    "    \"Gerald\",\n",
    "    \"Edward\",\n",
    "    \"Lisa\",\n",
    "    \"Marilyn\",\n",
    "    \"Ronald\",\n",
    "    \"Victoria\",\n",
    "    \"Eugene\",\n",
    "    \"Christina\",\n",
    "    \"Samantha\",\n",
    "    \"Matthew\",\n",
    "    \"Douglas\",\n",
    "    \"Kenneth\",\n",
    "    \"Sophia\",\n",
    "    \"Barbara\",\n",
    "    \"Margaret\",\n",
    "    \"Hannah\",\n",
    "    \"Ryan\",\n",
    "    \"Megan\",\n",
    "    \"Sandra\",\n",
    "    \"Robert\",\n",
    "    \"Madison\",\n",
    "    \"Carolyn\",\n",
    "    \"Amanda\",\n",
    "    \"Scott\",\n",
    "    \"Anthony\",\n",
    "    \"Mary\",\n",
    "    \"Eric\",\n",
    "    \"William\",\n",
    "    \"Lawrence\",\n",
    "    \"Christian\",\n",
    "    \"Lori\",\n",
    "    \"Henry\",\n",
    "    \"Betty\",\n",
    "    \"Dorothy\",\n",
    "    \"Samuel\",\n",
    "    \"Stephanie\",\n",
    "    \"Teresa\",\n",
    "    \"Nicole\",\n",
    "    \"Julia\",\n",
    "    \"Rebecca\",\n",
    "    \"Mason\",\n",
    "    \"Julie\",\n",
    "    \"Emma\",\n",
    "    \"Jeremy\",\n",
    "    \"Olivia\",\n",
    "    \"Larry\",\n",
    "    \"Juan\",\n",
    "    \"Adam\",\n",
    "    \"Alice\",\n",
    "    \"Amber\",\n",
    "    \"Joe\",\n",
    "    \"Angela\",\n",
    "    \"Sara\",\n",
    "    \"Judy\",\n",
    "    \"Christopher\",\n",
    "    \"Raymond\",\n",
    "    \"Jordan\",\n",
    "    \"Karen\",\n",
    "    \"Stephen\",\n",
    "    \"Kathleen\",\n",
    "    \"Billy\",\n",
    "    \"Rachel\",\n",
    "    \"Diana\",\n",
    "    \"Emily\",\n",
    "    \"Debra\",\n",
    "    \"Roy\",\n",
    "    \"Susan\",\n",
    "    \"Bobby\",\n",
    "    \"Gloria\",\n",
    "    \"Doris\",\n",
    "    \"Patricia\",\n",
    "    \"Ethan\",\n",
    "    \"Bruce\",\n",
    "    \"David\",\n",
    "    \"Richard\",\n",
    "    \"Judith\",\n",
    "    \"Michelle\",\n",
    "    \"Timothy\",\n",
    "    \"Frank\",\n",
    "    \"Philip\",\n",
    "    \"Melissa\",\n",
    "    \"Cheryl\",\n",
    "    \"Isabella\",\n",
    "    \"Jack\",\n",
    "    \"Randy\",\n",
    "    \"Danielle\",\n",
    "    \"Jennifer\",\n",
    "    \"Kyle\",\n",
    "    \"Walter\",\n",
    "    \"Austin\",\n",
    "    \"Janice\",\n",
    "    \"Sharon\",\n",
    "    \"Jean\",\n",
    "    \"Steven\",\n",
    "    \"Russell\",\n",
    "    \"Christine\",\n",
    "    \"Theresa\",\n",
    "    \"Katherine\",\n",
    "    \"Maria\",\n",
    "    \"Jesse\",\n",
    "    \"Ann\",\n",
    "    \"Arthur\",\n",
    "    \"Brandon\",\n",
    "    \"Jose\",\n",
    "    \"Carol\",\n",
    "    \"Jacqueline\",\n",
    "    \"Joyce\",\n",
    "    \"George\",\n",
    "    \"Alexander\",\n",
    "    \"Patrick\",\n",
    "    \"Zachary\",\n",
    "    \"Carl\",\n",
    "    \"Beverly\",\n",
    "    \"Evelyn\",\n",
    "    \"Virginia\",\n",
    "    \"Charlotte\",\n",
    "    \"Jonathan\",\n",
    "    \"Laura\",\n",
    "    \"John\",\n",
    "    \"Charles\",\n",
    "    \"Brian\",\n",
    "    \"Nicholas\",\n",
    "    \"Dylan\",\n",
    "    \"Tyler\",\n",
    "    \"Jeffrey\",\n",
    "    \"Jessica\",\n",
    "    \"Helen\",\n",
    "    \"Logan\",\n",
    "    \"Martha\",\n",
    "    \"Albert\",\n",
    "    \"Jerry\",\n",
    "    \"Nathan\",\n",
    "    \"Brenda\",\n",
    "    \"Ruth\",\n",
    "    \"Donna\",\n",
    "    \"Brittany\",\n",
    "    \"Shirley\",\n",
    "    \"Pamela\",\n",
    "    \"Catherine\",\n",
    "    \"Lauren\",\n",
    "    \"Abigail\",\n",
    "    \"Kathryn\",\n",
    "    \"Noah\",\n",
    "    \"Aaron\",\n",
    "    \"Bryan\",\n",
    "    \"Grace\",\n",
    "    \"Elijah\",\n",
    "    \"Heather\",\n",
    "    \"Alan\",\n",
    "    \"Mark\",\n",
    "    \"Wayne\",\n",
    "    \"Jacob\",\n",
    "    \"Ashley\",\n",
    "    \"Benjamin\",\n",
    "    \"Joshua\",\n",
    "    \"Dennis\",\n",
    "    \"Anna\",\n",
    "]\n",
    "\n",
    "names = [name for name in names if len(tokenizer.tokenize(name)) == 1]"
   ]
  },
  {
   "cell_type": "code",
   "execution_count": 39,
   "metadata": {},
   "outputs": [],
   "source": [
    "import itertools\n",
    "import pprint\n",
    "import numpy as np\n",
    "\n",
    "\n",
    "def create_variations_no_replacement(collection, size):\n",
    "    combinations = list(itertools.combinations(collection, size))\n",
    "    variations_nested_list = list(\n",
    "        map(lambda x: list(itertools.permutations(x)), combinations)\n",
    "    )\n",
    "    flattened_list = list(itertools.chain(*variations_nested_list))\n",
    "    return flattened_list"
   ]
  },
  {
   "cell_type": "code",
   "execution_count": 40,
   "metadata": {},
   "outputs": [],
   "source": [
    "# example: A_1 are afraid of A_2. A_3 are afraid of A_4. N_1 is a A_1. N_1 is afraid of... (A_2)\n",
    "def create_examples():\n",
    "    examples = []\n",
    "    variations = create_variations_no_replacement(token_length_matching_animals, 4)\n",
    "    for variation in variations:\n",
    "        A_1, A_2, A_3, A_4 = variation\n",
    "        for name in names:\n",
    "            sentence = f\"<|endoftext|>{A_1[0]} are afraid of {A_2[0]}. {A_3[0]} are afraid of {A_4[0]}. {name} is a {A_1[1]}. {name} is afraid of\"\n",
    "            label = f\"{A_2[0]}\"\n",
    "\n",
    "            base = tokenizer(\n",
    "                sentence,\n",
    "                return_tensors=\"pt\",\n",
    "            )\n",
    "            base_label = tokenizer.encode(\" \" + label)[0]\n",
    "\n",
    "            examples.append(Example(base, base_label))\n",
    "\n",
    "    return examples\n",
    "\n",
    "\n",
    "all_examples = create_examples()"
   ]
  },
  {
   "cell_type": "code",
   "execution_count": 41,
   "metadata": {},
   "outputs": [
    {
     "name": "stderr",
     "output_type": "stream",
     "text": [
      "100%|██████████| 150/150 [00:01<00:00, 97.49it/s] \n"
     ]
    }
   ],
   "source": [
    "from tqdm import tqdm\n",
    "\n",
    "\n",
    "def generate_n_doable_examples(n, model):\n",
    "    examples = []\n",
    "    iterator = tqdm(range(n))\n",
    "    random.seed(42)\n",
    "    random.shuffle(all_examples)\n",
    "    data_iterator = iter(all_examples)\n",
    "    while len(examples) < n:\n",
    "        ex = data_iterator.__next__()\n",
    "\n",
    "        for k, v in ex.base.items():\n",
    "            if v is not None and isinstance(v, torch.Tensor):\n",
    "                ex.base[k] = v.to(model.device)\n",
    "        logits_base = model(**ex.base).logits[0, -1]\n",
    "        argmax_base = torch.argmax(logits_base).item()\n",
    "        # relaxing problem to pass only if the model predicts the correct token without comparing with base\n",
    "        if argmax_base == ex.base_label:\n",
    "            examples.append(ex)\n",
    "            iterator.update(1)\n",
    "    return examples\n",
    "\n",
    "\n",
    "total_steps = 150\n",
    "dataset = generate_n_doable_examples(total_steps, gpt)\n",
    "trainset = dataset[:100]\n",
    "evalset = dataset[100:]"
   ]
  },
  {
   "cell_type": "code",
   "execution_count": 42,
   "metadata": {},
   "outputs": [
    {
     "name": "stdout",
     "output_type": "stream",
     "text": [
      "<|endoftext|>fish are afraid of cats. flies are afraid of birds. Maria is a fish. Maria is afraid of\n",
      " cats\n"
     ]
    }
   ],
   "source": [
    "print(tokenizer.decode(trainset[0].base.input_ids[0]))\n",
    "print(tokenizer.decode(gpt(**trainset[0].base).logits[0, -1].argmax().item()))"
   ]
  },
  {
   "cell_type": "code",
   "execution_count": 43,
   "metadata": {},
   "outputs": [],
   "source": [
    "def probing_config(intervention_site, layer):\n",
    "    \"\"\"Generate intervention config.\"\"\"\n",
    "\n",
    "    # init\n",
    "    config = pv.IntervenableConfig(\n",
    "        [\n",
    "            {\n",
    "                \"layer\": layer,\n",
    "                \"component\": intervention_site,\n",
    "                \"intervention_type\": pv.CollectIntervention,\n",
    "            }\n",
    "        ]\n",
    "    )\n",
    "    return config"
   ]
  },
  {
   "cell_type": "code",
   "execution_count": 44,
   "metadata": {},
   "outputs": [
    {
     "name": "stdout",
     "output_type": "stream",
     "text": [
      "{' cats', ' birds'}\n"
     ]
    }
   ],
   "source": [
    "labels_set = set()\n",
    "for item in dataset:\n",
    "    decoded = tokenizer.decode(item.base_label)\n",
    "    labels_set.add(decoded)\n",
    "print(labels_set)"
   ]
  },
  {
   "cell_type": "code",
   "execution_count": 45,
   "metadata": {},
   "outputs": [
    {
     "name": "stdout",
     "output_type": "stream",
     "text": [
      "Label:   birds id:  11260\n",
      "Label:   cats id:  16581\n"
     ]
    }
   ],
   "source": [
    "labels = [\" birds\", \" cats\"]\n",
    "\n",
    "\n",
    "for label in labels:\n",
    "    print(\"Label: \", label, \"id: \", tokenizer(label).input_ids[0])"
   ]
  },
  {
   "cell_type": "code",
   "execution_count": 46,
   "metadata": {},
   "outputs": [
    {
     "name": "stdout",
     "output_type": "stream",
     "text": [
      "layer: 0, position: 0\n"
     ]
    },
    {
     "name": "stderr",
     "output_type": "stream",
     "text": [
      "100%|██████████| 100/100 [00:00<00:00, 386.78it/s]\n",
      "100%|██████████| 50/50 [00:00<00:00, 344.44it/s]\n"
     ]
    },
    {
     "name": "stdout",
     "output_type": "stream",
     "text": [
      "acc: 60.000%, f1: 0.750\n",
      "layer: 0, position: 1\n"
     ]
    },
    {
     "name": "stderr",
     "output_type": "stream",
     "text": [
      "100%|██████████| 100/100 [00:00<00:00, 374.71it/s]\n",
      "100%|██████████| 50/50 [00:00<00:00, 346.94it/s]\n"
     ]
    },
    {
     "name": "stdout",
     "output_type": "stream",
     "text": [
      "acc: 82.000%, f1: 0.870\n",
      "layer: 0, position: 2\n"
     ]
    },
    {
     "name": "stderr",
     "output_type": "stream",
     "text": [
      "100%|██████████| 100/100 [00:00<00:00, 373.93it/s]\n",
      "100%|██████████| 50/50 [00:00<00:00, 350.03it/s]\n"
     ]
    },
    {
     "name": "stdout",
     "output_type": "stream",
     "text": [
      "acc: 82.000%, f1: 0.870\n",
      "layer: 0, position: 3\n"
     ]
    },
    {
     "name": "stderr",
     "output_type": "stream",
     "text": [
      "100%|██████████| 100/100 [00:00<00:00, 388.12it/s]\n",
      "100%|██████████| 50/50 [00:00<00:00, 352.96it/s]\n"
     ]
    },
    {
     "name": "stdout",
     "output_type": "stream",
     "text": [
      "acc: 82.000%, f1: 0.870\n",
      "layer: 0, position: 4\n"
     ]
    },
    {
     "name": "stderr",
     "output_type": "stream",
     "text": [
      "100%|██████████| 100/100 [00:00<00:00, 345.55it/s]\n",
      "100%|██████████| 50/50 [00:00<00:00, 353.88it/s]\n"
     ]
    },
    {
     "name": "stdout",
     "output_type": "stream",
     "text": [
      "acc: 60.000%, f1: 0.750\n",
      "layer: 0, position: 5\n"
     ]
    },
    {
     "name": "stderr",
     "output_type": "stream",
     "text": [
      "100%|██████████| 100/100 [00:00<00:00, 383.18it/s]\n",
      "100%|██████████| 50/50 [00:00<00:00, 329.83it/s]\n"
     ]
    },
    {
     "name": "stdout",
     "output_type": "stream",
     "text": [
      "acc: 100.000%, f1: 1.000\n",
      "layer: 0, position: 6\n"
     ]
    },
    {
     "name": "stderr",
     "output_type": "stream",
     "text": [
      "100%|██████████| 100/100 [00:00<00:00, 371.74it/s]\n",
      "100%|██████████| 50/50 [00:00<00:00, 349.72it/s]\n"
     ]
    },
    {
     "name": "stdout",
     "output_type": "stream",
     "text": [
      "acc: 78.000%, f1: 0.845\n",
      "layer: 0, position: 7\n"
     ]
    },
    {
     "name": "stderr",
     "output_type": "stream",
     "text": [
      "100%|██████████| 100/100 [00:00<00:00, 364.09it/s]\n",
      "100%|██████████| 50/50 [00:00<00:00, 349.80it/s]\n"
     ]
    },
    {
     "name": "stdout",
     "output_type": "stream",
     "text": [
      "acc: 98.000%, f1: 0.984\n",
      "layer: 0, position: 8\n"
     ]
    },
    {
     "name": "stderr",
     "output_type": "stream",
     "text": [
      "100%|██████████| 100/100 [00:00<00:00, 384.20it/s]\n",
      "100%|██████████| 50/50 [00:00<00:00, 353.65it/s]\n"
     ]
    },
    {
     "name": "stdout",
     "output_type": "stream",
     "text": [
      "acc: 78.000%, f1: 0.845\n",
      "layer: 0, position: 9\n"
     ]
    },
    {
     "name": "stderr",
     "output_type": "stream",
     "text": [
      "100%|██████████| 100/100 [00:00<00:00, 397.25it/s]\n",
      "100%|██████████| 50/50 [00:00<00:00, 344.39it/s]\n"
     ]
    },
    {
     "name": "stdout",
     "output_type": "stream",
     "text": [
      "acc: 78.000%, f1: 0.845\n",
      "layer: 0, position: 10\n"
     ]
    },
    {
     "name": "stderr",
     "output_type": "stream",
     "text": [
      "100%|██████████| 100/100 [00:00<00:00, 377.74it/s]\n",
      "100%|██████████| 50/50 [00:00<00:00, 330.49it/s]\n"
     ]
    },
    {
     "name": "stdout",
     "output_type": "stream",
     "text": [
      "acc: 60.000%, f1: 0.750\n",
      "layer: 0, position: 11\n"
     ]
    },
    {
     "name": "stderr",
     "output_type": "stream",
     "text": [
      "100%|██████████| 100/100 [00:00<00:00, 383.72it/s]\n",
      "100%|██████████| 50/50 [00:00<00:00, 348.45it/s]\n"
     ]
    },
    {
     "name": "stdout",
     "output_type": "stream",
     "text": [
      "acc: 68.000%, f1: 0.652\n",
      "layer: 0, position: 12\n"
     ]
    },
    {
     "name": "stderr",
     "output_type": "stream",
     "text": [
      "100%|██████████| 100/100 [00:00<00:00, 309.94it/s]\n",
      "100%|██████████| 50/50 [00:00<00:00, 349.71it/s]\n"
     ]
    },
    {
     "name": "stdout",
     "output_type": "stream",
     "text": [
      "acc: 60.000%, f1: 0.750\n",
      "layer: 0, position: 13\n"
     ]
    },
    {
     "name": "stderr",
     "output_type": "stream",
     "text": [
      "100%|██████████| 100/100 [00:00<00:00, 373.94it/s]\n",
      "100%|██████████| 50/50 [00:00<00:00, 350.91it/s]\n"
     ]
    },
    {
     "name": "stdout",
     "output_type": "stream",
     "text": [
      "acc: 50.000%, f1: 0.590\n",
      "layer: 0, position: 14\n"
     ]
    },
    {
     "name": "stderr",
     "output_type": "stream",
     "text": [
      "100%|██████████| 100/100 [00:00<00:00, 368.98it/s]\n",
      "100%|██████████| 50/50 [00:00<00:00, 343.77it/s]\n"
     ]
    },
    {
     "name": "stdout",
     "output_type": "stream",
     "text": [
      "acc: 60.000%, f1: 0.750\n",
      "layer: 0, position: 15\n"
     ]
    },
    {
     "name": "stderr",
     "output_type": "stream",
     "text": [
      "100%|██████████| 100/100 [00:00<00:00, 365.32it/s]\n",
      "100%|██████████| 50/50 [00:00<00:00, 321.16it/s]\n"
     ]
    },
    {
     "name": "stdout",
     "output_type": "stream",
     "text": [
      "acc: 60.000%, f1: 0.750\n",
      "layer: 0, position: 16\n"
     ]
    },
    {
     "name": "stderr",
     "output_type": "stream",
     "text": [
      "100%|██████████| 100/100 [00:00<00:00, 341.36it/s]\n",
      "100%|██████████| 50/50 [00:00<00:00, 347.72it/s]\n"
     ]
    },
    {
     "name": "stdout",
     "output_type": "stream",
     "text": [
      "acc: 82.000%, f1: 0.870\n",
      "layer: 0, position: 17\n"
     ]
    },
    {
     "name": "stderr",
     "output_type": "stream",
     "text": [
      "100%|██████████| 100/100 [00:00<00:00, 344.59it/s]\n",
      "100%|██████████| 50/50 [00:00<00:00, 325.93it/s]\n"
     ]
    },
    {
     "name": "stdout",
     "output_type": "stream",
     "text": [
      "acc: 82.000%, f1: 0.870\n",
      "layer: 0, position: 18\n"
     ]
    },
    {
     "name": "stderr",
     "output_type": "stream",
     "text": [
      "100%|██████████| 100/100 [00:00<00:00, 338.41it/s]\n",
      "100%|██████████| 50/50 [00:00<00:00, 342.55it/s]\n"
     ]
    },
    {
     "name": "stdout",
     "output_type": "stream",
     "text": [
      "acc: 52.000%, f1: 0.600\n",
      "layer: 0, position: 19\n"
     ]
    },
    {
     "name": "stderr",
     "output_type": "stream",
     "text": [
      "100%|██████████| 100/100 [00:00<00:00, 356.96it/s]\n",
      "100%|██████████| 50/50 [00:00<00:00, 325.79it/s]\n"
     ]
    },
    {
     "name": "stdout",
     "output_type": "stream",
     "text": [
      "acc: 64.000%, f1: 0.763\n",
      "layer: 0, position: 20\n"
     ]
    },
    {
     "name": "stderr",
     "output_type": "stream",
     "text": [
      "100%|██████████| 100/100 [00:00<00:00, 368.89it/s]\n",
      "100%|██████████| 50/50 [00:00<00:00, 345.97it/s]\n"
     ]
    },
    {
     "name": "stdout",
     "output_type": "stream",
     "text": [
      "acc: 60.000%, f1: 0.750\n",
      "layer: 0, position: 21\n"
     ]
    },
    {
     "name": "stderr",
     "output_type": "stream",
     "text": [
      "100%|██████████| 100/100 [00:00<00:00, 360.69it/s]\n",
      "100%|██████████| 50/50 [00:00<00:00, 352.42it/s]\n"
     ]
    },
    {
     "name": "stdout",
     "output_type": "stream",
     "text": [
      "acc: 60.000%, f1: 0.750\n",
      "layer: 1, position: 0\n"
     ]
    },
    {
     "name": "stderr",
     "output_type": "stream",
     "text": [
      "100%|██████████| 100/100 [00:00<00:00, 360.44it/s]\n",
      "100%|██████████| 50/50 [00:00<00:00, 353.80it/s]\n"
     ]
    },
    {
     "name": "stdout",
     "output_type": "stream",
     "text": [
      "acc: 60.000%, f1: 0.750\n",
      "layer: 1, position: 1\n"
     ]
    },
    {
     "name": "stderr",
     "output_type": "stream",
     "text": [
      "100%|██████████| 100/100 [00:00<00:00, 383.86it/s]\n",
      "100%|██████████| 50/50 [00:00<00:00, 349.71it/s]\n"
     ]
    },
    {
     "name": "stdout",
     "output_type": "stream",
     "text": [
      "acc: 82.000%, f1: 0.870\n",
      "layer: 1, position: 2\n"
     ]
    },
    {
     "name": "stderr",
     "output_type": "stream",
     "text": [
      "100%|██████████| 100/100 [00:00<00:00, 394.49it/s]\n",
      "100%|██████████| 50/50 [00:00<00:00, 355.35it/s]\n"
     ]
    },
    {
     "name": "stdout",
     "output_type": "stream",
     "text": [
      "acc: 82.000%, f1: 0.870\n",
      "layer: 1, position: 3\n"
     ]
    },
    {
     "name": "stderr",
     "output_type": "stream",
     "text": [
      "100%|██████████| 100/100 [00:00<00:00, 368.64it/s]\n",
      "100%|██████████| 50/50 [00:00<00:00, 339.77it/s]\n"
     ]
    },
    {
     "name": "stdout",
     "output_type": "stream",
     "text": [
      "acc: 82.000%, f1: 0.870\n",
      "layer: 1, position: 4\n"
     ]
    },
    {
     "name": "stderr",
     "output_type": "stream",
     "text": [
      "100%|██████████| 100/100 [00:00<00:00, 342.54it/s]\n",
      "100%|██████████| 50/50 [00:00<00:00, 350.57it/s]\n"
     ]
    },
    {
     "name": "stdout",
     "output_type": "stream",
     "text": [
      "acc: 82.000%, f1: 0.870\n",
      "layer: 1, position: 5\n"
     ]
    },
    {
     "name": "stderr",
     "output_type": "stream",
     "text": [
      "100%|██████████| 100/100 [00:00<00:00, 369.72it/s]\n",
      "100%|██████████| 50/50 [00:00<00:00, 354.18it/s]\n"
     ]
    },
    {
     "name": "stdout",
     "output_type": "stream",
     "text": [
      "acc: 100.000%, f1: 1.000\n",
      "layer: 1, position: 6\n"
     ]
    },
    {
     "name": "stderr",
     "output_type": "stream",
     "text": [
      "100%|██████████| 100/100 [00:00<00:00, 367.58it/s]\n",
      "100%|██████████| 50/50 [00:00<00:00, 344.36it/s]\n"
     ]
    },
    {
     "name": "stdout",
     "output_type": "stream",
     "text": [
      "acc: 100.000%, f1: 1.000\n",
      "layer: 1, position: 7\n"
     ]
    },
    {
     "name": "stderr",
     "output_type": "stream",
     "text": [
      "100%|██████████| 100/100 [00:00<00:00, 370.11it/s]\n",
      "100%|██████████| 50/50 [00:00<00:00, 342.78it/s]\n"
     ]
    },
    {
     "name": "stdout",
     "output_type": "stream",
     "text": [
      "acc: 98.000%, f1: 0.984\n",
      "layer: 1, position: 8\n"
     ]
    },
    {
     "name": "stderr",
     "output_type": "stream",
     "text": [
      "100%|██████████| 100/100 [00:00<00:00, 371.23it/s]\n",
      "100%|██████████| 50/50 [00:00<00:00, 338.48it/s]\n"
     ]
    },
    {
     "name": "stdout",
     "output_type": "stream",
     "text": [
      "acc: 98.000%, f1: 0.984\n",
      "layer: 1, position: 9\n"
     ]
    },
    {
     "name": "stderr",
     "output_type": "stream",
     "text": [
      "100%|██████████| 100/100 [00:00<00:00, 338.27it/s]\n",
      "100%|██████████| 50/50 [00:00<00:00, 329.61it/s]\n"
     ]
    },
    {
     "name": "stdout",
     "output_type": "stream",
     "text": [
      "acc: 98.000%, f1: 0.984\n",
      "layer: 1, position: 10\n"
     ]
    },
    {
     "name": "stderr",
     "output_type": "stream",
     "text": [
      "100%|██████████| 100/100 [00:00<00:00, 380.53it/s]\n",
      "100%|██████████| 50/50 [00:00<00:00, 338.94it/s]\n"
     ]
    },
    {
     "name": "stdout",
     "output_type": "stream",
     "text": [
      "acc: 78.000%, f1: 0.845\n",
      "layer: 1, position: 11\n"
     ]
    },
    {
     "name": "stderr",
     "output_type": "stream",
     "text": [
      "100%|██████████| 100/100 [00:00<00:00, 342.07it/s]\n",
      "100%|██████████| 50/50 [00:00<00:00, 343.59it/s]\n"
     ]
    },
    {
     "name": "stdout",
     "output_type": "stream",
     "text": [
      "acc: 86.000%, f1: 0.868\n",
      "layer: 1, position: 12\n"
     ]
    },
    {
     "name": "stderr",
     "output_type": "stream",
     "text": [
      "100%|██████████| 100/100 [00:00<00:00, 369.96it/s]\n",
      "100%|██████████| 50/50 [00:00<00:00, 329.54it/s]\n"
     ]
    },
    {
     "name": "stdout",
     "output_type": "stream",
     "text": [
      "acc: 80.000%, f1: 0.857\n",
      "layer: 1, position: 13\n"
     ]
    },
    {
     "name": "stderr",
     "output_type": "stream",
     "text": [
      "100%|██████████| 100/100 [00:00<00:00, 324.27it/s]\n",
      "100%|██████████| 50/50 [00:00<00:00, 347.15it/s]\n"
     ]
    },
    {
     "name": "stdout",
     "output_type": "stream",
     "text": [
      "acc: 50.000%, f1: 0.590\n",
      "layer: 1, position: 14\n"
     ]
    },
    {
     "name": "stderr",
     "output_type": "stream",
     "text": [
      "100%|██████████| 100/100 [00:00<00:00, 370.54it/s]\n",
      "100%|██████████| 50/50 [00:00<00:00, 347.52it/s]\n"
     ]
    },
    {
     "name": "stdout",
     "output_type": "stream",
     "text": [
      "acc: 62.000%, f1: 0.740\n",
      "layer: 1, position: 15\n"
     ]
    },
    {
     "name": "stderr",
     "output_type": "stream",
     "text": [
      "100%|██████████| 100/100 [00:00<00:00, 382.31it/s]\n",
      "100%|██████████| 50/50 [00:00<00:00, 354.99it/s]\n"
     ]
    },
    {
     "name": "stdout",
     "output_type": "stream",
     "text": [
      "acc: 62.000%, f1: 0.759\n",
      "layer: 1, position: 16\n"
     ]
    },
    {
     "name": "stderr",
     "output_type": "stream",
     "text": [
      "100%|██████████| 100/100 [00:00<00:00, 408.59it/s]\n",
      "100%|██████████| 50/50 [00:00<00:00, 356.72it/s]\n"
     ]
    },
    {
     "name": "stdout",
     "output_type": "stream",
     "text": [
      "acc: 82.000%, f1: 0.870\n",
      "layer: 1, position: 17\n"
     ]
    },
    {
     "name": "stderr",
     "output_type": "stream",
     "text": [
      "100%|██████████| 100/100 [00:00<00:00, 406.05it/s]\n",
      "100%|██████████| 50/50 [00:00<00:00, 353.50it/s]\n"
     ]
    },
    {
     "name": "stdout",
     "output_type": "stream",
     "text": [
      "acc: 82.000%, f1: 0.870\n",
      "layer: 1, position: 18\n"
     ]
    },
    {
     "name": "stderr",
     "output_type": "stream",
     "text": [
      "100%|██████████| 100/100 [00:00<00:00, 403.05it/s]\n",
      "100%|██████████| 50/50 [00:00<00:00, 357.00it/s]\n"
     ]
    },
    {
     "name": "stdout",
     "output_type": "stream",
     "text": [
      "acc: 66.000%, f1: 0.730\n",
      "layer: 1, position: 19\n"
     ]
    },
    {
     "name": "stderr",
     "output_type": "stream",
     "text": [
      "100%|██████████| 100/100 [00:00<00:00, 403.03it/s]\n",
      "100%|██████████| 50/50 [00:00<00:00, 355.00it/s]\n"
     ]
    },
    {
     "name": "stdout",
     "output_type": "stream",
     "text": [
      "acc: 82.000%, f1: 0.870\n",
      "layer: 1, position: 20\n"
     ]
    },
    {
     "name": "stderr",
     "output_type": "stream",
     "text": [
      "100%|██████████| 100/100 [00:00<00:00, 398.91it/s]\n",
      "100%|██████████| 50/50 [00:00<00:00, 300.47it/s]\n"
     ]
    },
    {
     "name": "stdout",
     "output_type": "stream",
     "text": [
      "acc: 80.000%, f1: 0.857\n",
      "layer: 1, position: 21\n"
     ]
    },
    {
     "name": "stderr",
     "output_type": "stream",
     "text": [
      "100%|██████████| 100/100 [00:00<00:00, 401.83it/s]\n",
      "100%|██████████| 50/50 [00:00<00:00, 356.25it/s]\n"
     ]
    },
    {
     "name": "stdout",
     "output_type": "stream",
     "text": [
      "acc: 74.000%, f1: 0.822\n",
      "layer: 2, position: 0\n"
     ]
    },
    {
     "name": "stderr",
     "output_type": "stream",
     "text": [
      "100%|██████████| 100/100 [00:00<00:00, 402.12it/s]\n",
      "100%|██████████| 50/50 [00:00<00:00, 357.06it/s]\n"
     ]
    },
    {
     "name": "stdout",
     "output_type": "stream",
     "text": [
      "acc: 60.000%, f1: 0.750\n",
      "layer: 2, position: 1\n"
     ]
    },
    {
     "name": "stderr",
     "output_type": "stream",
     "text": [
      "100%|██████████| 100/100 [00:00<00:00, 396.11it/s]\n",
      "100%|██████████| 50/50 [00:00<00:00, 350.85it/s]\n"
     ]
    },
    {
     "name": "stdout",
     "output_type": "stream",
     "text": [
      "acc: 82.000%, f1: 0.870\n",
      "layer: 2, position: 2\n"
     ]
    },
    {
     "name": "stderr",
     "output_type": "stream",
     "text": [
      "100%|██████████| 100/100 [00:00<00:00, 399.69it/s]\n",
      "100%|██████████| 50/50 [00:00<00:00, 349.21it/s]\n"
     ]
    },
    {
     "name": "stdout",
     "output_type": "stream",
     "text": [
      "acc: 82.000%, f1: 0.870\n",
      "layer: 2, position: 3\n"
     ]
    },
    {
     "name": "stderr",
     "output_type": "stream",
     "text": [
      "100%|██████████| 100/100 [00:00<00:00, 404.80it/s]\n",
      "100%|██████████| 50/50 [00:00<00:00, 329.31it/s]\n"
     ]
    },
    {
     "name": "stdout",
     "output_type": "stream",
     "text": [
      "acc: 82.000%, f1: 0.870\n",
      "layer: 2, position: 4\n"
     ]
    },
    {
     "name": "stderr",
     "output_type": "stream",
     "text": [
      "100%|██████████| 100/100 [00:00<00:00, 349.47it/s]\n",
      "100%|██████████| 50/50 [00:00<00:00, 328.32it/s]\n"
     ]
    },
    {
     "name": "stdout",
     "output_type": "stream",
     "text": [
      "acc: 82.000%, f1: 0.870\n",
      "layer: 2, position: 5\n"
     ]
    },
    {
     "name": "stderr",
     "output_type": "stream",
     "text": [
      "100%|██████████| 100/100 [00:00<00:00, 352.02it/s]\n",
      "100%|██████████| 50/50 [00:00<00:00, 347.99it/s]\n"
     ]
    },
    {
     "name": "stdout",
     "output_type": "stream",
     "text": [
      "acc: 100.000%, f1: 1.000\n",
      "layer: 2, position: 6\n"
     ]
    },
    {
     "name": "stderr",
     "output_type": "stream",
     "text": [
      "100%|██████████| 100/100 [00:00<00:00, 372.24it/s]\n",
      "100%|██████████| 50/50 [00:00<00:00, 345.59it/s]\n"
     ]
    },
    {
     "name": "stdout",
     "output_type": "stream",
     "text": [
      "acc: 100.000%, f1: 1.000\n",
      "layer: 2, position: 7\n"
     ]
    },
    {
     "name": "stderr",
     "output_type": "stream",
     "text": [
      "100%|██████████| 100/100 [00:00<00:00, 341.86it/s]\n",
      "100%|██████████| 50/50 [00:00<00:00, 329.68it/s]\n"
     ]
    },
    {
     "name": "stdout",
     "output_type": "stream",
     "text": [
      "acc: 100.000%, f1: 1.000\n",
      "layer: 2, position: 8\n"
     ]
    },
    {
     "name": "stderr",
     "output_type": "stream",
     "text": [
      "100%|██████████| 100/100 [00:00<00:00, 356.15it/s]\n",
      "100%|██████████| 50/50 [00:00<00:00, 341.87it/s]\n"
     ]
    },
    {
     "name": "stdout",
     "output_type": "stream",
     "text": [
      "acc: 100.000%, f1: 1.000\n",
      "layer: 2, position: 9\n"
     ]
    },
    {
     "name": "stderr",
     "output_type": "stream",
     "text": [
      "100%|██████████| 100/100 [00:00<00:00, 393.65it/s]\n",
      "100%|██████████| 50/50 [00:00<00:00, 349.44it/s]\n"
     ]
    },
    {
     "name": "stdout",
     "output_type": "stream",
     "text": [
      "acc: 98.000%, f1: 0.984\n",
      "layer: 2, position: 10\n"
     ]
    },
    {
     "name": "stderr",
     "output_type": "stream",
     "text": [
      "100%|██████████| 100/100 [00:00<00:00, 343.19it/s]\n",
      "100%|██████████| 50/50 [00:00<00:00, 351.25it/s]\n"
     ]
    },
    {
     "name": "stdout",
     "output_type": "stream",
     "text": [
      "acc: 98.000%, f1: 0.984\n",
      "layer: 2, position: 11\n"
     ]
    },
    {
     "name": "stderr",
     "output_type": "stream",
     "text": [
      "100%|██████████| 100/100 [00:00<00:00, 344.81it/s]\n",
      "100%|██████████| 50/50 [00:00<00:00, 348.86it/s]\n"
     ]
    },
    {
     "name": "stdout",
     "output_type": "stream",
     "text": [
      "acc: 100.000%, f1: 1.000\n",
      "layer: 2, position: 12\n"
     ]
    },
    {
     "name": "stderr",
     "output_type": "stream",
     "text": [
      "100%|██████████| 100/100 [00:00<00:00, 339.61it/s]\n",
      "100%|██████████| 50/50 [00:00<00:00, 344.21it/s]\n"
     ]
    },
    {
     "name": "stdout",
     "output_type": "stream",
     "text": [
      "acc: 100.000%, f1: 1.000\n",
      "layer: 2, position: 13\n"
     ]
    },
    {
     "name": "stderr",
     "output_type": "stream",
     "text": [
      "100%|██████████| 100/100 [00:00<00:00, 382.56it/s]\n",
      "100%|██████████| 50/50 [00:00<00:00, 257.23it/s]\n"
     ]
    },
    {
     "name": "stdout",
     "output_type": "stream",
     "text": [
      "acc: 64.000%, f1: 0.690\n",
      "layer: 2, position: 14\n"
     ]
    },
    {
     "name": "stderr",
     "output_type": "stream",
     "text": [
      "100%|██████████| 100/100 [00:00<00:00, 400.16it/s]\n",
      "100%|██████████| 50/50 [00:00<00:00, 349.43it/s]\n"
     ]
    },
    {
     "name": "stdout",
     "output_type": "stream",
     "text": [
      "acc: 66.000%, f1: 0.721\n",
      "layer: 2, position: 15\n"
     ]
    },
    {
     "name": "stderr",
     "output_type": "stream",
     "text": [
      "100%|██████████| 100/100 [00:00<00:00, 367.79it/s]\n",
      "100%|██████████| 50/50 [00:00<00:00, 352.01it/s]\n"
     ]
    },
    {
     "name": "stdout",
     "output_type": "stream",
     "text": [
      "acc: 70.000%, f1: 0.762\n",
      "layer: 2, position: 16\n"
     ]
    },
    {
     "name": "stderr",
     "output_type": "stream",
     "text": [
      "100%|██████████| 100/100 [00:00<00:00, 336.76it/s]\n",
      "100%|██████████| 50/50 [00:00<00:00, 324.10it/s]\n"
     ]
    },
    {
     "name": "stdout",
     "output_type": "stream",
     "text": [
      "acc: 90.000%, f1: 0.921\n",
      "layer: 2, position: 17\n"
     ]
    },
    {
     "name": "stderr",
     "output_type": "stream",
     "text": [
      "100%|██████████| 100/100 [00:00<00:00, 375.73it/s]\n",
      "100%|██████████| 50/50 [00:00<00:00, 352.54it/s]\n"
     ]
    },
    {
     "name": "stdout",
     "output_type": "stream",
     "text": [
      "acc: 82.000%, f1: 0.862\n",
      "layer: 2, position: 18\n"
     ]
    },
    {
     "name": "stderr",
     "output_type": "stream",
     "text": [
      "100%|██████████| 100/100 [00:00<00:00, 383.55it/s]\n",
      "100%|██████████| 50/50 [00:00<00:00, 353.06it/s]\n"
     ]
    },
    {
     "name": "stdout",
     "output_type": "stream",
     "text": [
      "acc: 76.000%, f1: 0.806\n",
      "layer: 2, position: 19\n"
     ]
    },
    {
     "name": "stderr",
     "output_type": "stream",
     "text": [
      "100%|██████████| 100/100 [00:00<00:00, 385.98it/s]\n",
      "100%|██████████| 50/50 [00:00<00:00, 346.00it/s]\n"
     ]
    },
    {
     "name": "stdout",
     "output_type": "stream",
     "text": [
      "acc: 76.000%, f1: 0.818\n",
      "layer: 2, position: 20\n"
     ]
    },
    {
     "name": "stderr",
     "output_type": "stream",
     "text": [
      "100%|██████████| 100/100 [00:00<00:00, 397.64it/s]\n",
      "100%|██████████| 50/50 [00:00<00:00, 307.38it/s]\n"
     ]
    },
    {
     "name": "stdout",
     "output_type": "stream",
     "text": [
      "acc: 78.000%, f1: 0.831\n",
      "layer: 2, position: 21\n"
     ]
    },
    {
     "name": "stderr",
     "output_type": "stream",
     "text": [
      "100%|██████████| 100/100 [00:00<00:00, 385.04it/s]\n",
      "100%|██████████| 50/50 [00:00<00:00, 350.20it/s]\n"
     ]
    },
    {
     "name": "stdout",
     "output_type": "stream",
     "text": [
      "acc: 80.000%, f1: 0.853\n",
      "layer: 3, position: 0\n"
     ]
    },
    {
     "name": "stderr",
     "output_type": "stream",
     "text": [
      "100%|██████████| 100/100 [00:00<00:00, 400.29it/s]\n",
      "100%|██████████| 50/50 [00:00<00:00, 302.84it/s]\n"
     ]
    },
    {
     "name": "stdout",
     "output_type": "stream",
     "text": [
      "acc: 60.000%, f1: 0.750\n",
      "layer: 3, position: 1\n"
     ]
    },
    {
     "name": "stderr",
     "output_type": "stream",
     "text": [
      "100%|██████████| 100/100 [00:00<00:00, 348.76it/s]\n",
      "100%|██████████| 50/50 [00:00<00:00, 304.76it/s]\n"
     ]
    },
    {
     "name": "stdout",
     "output_type": "stream",
     "text": [
      "acc: 82.000%, f1: 0.870\n",
      "layer: 3, position: 2\n"
     ]
    },
    {
     "name": "stderr",
     "output_type": "stream",
     "text": [
      "100%|██████████| 100/100 [00:00<00:00, 399.36it/s]\n",
      "100%|██████████| 50/50 [00:00<00:00, 355.95it/s]\n"
     ]
    },
    {
     "name": "stdout",
     "output_type": "stream",
     "text": [
      "acc: 82.000%, f1: 0.870\n",
      "layer: 3, position: 3\n"
     ]
    },
    {
     "name": "stderr",
     "output_type": "stream",
     "text": [
      "100%|██████████| 100/100 [00:00<00:00, 352.80it/s]\n",
      "100%|██████████| 50/50 [00:00<00:00, 352.22it/s]\n"
     ]
    },
    {
     "name": "stdout",
     "output_type": "stream",
     "text": [
      "acc: 82.000%, f1: 0.870\n",
      "layer: 3, position: 4\n"
     ]
    },
    {
     "name": "stderr",
     "output_type": "stream",
     "text": [
      "100%|██████████| 100/100 [00:00<00:00, 383.95it/s]\n",
      "100%|██████████| 50/50 [00:00<00:00, 347.64it/s]\n"
     ]
    },
    {
     "name": "stdout",
     "output_type": "stream",
     "text": [
      "acc: 82.000%, f1: 0.870\n",
      "layer: 3, position: 5\n"
     ]
    },
    {
     "name": "stderr",
     "output_type": "stream",
     "text": [
      "100%|██████████| 100/100 [00:00<00:00, 394.88it/s]\n",
      "100%|██████████| 50/50 [00:00<00:00, 318.08it/s]\n"
     ]
    },
    {
     "name": "stdout",
     "output_type": "stream",
     "text": [
      "acc: 100.000%, f1: 1.000\n",
      "layer: 3, position: 6\n"
     ]
    },
    {
     "name": "stderr",
     "output_type": "stream",
     "text": [
      "100%|██████████| 100/100 [00:00<00:00, 289.26it/s]\n",
      "100%|██████████| 50/50 [00:00<00:00, 339.21it/s]\n"
     ]
    },
    {
     "name": "stdout",
     "output_type": "stream",
     "text": [
      "acc: 100.000%, f1: 1.000\n",
      "layer: 3, position: 7\n"
     ]
    },
    {
     "name": "stderr",
     "output_type": "stream",
     "text": [
      "100%|██████████| 100/100 [00:00<00:00, 384.67it/s]\n",
      "100%|██████████| 50/50 [00:00<00:00, 337.17it/s]\n"
     ]
    },
    {
     "name": "stdout",
     "output_type": "stream",
     "text": [
      "acc: 100.000%, f1: 1.000\n",
      "layer: 3, position: 8\n"
     ]
    },
    {
     "name": "stderr",
     "output_type": "stream",
     "text": [
      "100%|██████████| 100/100 [00:00<00:00, 370.38it/s]\n",
      "100%|██████████| 50/50 [00:00<00:00, 366.28it/s]\n"
     ]
    },
    {
     "name": "stdout",
     "output_type": "stream",
     "text": [
      "acc: 100.000%, f1: 1.000\n",
      "layer: 3, position: 9\n"
     ]
    },
    {
     "name": "stderr",
     "output_type": "stream",
     "text": [
      "100%|██████████| 100/100 [00:00<00:00, 388.52it/s]\n",
      "100%|██████████| 50/50 [00:00<00:00, 338.26it/s]\n"
     ]
    },
    {
     "name": "stdout",
     "output_type": "stream",
     "text": [
      "acc: 100.000%, f1: 1.000\n",
      "layer: 3, position: 10\n"
     ]
    },
    {
     "name": "stderr",
     "output_type": "stream",
     "text": [
      "100%|██████████| 100/100 [00:00<00:00, 364.09it/s]\n",
      "100%|██████████| 50/50 [00:00<00:00, 296.04it/s]\n"
     ]
    },
    {
     "name": "stdout",
     "output_type": "stream",
     "text": [
      "acc: 100.000%, f1: 1.000\n",
      "layer: 3, position: 11\n"
     ]
    },
    {
     "name": "stderr",
     "output_type": "stream",
     "text": [
      "100%|██████████| 100/100 [00:00<00:00, 300.90it/s]\n",
      "100%|██████████| 50/50 [00:00<00:00, 346.01it/s]\n"
     ]
    },
    {
     "name": "stdout",
     "output_type": "stream",
     "text": [
      "acc: 100.000%, f1: 1.000\n",
      "layer: 3, position: 12\n"
     ]
    },
    {
     "name": "stderr",
     "output_type": "stream",
     "text": [
      "100%|██████████| 100/100 [00:00<00:00, 379.99it/s]\n",
      "100%|██████████| 50/50 [00:00<00:00, 350.60it/s]\n"
     ]
    },
    {
     "name": "stdout",
     "output_type": "stream",
     "text": [
      "acc: 100.000%, f1: 1.000\n",
      "layer: 3, position: 13\n"
     ]
    },
    {
     "name": "stderr",
     "output_type": "stream",
     "text": [
      "100%|██████████| 100/100 [00:00<00:00, 375.89it/s]\n",
      "100%|██████████| 50/50 [00:00<00:00, 346.86it/s]\n"
     ]
    },
    {
     "name": "stdout",
     "output_type": "stream",
     "text": [
      "acc: 62.000%, f1: 0.689\n",
      "layer: 3, position: 14\n"
     ]
    },
    {
     "name": "stderr",
     "output_type": "stream",
     "text": [
      "100%|██████████| 100/100 [00:00<00:00, 343.21it/s]\n",
      "100%|██████████| 50/50 [00:00<00:00, 295.29it/s]\n"
     ]
    },
    {
     "name": "stdout",
     "output_type": "stream",
     "text": [
      "acc: 88.000%, f1: 0.903\n",
      "layer: 3, position: 15\n"
     ]
    },
    {
     "name": "stderr",
     "output_type": "stream",
     "text": [
      "100%|██████████| 100/100 [00:00<00:00, 330.04it/s]\n",
      "100%|██████████| 50/50 [00:00<00:00, 338.77it/s]\n"
     ]
    },
    {
     "name": "stdout",
     "output_type": "stream",
     "text": [
      "acc: 90.000%, f1: 0.923\n",
      "layer: 3, position: 16\n"
     ]
    },
    {
     "name": "stderr",
     "output_type": "stream",
     "text": [
      "100%|██████████| 100/100 [00:00<00:00, 336.98it/s]\n",
      "100%|██████████| 50/50 [00:00<00:00, 311.75it/s]\n"
     ]
    },
    {
     "name": "stdout",
     "output_type": "stream",
     "text": [
      "acc: 98.000%, f1: 0.984\n",
      "layer: 3, position: 17\n"
     ]
    },
    {
     "name": "stderr",
     "output_type": "stream",
     "text": [
      "100%|██████████| 100/100 [00:00<00:00, 325.30it/s]\n",
      "100%|██████████| 50/50 [00:00<00:00, 339.35it/s]\n"
     ]
    },
    {
     "name": "stdout",
     "output_type": "stream",
     "text": [
      "acc: 100.000%, f1: 1.000\n",
      "layer: 3, position: 18\n"
     ]
    },
    {
     "name": "stderr",
     "output_type": "stream",
     "text": [
      "100%|██████████| 100/100 [00:00<00:00, 371.98it/s]\n",
      "100%|██████████| 50/50 [00:00<00:00, 312.42it/s]\n"
     ]
    },
    {
     "name": "stdout",
     "output_type": "stream",
     "text": [
      "acc: 76.000%, f1: 0.800\n",
      "layer: 3, position: 19\n"
     ]
    },
    {
     "name": "stderr",
     "output_type": "stream",
     "text": [
      "100%|██████████| 100/100 [00:00<00:00, 366.76it/s]\n",
      "100%|██████████| 50/50 [00:00<00:00, 348.80it/s]\n"
     ]
    },
    {
     "name": "stdout",
     "output_type": "stream",
     "text": [
      "acc: 82.000%, f1: 0.866\n",
      "layer: 3, position: 20\n"
     ]
    },
    {
     "name": "stderr",
     "output_type": "stream",
     "text": [
      "100%|██████████| 100/100 [00:00<00:00, 393.42it/s]\n",
      "100%|██████████| 50/50 [00:00<00:00, 299.33it/s]\n"
     ]
    },
    {
     "name": "stdout",
     "output_type": "stream",
     "text": [
      "acc: 100.000%, f1: 1.000\n",
      "layer: 3, position: 21\n"
     ]
    },
    {
     "name": "stderr",
     "output_type": "stream",
     "text": [
      "100%|██████████| 100/100 [00:00<00:00, 394.28it/s]\n",
      "100%|██████████| 50/50 [00:00<00:00, 388.95it/s]\n"
     ]
    },
    {
     "name": "stdout",
     "output_type": "stream",
     "text": [
      "acc: 100.000%, f1: 1.000\n",
      "layer: 4, position: 0\n"
     ]
    },
    {
     "name": "stderr",
     "output_type": "stream",
     "text": [
      "100%|██████████| 100/100 [00:00<00:00, 386.62it/s]\n",
      "100%|██████████| 50/50 [00:00<00:00, 342.53it/s]\n"
     ]
    },
    {
     "name": "stdout",
     "output_type": "stream",
     "text": [
      "acc: 60.000%, f1: 0.750\n",
      "layer: 4, position: 1\n"
     ]
    },
    {
     "name": "stderr",
     "output_type": "stream",
     "text": [
      "100%|██████████| 100/100 [00:00<00:00, 346.71it/s]\n",
      "100%|██████████| 50/50 [00:00<00:00, 338.09it/s]\n"
     ]
    },
    {
     "name": "stdout",
     "output_type": "stream",
     "text": [
      "acc: 82.000%, f1: 0.870\n",
      "layer: 4, position: 2\n"
     ]
    },
    {
     "name": "stderr",
     "output_type": "stream",
     "text": [
      "100%|██████████| 100/100 [00:00<00:00, 386.42it/s]\n",
      "100%|██████████| 50/50 [00:00<00:00, 335.66it/s]\n"
     ]
    },
    {
     "name": "stdout",
     "output_type": "stream",
     "text": [
      "acc: 82.000%, f1: 0.870\n",
      "layer: 4, position: 3\n"
     ]
    },
    {
     "name": "stderr",
     "output_type": "stream",
     "text": [
      "100%|██████████| 100/100 [00:00<00:00, 316.63it/s]\n",
      "100%|██████████| 50/50 [00:00<00:00, 333.36it/s]\n"
     ]
    },
    {
     "name": "stdout",
     "output_type": "stream",
     "text": [
      "acc: 82.000%, f1: 0.870\n",
      "layer: 4, position: 4\n"
     ]
    },
    {
     "name": "stderr",
     "output_type": "stream",
     "text": [
      "100%|██████████| 100/100 [00:00<00:00, 275.91it/s]\n",
      "100%|██████████| 50/50 [00:00<00:00, 320.93it/s]\n"
     ]
    },
    {
     "name": "stdout",
     "output_type": "stream",
     "text": [
      "acc: 82.000%, f1: 0.870\n",
      "layer: 4, position: 5\n"
     ]
    },
    {
     "name": "stderr",
     "output_type": "stream",
     "text": [
      "100%|██████████| 100/100 [00:00<00:00, 341.35it/s]\n",
      "100%|██████████| 50/50 [00:00<00:00, 322.06it/s]\n"
     ]
    },
    {
     "name": "stdout",
     "output_type": "stream",
     "text": [
      "acc: 100.000%, f1: 1.000\n",
      "layer: 4, position: 6\n"
     ]
    },
    {
     "name": "stderr",
     "output_type": "stream",
     "text": [
      "100%|██████████| 100/100 [00:00<00:00, 309.65it/s]\n",
      "100%|██████████| 50/50 [00:00<00:00, 335.03it/s]\n"
     ]
    },
    {
     "name": "stdout",
     "output_type": "stream",
     "text": [
      "acc: 100.000%, f1: 1.000\n",
      "layer: 4, position: 7\n"
     ]
    },
    {
     "name": "stderr",
     "output_type": "stream",
     "text": [
      "100%|██████████| 100/100 [00:00<00:00, 328.43it/s]\n",
      "100%|██████████| 50/50 [00:00<00:00, 328.24it/s]\n"
     ]
    },
    {
     "name": "stdout",
     "output_type": "stream",
     "text": [
      "acc: 100.000%, f1: 1.000\n",
      "layer: 4, position: 8\n"
     ]
    },
    {
     "name": "stderr",
     "output_type": "stream",
     "text": [
      "100%|██████████| 100/100 [00:00<00:00, 364.29it/s]\n",
      "100%|██████████| 50/50 [00:00<00:00, 342.21it/s]\n"
     ]
    },
    {
     "name": "stdout",
     "output_type": "stream",
     "text": [
      "acc: 100.000%, f1: 1.000\n",
      "layer: 4, position: 9\n"
     ]
    },
    {
     "name": "stderr",
     "output_type": "stream",
     "text": [
      "100%|██████████| 100/100 [00:00<00:00, 326.41it/s]\n",
      "100%|██████████| 50/50 [00:00<00:00, 348.63it/s]\n"
     ]
    },
    {
     "name": "stdout",
     "output_type": "stream",
     "text": [
      "acc: 100.000%, f1: 1.000\n",
      "layer: 4, position: 10\n"
     ]
    },
    {
     "name": "stderr",
     "output_type": "stream",
     "text": [
      "100%|██████████| 100/100 [00:00<00:00, 390.07it/s]\n",
      "100%|██████████| 50/50 [00:00<00:00, 353.59it/s]\n"
     ]
    },
    {
     "name": "stdout",
     "output_type": "stream",
     "text": [
      "acc: 100.000%, f1: 1.000\n",
      "layer: 4, position: 11\n"
     ]
    },
    {
     "name": "stderr",
     "output_type": "stream",
     "text": [
      "100%|██████████| 100/100 [00:00<00:00, 355.81it/s]\n",
      "100%|██████████| 50/50 [00:00<00:00, 353.17it/s]\n"
     ]
    },
    {
     "name": "stdout",
     "output_type": "stream",
     "text": [
      "acc: 100.000%, f1: 1.000\n",
      "layer: 4, position: 12\n"
     ]
    },
    {
     "name": "stderr",
     "output_type": "stream",
     "text": [
      "100%|██████████| 100/100 [00:00<00:00, 349.63it/s]\n",
      "100%|██████████| 50/50 [00:00<00:00, 330.85it/s]\n"
     ]
    },
    {
     "name": "stdout",
     "output_type": "stream",
     "text": [
      "acc: 100.000%, f1: 1.000\n",
      "layer: 4, position: 13\n"
     ]
    },
    {
     "name": "stderr",
     "output_type": "stream",
     "text": [
      "100%|██████████| 100/100 [00:00<00:00, 334.12it/s]\n",
      "100%|██████████| 50/50 [00:00<00:00, 341.55it/s]\n"
     ]
    },
    {
     "name": "stdout",
     "output_type": "stream",
     "text": [
      "acc: 66.000%, f1: 0.721\n",
      "layer: 4, position: 14\n"
     ]
    },
    {
     "name": "stderr",
     "output_type": "stream",
     "text": [
      "100%|██████████| 100/100 [00:00<00:00, 368.27it/s]\n",
      "100%|██████████| 50/50 [00:00<00:00, 303.51it/s]\n"
     ]
    },
    {
     "name": "stdout",
     "output_type": "stream",
     "text": [
      "acc: 86.000%, f1: 0.889\n",
      "layer: 4, position: 15\n"
     ]
    },
    {
     "name": "stderr",
     "output_type": "stream",
     "text": [
      "100%|██████████| 100/100 [00:00<00:00, 358.89it/s]\n",
      "100%|██████████| 50/50 [00:00<00:00, 334.06it/s]\n"
     ]
    },
    {
     "name": "stdout",
     "output_type": "stream",
     "text": [
      "acc: 100.000%, f1: 1.000\n",
      "layer: 4, position: 16\n"
     ]
    },
    {
     "name": "stderr",
     "output_type": "stream",
     "text": [
      "100%|██████████| 100/100 [00:00<00:00, 376.24it/s]\n",
      "100%|██████████| 50/50 [00:00<00:00, 352.75it/s]\n"
     ]
    },
    {
     "name": "stdout",
     "output_type": "stream",
     "text": [
      "acc: 100.000%, f1: 1.000\n",
      "layer: 4, position: 17\n"
     ]
    },
    {
     "name": "stderr",
     "output_type": "stream",
     "text": [
      "100%|██████████| 100/100 [00:00<00:00, 359.20it/s]\n",
      "100%|██████████| 50/50 [00:00<00:00, 348.50it/s]\n"
     ]
    },
    {
     "name": "stdout",
     "output_type": "stream",
     "text": [
      "acc: 100.000%, f1: 1.000\n",
      "layer: 4, position: 18\n"
     ]
    },
    {
     "name": "stderr",
     "output_type": "stream",
     "text": [
      "100%|██████████| 100/100 [00:00<00:00, 336.81it/s]\n",
      "100%|██████████| 50/50 [00:00<00:00, 351.52it/s]\n"
     ]
    },
    {
     "name": "stdout",
     "output_type": "stream",
     "text": [
      "acc: 82.000%, f1: 0.852\n",
      "layer: 4, position: 19\n"
     ]
    },
    {
     "name": "stderr",
     "output_type": "stream",
     "text": [
      "100%|██████████| 100/100 [00:00<00:00, 349.87it/s]\n",
      "100%|██████████| 50/50 [00:00<00:00, 357.16it/s]\n"
     ]
    },
    {
     "name": "stdout",
     "output_type": "stream",
     "text": [
      "acc: 86.000%, f1: 0.889\n",
      "layer: 4, position: 20\n"
     ]
    },
    {
     "name": "stderr",
     "output_type": "stream",
     "text": [
      "100%|██████████| 100/100 [00:00<00:00, 378.84it/s]\n",
      "100%|██████████| 50/50 [00:00<00:00, 330.68it/s]\n"
     ]
    },
    {
     "name": "stdout",
     "output_type": "stream",
     "text": [
      "acc: 100.000%, f1: 1.000\n",
      "layer: 4, position: 21\n"
     ]
    },
    {
     "name": "stderr",
     "output_type": "stream",
     "text": [
      "100%|██████████| 100/100 [00:00<00:00, 370.74it/s]\n",
      "100%|██████████| 50/50 [00:00<00:00, 337.43it/s]\n"
     ]
    },
    {
     "name": "stdout",
     "output_type": "stream",
     "text": [
      "acc: 100.000%, f1: 1.000\n",
      "layer: 5, position: 0\n"
     ]
    },
    {
     "name": "stderr",
     "output_type": "stream",
     "text": [
      "100%|██████████| 100/100 [00:00<00:00, 357.33it/s]\n",
      "100%|██████████| 50/50 [00:00<00:00, 364.55it/s]\n"
     ]
    },
    {
     "name": "stdout",
     "output_type": "stream",
     "text": [
      "acc: 60.000%, f1: 0.750\n",
      "layer: 5, position: 1\n"
     ]
    },
    {
     "name": "stderr",
     "output_type": "stream",
     "text": [
      "100%|██████████| 100/100 [00:00<00:00, 415.82it/s]\n",
      "100%|██████████| 50/50 [00:00<00:00, 360.68it/s]\n"
     ]
    },
    {
     "name": "stdout",
     "output_type": "stream",
     "text": [
      "acc: 82.000%, f1: 0.870\n",
      "layer: 5, position: 2\n"
     ]
    },
    {
     "name": "stderr",
     "output_type": "stream",
     "text": [
      "100%|██████████| 100/100 [00:00<00:00, 405.34it/s]\n",
      "100%|██████████| 50/50 [00:00<00:00, 362.05it/s]\n"
     ]
    },
    {
     "name": "stdout",
     "output_type": "stream",
     "text": [
      "acc: 82.000%, f1: 0.870\n",
      "layer: 5, position: 3\n"
     ]
    },
    {
     "name": "stderr",
     "output_type": "stream",
     "text": [
      "100%|██████████| 100/100 [00:00<00:00, 404.40it/s]\n",
      "100%|██████████| 50/50 [00:00<00:00, 322.71it/s]\n"
     ]
    },
    {
     "name": "stdout",
     "output_type": "stream",
     "text": [
      "acc: 82.000%, f1: 0.870\n",
      "layer: 5, position: 4\n"
     ]
    },
    {
     "name": "stderr",
     "output_type": "stream",
     "text": [
      "100%|██████████| 100/100 [00:00<00:00, 390.77it/s]\n",
      "100%|██████████| 50/50 [00:00<00:00, 358.08it/s]\n"
     ]
    },
    {
     "name": "stdout",
     "output_type": "stream",
     "text": [
      "acc: 82.000%, f1: 0.870\n",
      "layer: 5, position: 5\n"
     ]
    },
    {
     "name": "stderr",
     "output_type": "stream",
     "text": [
      "100%|██████████| 100/100 [00:00<00:00, 385.48it/s]\n",
      "100%|██████████| 50/50 [00:00<00:00, 350.74it/s]\n"
     ]
    },
    {
     "name": "stdout",
     "output_type": "stream",
     "text": [
      "acc: 100.000%, f1: 1.000\n",
      "layer: 5, position: 6\n"
     ]
    },
    {
     "name": "stderr",
     "output_type": "stream",
     "text": [
      "100%|██████████| 100/100 [00:00<00:00, 407.02it/s]\n",
      "100%|██████████| 50/50 [00:00<00:00, 355.43it/s]\n"
     ]
    },
    {
     "name": "stdout",
     "output_type": "stream",
     "text": [
      "acc: 100.000%, f1: 1.000\n",
      "layer: 5, position: 7\n"
     ]
    },
    {
     "name": "stderr",
     "output_type": "stream",
     "text": [
      "100%|██████████| 100/100 [00:00<00:00, 386.83it/s]\n",
      "100%|██████████| 50/50 [00:00<00:00, 365.16it/s]\n"
     ]
    },
    {
     "name": "stdout",
     "output_type": "stream",
     "text": [
      "acc: 100.000%, f1: 1.000\n",
      "layer: 5, position: 8\n"
     ]
    },
    {
     "name": "stderr",
     "output_type": "stream",
     "text": [
      "100%|██████████| 100/100 [00:00<00:00, 379.51it/s]\n",
      "100%|██████████| 50/50 [00:00<00:00, 345.31it/s]\n"
     ]
    },
    {
     "name": "stdout",
     "output_type": "stream",
     "text": [
      "acc: 100.000%, f1: 1.000\n",
      "layer: 5, position: 9\n"
     ]
    },
    {
     "name": "stderr",
     "output_type": "stream",
     "text": [
      "100%|██████████| 100/100 [00:00<00:00, 410.67it/s]\n",
      "100%|██████████| 50/50 [00:00<00:00, 357.94it/s]\n"
     ]
    },
    {
     "name": "stdout",
     "output_type": "stream",
     "text": [
      "acc: 100.000%, f1: 1.000\n",
      "layer: 5, position: 10\n"
     ]
    },
    {
     "name": "stderr",
     "output_type": "stream",
     "text": [
      "100%|██████████| 100/100 [00:00<00:00, 340.35it/s]\n",
      "100%|██████████| 50/50 [00:00<00:00, 351.70it/s]\n"
     ]
    },
    {
     "name": "stdout",
     "output_type": "stream",
     "text": [
      "acc: 100.000%, f1: 1.000\n",
      "layer: 5, position: 11\n"
     ]
    },
    {
     "name": "stderr",
     "output_type": "stream",
     "text": [
      "100%|██████████| 100/100 [00:00<00:00, 377.48it/s]\n",
      "100%|██████████| 50/50 [00:00<00:00, 385.48it/s]\n"
     ]
    },
    {
     "name": "stdout",
     "output_type": "stream",
     "text": [
      "acc: 100.000%, f1: 1.000\n",
      "layer: 5, position: 12\n"
     ]
    },
    {
     "name": "stderr",
     "output_type": "stream",
     "text": [
      "100%|██████████| 100/100 [00:00<00:00, 353.36it/s]\n",
      "100%|██████████| 50/50 [00:00<00:00, 348.52it/s]\n"
     ]
    },
    {
     "name": "stdout",
     "output_type": "stream",
     "text": [
      "acc: 100.000%, f1: 1.000\n",
      "layer: 5, position: 13\n"
     ]
    },
    {
     "name": "stderr",
     "output_type": "stream",
     "text": [
      "100%|██████████| 100/100 [00:00<00:00, 386.89it/s]\n",
      "100%|██████████| 50/50 [00:00<00:00, 357.46it/s]\n"
     ]
    },
    {
     "name": "stdout",
     "output_type": "stream",
     "text": [
      "acc: 70.000%, f1: 0.754\n",
      "layer: 5, position: 14\n"
     ]
    },
    {
     "name": "stderr",
     "output_type": "stream",
     "text": [
      "100%|██████████| 100/100 [00:00<00:00, 367.14it/s]\n",
      "100%|██████████| 50/50 [00:00<00:00, 305.00it/s]\n"
     ]
    },
    {
     "name": "stdout",
     "output_type": "stream",
     "text": [
      "acc: 94.000%, f1: 0.952\n",
      "layer: 5, position: 15\n"
     ]
    },
    {
     "name": "stderr",
     "output_type": "stream",
     "text": [
      "100%|██████████| 100/100 [00:00<00:00, 360.82it/s]\n",
      "100%|██████████| 50/50 [00:00<00:00, 357.65it/s]\n"
     ]
    },
    {
     "name": "stdout",
     "output_type": "stream",
     "text": [
      "acc: 100.000%, f1: 1.000\n",
      "layer: 5, position: 16\n"
     ]
    },
    {
     "name": "stderr",
     "output_type": "stream",
     "text": [
      "100%|██████████| 100/100 [00:00<00:00, 389.82it/s]\n",
      "100%|██████████| 50/50 [00:00<00:00, 356.16it/s]\n"
     ]
    },
    {
     "name": "stdout",
     "output_type": "stream",
     "text": [
      "acc: 100.000%, f1: 1.000\n",
      "layer: 5, position: 17\n"
     ]
    },
    {
     "name": "stderr",
     "output_type": "stream",
     "text": [
      "100%|██████████| 100/100 [00:00<00:00, 359.53it/s]\n",
      "100%|██████████| 50/50 [00:00<00:00, 354.01it/s]\n"
     ]
    },
    {
     "name": "stdout",
     "output_type": "stream",
     "text": [
      "acc: 100.000%, f1: 1.000\n",
      "layer: 5, position: 18\n"
     ]
    },
    {
     "name": "stderr",
     "output_type": "stream",
     "text": [
      "100%|██████████| 100/100 [00:00<00:00, 339.99it/s]\n",
      "100%|██████████| 50/50 [00:00<00:00, 359.58it/s]\n"
     ]
    },
    {
     "name": "stdout",
     "output_type": "stream",
     "text": [
      "acc: 90.000%, f1: 0.921\n",
      "layer: 5, position: 19\n"
     ]
    },
    {
     "name": "stderr",
     "output_type": "stream",
     "text": [
      "100%|██████████| 100/100 [00:00<00:00, 335.26it/s]\n",
      "100%|██████████| 50/50 [00:00<00:00, 339.29it/s]\n"
     ]
    },
    {
     "name": "stdout",
     "output_type": "stream",
     "text": [
      "acc: 96.000%, f1: 0.968\n",
      "layer: 5, position: 20\n"
     ]
    },
    {
     "name": "stderr",
     "output_type": "stream",
     "text": [
      "100%|██████████| 100/100 [00:00<00:00, 387.38it/s]\n",
      "100%|██████████| 50/50 [00:00<00:00, 331.24it/s]\n"
     ]
    },
    {
     "name": "stdout",
     "output_type": "stream",
     "text": [
      "acc: 100.000%, f1: 1.000\n",
      "layer: 5, position: 21\n"
     ]
    },
    {
     "name": "stderr",
     "output_type": "stream",
     "text": [
      "100%|██████████| 100/100 [00:00<00:00, 366.39it/s]\n",
      "100%|██████████| 50/50 [00:00<00:00, 356.12it/s]"
     ]
    },
    {
     "name": "stdout",
     "output_type": "stream",
     "text": [
      "acc: 100.000%, f1: 1.000\n"
     ]
    },
    {
     "name": "stderr",
     "output_type": "stream",
     "text": [
      "\n"
     ]
    }
   ],
   "source": [
    "# intervention settings\n",
    "stats = []\n",
    "num_layers = gpt.config.num_hidden_layers\n",
    "\n",
    "# 11260 = \" birds\", 16581 = \" cats\"\n",
    "label_mapping = {11260: 0, 16581: 1}\n",
    "\n",
    "sample_length_in_tokens = 22\n",
    "\n",
    "# loop over layers and positions\n",
    "with torch.no_grad():\n",
    "    for layer in range(num_layers):\n",
    "        for position in range(sample_length_in_tokens):\n",
    "            print(f\"layer: {layer}, position: {position}\")\n",
    "\n",
    "            # set up intervenable model\n",
    "            config = probing_config(\"block_output\", layer)\n",
    "            intervenable = pv.IntervenableModel(config, gpt)\n",
    "            intervenable.set_device(device)\n",
    "            intervenable.disable_model_gradients()\n",
    "\n",
    "            # training loop\n",
    "            activations, labels = [], []\n",
    "            iterator = tqdm(trainset)\n",
    "            for example in iterator:\n",
    "                # forward pass\n",
    "                base_outputs, _ = intervenable(\n",
    "                    example.base,\n",
    "                    unit_locations={\"base\": position},\n",
    "                )\n",
    "                base_activations = base_outputs[1][0]\n",
    "\n",
    "                # collect activation\n",
    "                activations.extend(\n",
    "                    [\n",
    "                        base_activations.detach()[0].cpu().numpy(),\n",
    "                    ]\n",
    "                )\n",
    "                labels.extend([example.base_label])\n",
    "            labels = [label_mapping[label] for label in labels]\n",
    "\n",
    "            # train logistic regression\n",
    "            lr = LogisticRegression(random_state=42, max_iter=1000).fit(\n",
    "                activations, labels\n",
    "            )\n",
    "\n",
    "            # eval\n",
    "            activations, labels = [], []\n",
    "            iterator = tqdm(evalset)\n",
    "            for example in iterator:\n",
    "                # forward pass\n",
    "                base_outputs, _ = intervenable(\n",
    "                    example.base,\n",
    "                    unit_locations={\"base\": position},\n",
    "                )\n",
    "                base_activations = base_outputs[1][0]\n",
    "\n",
    "                # collect activation\n",
    "                activations.extend(\n",
    "                    [\n",
    "                        base_activations.detach()[0].cpu().numpy(),\n",
    "                    ]\n",
    "                )\n",
    "                labels.extend([example.base_label])\n",
    "            labels = [label_mapping[label] for label in labels]\n",
    "\n",
    "            # stats\n",
    "            acc = lr.score(activations, labels)\n",
    "            f1 = f1_score(labels, lr.predict(activations))\n",
    "            stats.append({\"layer\": layer, \"position\": position, \"acc\": acc, \"f1\": f1})\n",
    "            print(f\"acc: {acc:.3%}, f1: {f1:.3f}\")\n",
    "df = pd.DataFrame(stats)\n",
    "df.to_csv(f\"./pyvene_babi_nli_deduction_{model_size}.csv\")"
   ]
  },
  {
   "cell_type": "code",
   "execution_count": 47,
   "metadata": {},
   "outputs": [
    {
     "name": "stderr",
     "output_type": "stream",
     "text": [
      "/mnt/m2-mint/nlp-winter2024/env/lib/python3.8/site-packages/plotnine/ggplot.py:587: PlotnineWarning: Saving 6.4 x 4.8 in image.\n",
      "/mnt/m2-mint/nlp-winter2024/env/lib/python3.8/site-packages/plotnine/ggplot.py:588: PlotnineWarning: Filename: ./pyvene_babi_nli_deduction_70m.pdf\n"
     ]
    },
    {
     "data": {
      "image/png": "[encoded data removed]",
      "text/plain": [
       "<Figure size 640x480 with 1 Axes>"
      ]
     },
     "metadata": {
      "image/png": {
       "height": 480,
       "width": 640
      }
     },
     "output_type": "display_data"
    },
    {
     "name": "stdout",
     "output_type": "stream",
     "text": [
      "\n"
     ]
    }
   ],
   "source": [
    "from plotnine import (\n",
    "    ggplot,\n",
    "    geom_tile,\n",
    "    aes,\n",
    "    facet_wrap,\n",
    "    theme,\n",
    "    element_text,\n",
    "    geom_bar,\n",
    "    geom_hline,\n",
    "    scale_y_log10,\n",
    "    geom_line,\n",
    "    geom_point,\n",
    "    geom_text,\n",
    "    ggtitle,\n",
    "    xlab,\n",
    "    ylab,\n",
    "    ggsave,\n",
    ")\n",
    "from plotnine.scales import scale_y_reverse, scale_fill_cmap\n",
    "\n",
    "df = pd.read_csv(f\"./pyvene_babi_nli_deduction_{model_size}.csv\")\n",
    "df[\"layer\"] = df[\"layer\"].astype(int)\n",
    "df[\"pos\"] = df[\"position\"].astype(int)\n",
    "df[\"ACC\"] = df[\"acc\"].astype(float)\n",
    "\n",
    "custom_labels = [\n",
    "    \"EOS\",\n",
    "    \"<animals1>\",\n",
    "    \"are\",\n",
    "    \"afraid\",\n",
    "    \"of\",\n",
    "    \"<animals2>\",\n",
    "    \".\",\n",
    "    \"<animals3\",\n",
    "    \"are\",\n",
    "    \"afraid\",\n",
    "    \"of\",\n",
    "    \"<animals4>\",\n",
    "    \".\",\n",
    "    \"<name>\",\n",
    "    \"is\",\n",
    "    \"a\",\n",
    "    \"<animal1>\",\n",
    "    \".\",\n",
    "    \"<name>\",\n",
    "    \"is\",\n",
    "    \"afraid\",\n",
    "    \"of\",\n",
    "]\n",
    "breaks = list(range(len(custom_labels)))\n",
    "\n",
    "plot = (\n",
    "    ggplot(df, aes(x=\"layer\", y=\"pos\", fill=\"ACC\"))\n",
    "    + geom_tile()\n",
    "    + scale_fill_cmap(\"Reds\")\n",
    "    + xlab(\"layers\")\n",
    "    + scale_y_reverse(breaks=breaks, labels=custom_labels)\n",
    "    + ylab(\"\")\n",
    "    + theme(axis_text_y=element_text(angle=0, hjust=1))\n",
    "    + ggtitle(f\"Trained Linear Probe, Pythia-{model_size}\")\n",
    ")\n",
    "ggsave(plot, filename=f\"./pyvene_babi_nli_deduction_{model_size}.pdf\", dpi=200)\n",
    "print(plot)"
   ]
  }
 ],
 "metadata": {
  "kernelspec": {
   "display_name": "env",
   "language": "python",
   "name": "python3"
  },
  "language_info": {
   "codemirror_mode": {
    "name": "ipython",
    "version": 3
   },
   "file_extension": ".py",
   "mimetype": "text/x-python",
   "name": "python",
   "nbconvert_exporter": "python",
   "pygments_lexer": "ipython3",
   "version": "3.8.18"
  }
 },
 "nbformat": 4,
 "nbformat_minor": 2
}
